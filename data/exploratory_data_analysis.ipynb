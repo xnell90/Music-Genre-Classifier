{
 "cells": [
  {
   "cell_type": "markdown",
   "metadata": {},
   "source": [
    "# Exploratory Data Analysis\n",
    "\n",
    "*Coming Soon...*"
   ]
  },
  {
   "cell_type": "markdown",
   "metadata": {},
   "source": [
    "## Introduction\n",
    "\n",
    "*Coming Soon...*"
   ]
  },
  {
   "cell_type": "markdown",
   "metadata": {},
   "source": [
    "## Mel Spectrogram\n",
    "\n",
    "A spectrogram is a 2D representation of a signal, having time on the x-axis and frequency on the y-axis.\n",
    "\n",
    "*Coming Soon...*"
   ]
  },
  {
   "cell_type": "markdown",
   "metadata": {},
   "source": [
    "## Other Features\n",
    "\n",
    "Time Domain Features\n",
    " * Central Moments: (mean, standard deviation, skewness and kurtosis of the amplitude of the signal)\n",
    " * Zero Crossing Rate\n",
    " * Root Mean Square Energy\n",
    " * Tempo\n",
    " \n",
    "Frequency Domain Features\n",
    " * Mel-Frequency Cepstral Coefficients\n",
    " * Chroma Features\n",
    " * Spectral Centroid\n",
    " * Spectral Band-with\n",
    "\n",
    "*Coming Soon...*"
   ]
  }
 ],
 "metadata": {
  "kernelspec": {
   "display_name": "Python 3",
   "language": "python",
   "name": "python3"
  },
  "language_info": {
   "codemirror_mode": {
    "name": "ipython",
    "version": 3
   },
   "file_extension": ".py",
   "mimetype": "text/x-python",
   "name": "python",
   "nbconvert_exporter": "python",
   "pygments_lexer": "ipython3",
   "version": "3.7.4"
  }
 },
 "nbformat": 4,
 "nbformat_minor": 4
}
