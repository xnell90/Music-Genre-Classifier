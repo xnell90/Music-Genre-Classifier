{
 "cells": [
  {
   "cell_type": "markdown",
   "metadata": {},
   "source": [
    "# Exploratory Data Analysis"
   ]
  },
  {
   "cell_type": "markdown",
   "metadata": {},
   "source": [
    "After extracting the music data from multiple sources, we will now begin exploring the pre-cleaned music dataset. For more information how it was extracted and wrangled, please feel free to explore any of the the *_scripts* folders and read the README.md file. As a refresher, let's re-examine the music files that constitute our dataset."
   ]
  },
  {
   "cell_type": "code",
   "execution_count": 1,
   "metadata": {},
   "outputs": [],
   "source": [
    "import os\n",
    "import pandas as pd"
   ]
  },
  {
   "cell_type": "markdown",
   "metadata": {},
   "source": [
    "Here are the five genres in my dataset. Let's count how many tracks are there in each of the categories."
   ]
  },
  {
   "cell_type": "code",
   "execution_count": 2,
   "metadata": {},
   "outputs": [
    {
     "name": "stdout",
     "output_type": "stream",
     "text": [
      "hip-hop             :        582\n",
      "soundtrack          :        582\n",
      "pop                 :        541\n",
      "rock                :        541\n",
      "jazz                :        564\n",
      "--------------------------------\n",
      "Total Tracks        :       2810\n"
     ]
    }
   ],
   "source": [
    "cwd = os.getcwd()\n",
    "categories = os.listdir('genres/')\n",
    "\n",
    "count = 0\n",
    "for genre in categories:\n",
    "    music_file_directory = cwd + '/genres/' + genre\n",
    "    music_file_list = os.listdir(music_file_directory)\n",
    "    \n",
    "    genre_count = len(music_file_list)\n",
    "    count += genre_count\n",
    "    print('{:20s}: {:10d}'.format(genre, genre_count))\n",
    "\n",
    "print(\"-\"*32)\n",
    "print('{:20s}: {:10d}'.format('Total Tracks', count))"
   ]
  },
  {
   "cell_type": "markdown",
   "metadata": {},
   "source": [
    "For reference, we will create a pandas dataframe that represents the metadata of the dataset. For now, the dataframe has two columns, the first will be the file location, and the second will be the track's genre."
   ]
  },
  {
   "cell_type": "code",
   "execution_count": 3,
   "metadata": {},
   "outputs": [],
   "source": [
    "file_locations = []\n",
    "genres = []\n",
    "\n",
    "for genre in categories:\n",
    "    genre_file_directory = cwd + '/genres/' + genre\n",
    "    genre_file_list = os.listdir(genre_file_directory)\n",
    "    \n",
    "    for file in genre_file_list:\n",
    "        file_location = genre_file_directory + '/' + file\n",
    "        file_locations.append(file_location)\n",
    "        genres.append(genre)\n",
    "        \n",
    "music_df = pd.DataFrame(\n",
    "    {\n",
    "        'file_location': file_locations,\n",
    "        'genre': genres\n",
    "    }\n",
    ")\n",
    "\n",
    "music_df = music_df.sample(frac=1)\n",
    "music_df.to_csv('metadata.csv', index=False)"
   ]
  },
  {
   "cell_type": "markdown",
   "metadata": {},
   "source": [
    "## Mel Spectrogram\n",
    "\n",
    "A spectrogram is a 2D representation of a signal, having time on the x-axis and frequency on the y-axis.\n",
    "\n",
    "*Coming Soon...*"
   ]
  },
  {
   "cell_type": "markdown",
   "metadata": {},
   "source": [
    "## Other Features\n",
    "\n",
    "Time Domain Features\n",
    " * Central Moments: (mean, standard deviation, skewness and kurtosis of the amplitude of the signal)\n",
    " * Zero Crossing Rate\n",
    " * Root Mean Square Energy\n",
    " * Tempo\n",
    " \n",
    "Frequency Domain Features\n",
    " * Mel-Frequency Cepstral Coefficients\n",
    " * Chroma Features\n",
    " * Spectral Centroid\n",
    " * Spectral Band-with\n",
    "\n",
    "*Coming Soon...*"
   ]
  }
 ],
 "metadata": {
  "kernelspec": {
   "display_name": "Python 3",
   "language": "python",
   "name": "python3"
  },
  "language_info": {
   "codemirror_mode": {
    "name": "ipython",
    "version": 3
   },
   "file_extension": ".py",
   "mimetype": "text/x-python",
   "name": "python",
   "nbconvert_exporter": "python",
   "pygments_lexer": "ipython3",
   "version": "3.7.4"
  }
 },
 "nbformat": 4,
 "nbformat_minor": 4
}
