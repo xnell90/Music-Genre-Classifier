{
 "cells": [
  {
   "cell_type": "markdown",
   "metadata": {},
   "source": [
    "# Exploratory Data Analysis (Personal Music Collection Metadata)"
   ]
  },
  {
   "cell_type": "markdown",
   "metadata": {},
   "source": [
    "### Load The Metadata"
   ]
  },
  {
   "cell_type": "code",
   "execution_count": 1,
   "metadata": {},
   "outputs": [
    {
     "data": {
      "text/html": [
       "<div>\n",
       "<style scoped>\n",
       "    .dataframe tbody tr th:only-of-type {\n",
       "        vertical-align: middle;\n",
       "    }\n",
       "\n",
       "    .dataframe tbody tr th {\n",
       "        vertical-align: top;\n",
       "    }\n",
       "\n",
       "    .dataframe thead th {\n",
       "        text-align: right;\n",
       "    }\n",
       "</style>\n",
       "<table border=\"1\" class=\"dataframe\">\n",
       "  <thead>\n",
       "    <tr style=\"text-align: right;\">\n",
       "      <th></th>\n",
       "      <th>Track ID</th>\n",
       "      <th>Name</th>\n",
       "      <th>Artist</th>\n",
       "      <th>Album</th>\n",
       "      <th>Genre</th>\n",
       "      <th>Location</th>\n",
       "      <th>Kind</th>\n",
       "      <th>Size</th>\n",
       "      <th>Total Time</th>\n",
       "    </tr>\n",
       "  </thead>\n",
       "  <tbody>\n",
       "    <tr>\n",
       "      <th>0</th>\n",
       "      <td>212</td>\n",
       "      <td>Over Overthinking You</td>\n",
       "      <td>Christina Grimmie</td>\n",
       "      <td>With Love</td>\n",
       "      <td>Pop</td>\n",
       "      <td>file:///Users/AlwynLopez/Music/iTunes/iTunes%2...</td>\n",
       "      <td>MPEG audio file</td>\n",
       "      <td>7438232</td>\n",
       "      <td>183457</td>\n",
       "    </tr>\n",
       "    <tr>\n",
       "      <th>1</th>\n",
       "      <td>214</td>\n",
       "      <td>Absolutely Final Goodbye</td>\n",
       "      <td>Christina Grimmie</td>\n",
       "      <td>With Love</td>\n",
       "      <td>Pop</td>\n",
       "      <td>file:///Users/AlwynLopez/Music/iTunes/iTunes%2...</td>\n",
       "      <td>MPEG audio file</td>\n",
       "      <td>6532311</td>\n",
       "      <td>160809</td>\n",
       "    </tr>\n",
       "    <tr>\n",
       "      <th>2</th>\n",
       "      <td>216</td>\n",
       "      <td>Make It Work</td>\n",
       "      <td>Christina Grimmie</td>\n",
       "      <td>With Love</td>\n",
       "      <td>Pop</td>\n",
       "      <td>file:///Users/AlwynLopez/Music/iTunes/iTunes%2...</td>\n",
       "      <td>MPEG audio file</td>\n",
       "      <td>9333659</td>\n",
       "      <td>230844</td>\n",
       "    </tr>\n",
       "    <tr>\n",
       "      <th>3</th>\n",
       "      <td>218</td>\n",
       "      <td>Get Yourself Together</td>\n",
       "      <td>Christina Grimmie</td>\n",
       "      <td>With Love</td>\n",
       "      <td>Pop</td>\n",
       "      <td>file:///Users/AlwynLopez/Music/iTunes/iTunes%2...</td>\n",
       "      <td>MPEG audio file</td>\n",
       "      <td>8606428</td>\n",
       "      <td>212662</td>\n",
       "    </tr>\n",
       "    <tr>\n",
       "      <th>4</th>\n",
       "      <td>220</td>\n",
       "      <td>With Love</td>\n",
       "      <td>Christina Grimmie</td>\n",
       "      <td>With Love</td>\n",
       "      <td>Pop</td>\n",
       "      <td>file:///Users/AlwynLopez/Music/iTunes/iTunes%2...</td>\n",
       "      <td>MPEG audio file</td>\n",
       "      <td>9618910</td>\n",
       "      <td>237975</td>\n",
       "    </tr>\n",
       "    <tr>\n",
       "      <th>...</th>\n",
       "      <td>...</td>\n",
       "      <td>...</td>\n",
       "      <td>...</td>\n",
       "      <td>...</td>\n",
       "      <td>...</td>\n",
       "      <td>...</td>\n",
       "      <td>...</td>\n",
       "      <td>...</td>\n",
       "      <td>...</td>\n",
       "    </tr>\n",
       "    <tr>\n",
       "      <th>874</th>\n",
       "      <td>1962</td>\n",
       "      <td>Anthems for a Seventeen Year Old Girl</td>\n",
       "      <td>Broken Social Scene</td>\n",
       "      <td>Scott Pilgrim Vs. the World</td>\n",
       "      <td>Rock</td>\n",
       "      <td>file:///Users/AlwynLopez/Music/iTunes/iTunes%2...</td>\n",
       "      <td>MPEG audio file</td>\n",
       "      <td>8899716</td>\n",
       "      <td>275670</td>\n",
       "    </tr>\n",
       "    <tr>\n",
       "      <th>875</th>\n",
       "      <td>1964</td>\n",
       "      <td>Scott Pilgrim</td>\n",
       "      <td>Plumtree</td>\n",
       "      <td>Scott Pilgrim Vs. the World</td>\n",
       "      <td>Rock</td>\n",
       "      <td>file:///Users/AlwynLopez/Music/iTunes/iTunes%2...</td>\n",
       "      <td>MPEG audio file</td>\n",
       "      <td>5889314</td>\n",
       "      <td>181968</td>\n",
       "    </tr>\n",
       "    <tr>\n",
       "      <th>876</th>\n",
       "      <td>1966</td>\n",
       "      <td>O Katrina!</td>\n",
       "      <td>Black Lips</td>\n",
       "      <td>Scott Pilgrim Vs. the World</td>\n",
       "      <td>Rock</td>\n",
       "      <td>file:///Users/AlwynLopez/Music/iTunes/iTunes%2...</td>\n",
       "      <td>MPEG audio file</td>\n",
       "      <td>5532348</td>\n",
       "      <td>170840</td>\n",
       "    </tr>\n",
       "    <tr>\n",
       "      <th>877</th>\n",
       "      <td>1968</td>\n",
       "      <td>Sleazy Bed Track</td>\n",
       "      <td>The Bluetones</td>\n",
       "      <td>Scott Pilgrim Vs. the World</td>\n",
       "      <td>Rock</td>\n",
       "      <td>file:///Users/AlwynLopez/Music/iTunes/iTunes%2...</td>\n",
       "      <td>MPEG audio file</td>\n",
       "      <td>8903857</td>\n",
       "      <td>275800</td>\n",
       "    </tr>\n",
       "    <tr>\n",
       "      <th>878</th>\n",
       "      <td>1970</td>\n",
       "      <td>By Your Side</td>\n",
       "      <td>Beachwood Sparks</td>\n",
       "      <td>Scott Pilgrim Vs. the World</td>\n",
       "      <td>Rock</td>\n",
       "      <td>file:///Users/AlwynLopez/Music/iTunes/iTunes%2...</td>\n",
       "      <td>MPEG audio file</td>\n",
       "      <td>9578567</td>\n",
       "      <td>296829</td>\n",
       "    </tr>\n",
       "  </tbody>\n",
       "</table>\n",
       "<p>879 rows × 9 columns</p>\n",
       "</div>"
      ],
      "text/plain": [
       "     Track ID                                   Name               Artist  \\\n",
       "0         212                  Over Overthinking You    Christina Grimmie   \n",
       "1         214               Absolutely Final Goodbye    Christina Grimmie   \n",
       "2         216                           Make It Work    Christina Grimmie   \n",
       "3         218                  Get Yourself Together    Christina Grimmie   \n",
       "4         220                              With Love    Christina Grimmie   \n",
       "..        ...                                    ...                  ...   \n",
       "874      1962  Anthems for a Seventeen Year Old Girl  Broken Social Scene   \n",
       "875      1964                          Scott Pilgrim             Plumtree   \n",
       "876      1966                             O Katrina!           Black Lips   \n",
       "877      1968                       Sleazy Bed Track        The Bluetones   \n",
       "878      1970                           By Your Side     Beachwood Sparks   \n",
       "\n",
       "                           Album Genre  \\\n",
       "0                      With Love   Pop   \n",
       "1                      With Love   Pop   \n",
       "2                      With Love   Pop   \n",
       "3                      With Love   Pop   \n",
       "4                      With Love   Pop   \n",
       "..                           ...   ...   \n",
       "874  Scott Pilgrim Vs. the World  Rock   \n",
       "875  Scott Pilgrim Vs. the World  Rock   \n",
       "876  Scott Pilgrim Vs. the World  Rock   \n",
       "877  Scott Pilgrim Vs. the World  Rock   \n",
       "878  Scott Pilgrim Vs. the World  Rock   \n",
       "\n",
       "                                              Location             Kind  \\\n",
       "0    file:///Users/AlwynLopez/Music/iTunes/iTunes%2...  MPEG audio file   \n",
       "1    file:///Users/AlwynLopez/Music/iTunes/iTunes%2...  MPEG audio file   \n",
       "2    file:///Users/AlwynLopez/Music/iTunes/iTunes%2...  MPEG audio file   \n",
       "3    file:///Users/AlwynLopez/Music/iTunes/iTunes%2...  MPEG audio file   \n",
       "4    file:///Users/AlwynLopez/Music/iTunes/iTunes%2...  MPEG audio file   \n",
       "..                                                 ...              ...   \n",
       "874  file:///Users/AlwynLopez/Music/iTunes/iTunes%2...  MPEG audio file   \n",
       "875  file:///Users/AlwynLopez/Music/iTunes/iTunes%2...  MPEG audio file   \n",
       "876  file:///Users/AlwynLopez/Music/iTunes/iTunes%2...  MPEG audio file   \n",
       "877  file:///Users/AlwynLopez/Music/iTunes/iTunes%2...  MPEG audio file   \n",
       "878  file:///Users/AlwynLopez/Music/iTunes/iTunes%2...  MPEG audio file   \n",
       "\n",
       "        Size  Total Time  \n",
       "0    7438232      183457  \n",
       "1    6532311      160809  \n",
       "2    9333659      230844  \n",
       "3    8606428      212662  \n",
       "4    9618910      237975  \n",
       "..       ...         ...  \n",
       "874  8899716      275670  \n",
       "875  5889314      181968  \n",
       "876  5532348      170840  \n",
       "877  8903857      275800  \n",
       "878  9578567      296829  \n",
       "\n",
       "[879 rows x 9 columns]"
      ]
     },
     "metadata": {},
     "output_type": "display_data"
    }
   ],
   "source": [
    "import pandas as pd\n",
    "import matplotlib.pyplot as plt\n",
    "\n",
    "my_music_metadata_df = pd.read_csv(\"my_music_metadata.csv\")\n",
    "display(my_music_metadata_df)"
   ]
  },
  {
   "cell_type": "markdown",
   "metadata": {},
   "source": [
    "### Print Out Total File Size Storage And Total Time"
   ]
  },
  {
   "cell_type": "code",
   "execution_count": 2,
   "metadata": {},
   "outputs": [
    {
     "name": "stdout",
     "output_type": "stream",
     "text": [
      "Total Bytes: \t 6265166905\n",
      "Total Seconds: \t 175916573\n"
     ]
    }
   ],
   "source": [
    "total_bytes = my_music_metadata_df['Size'].sum()\n",
    "total_milliseconds = my_music_metadata_df['Total Time'].sum()\n",
    "\n",
    "print(\"Total Bytes: \\t\", total_bytes)\n",
    "print(\"Total Seconds: \\t\", total_milliseconds)"
   ]
  },
  {
   "cell_type": "markdown",
   "metadata": {},
   "source": [
    "That is about 6.26 gigabytes of data, and its duration is about 2 days."
   ]
  },
  {
   "cell_type": "markdown",
   "metadata": {},
   "source": [
    "### Pie Chart For File Types In My Music Collection"
   ]
  },
  {
   "cell_type": "code",
   "execution_count": 3,
   "metadata": {},
   "outputs": [
    {
     "data": {
      "image/png": "[encoded data removed]",
      "text/plain": [
       "<Figure size 1080x720 with 1 Axes>"
      ]
     },
     "metadata": {},
     "output_type": "display_data"
    },
    {
     "name": "stdout",
     "output_type": "stream",
     "text": [
      "MPEG audio file             682\n",
      "Purchased AAC audio file    197\n",
      "Name: Kind, dtype: int64\n"
     ]
    }
   ],
   "source": [
    "file_type_counter = my_music_metadata_df['Kind'].value_counts()\n",
    "file_type_counter.plot(\n",
    "    kind='pie', \n",
    "    figsize=(15,10), \n",
    "    colors=['#ff9999','#99ff99'], \n",
    "    title='File Types', \n",
    "    ylabel=\"\"\n",
    ")\n",
    "plt.show()\n",
    "print(file_type_counter)"
   ]
  },
  {
   "cell_type": "markdown",
   "metadata": {},
   "source": [
    "### Bar Chart For Music Genres In My Music Collection"
   ]
  },
  {
   "cell_type": "code",
   "execution_count": 4,
   "metadata": {},
   "outputs": [
    {
     "data": {
      "image/png": "[encoded data removed]",
      "text/plain": [
       "<Figure size 1080x720 with 1 Axes>"
      ]
     },
     "metadata": {
      "needs_background": "light"
     },
     "output_type": "display_data"
    }
   ],
   "source": [
    "music_genre_counter = my_music_metadata_df['Genre'].value_counts()\n",
    "music_genre_counter.plot(\n",
    "    kind='bar', \n",
    "    figsize=(15,10), \n",
    "    color=['#66b3ff'], \n",
    "    title='Music Genres'\n",
    ")\n",
    "plt.show()"
   ]
  },
  {
   "cell_type": "markdown",
   "metadata": {},
   "source": [
    "As you can see on the above bar graph, there are over 18 genres in my personal music collection. To simplify the machine learning process, we need to reclassify each of the songs into one of five genres:\n",
    " * Soundtrack\n",
    " * Hip Hop\n",
    " * Jazz\n",
    " * Pop\n",
    " * Rock\n",
    "\n",
    "To do that, lets examine the songs that are do not belong in one of the five categories."
   ]
  },
  {
   "cell_type": "markdown",
   "metadata": {},
   "source": [
    "# Data Cleaning"
   ]
  },
  {
   "cell_type": "markdown",
   "metadata": {},
   "source": [
    "Here is a list of helper methods that aid in the data cleaning process."
   ]
  },
  {
   "cell_type": "code",
   "execution_count": 5,
   "metadata": {},
   "outputs": [],
   "source": [
    "#filter tracks by genre\n",
    "def filter_tracks_by_genre(genre):\n",
    "    genre_conditional = my_music_metadata_df['Genre'] == genre\n",
    "    songs_by_genre = my_music_metadata_df[genre_conditional]\n",
    "    \n",
    "    return songs_by_genre\n",
    "\n",
    "#filter tracks by album name\n",
    "def filter_tracks_by_album(album):\n",
    "    album_conditional = my_music_metadata_df['Album'] == album\n",
    "    songs_by_album = my_music_metadata_df[album_conditional]\n",
    "    \n",
    "    return songs_by_album\n",
    "\n",
    "#Once filter tracks by genre, get me the list of albums\n",
    "def get_albums_by_genre(genre):\n",
    "    songs_by_genre = filter_tracks_by_genre(genre)\n",
    "    album_list = list(songs_by_genre['Album'].unique())\n",
    "    \n",
    "    return album_list\n",
    "\n",
    "#Once filter tracks by album, get me the list of artists\n",
    "def get_artists_by_album(album):\n",
    "    songs_by_genre = filter_tracks_by_album(album)\n",
    "    artist_list = list(songs_by_genre['Artist'].unique())\n",
    "    \n",
    "    return artist_list\n",
    "\n",
    "#Once filter tracks by genre, get me a list of albums along with their associated artists\n",
    "def display_album_artist_by_genre(genre):\n",
    "    albums = get_albums_by_genre(genre)\n",
    "    print('List Of Albums Labeled As '+ genre +' Along With Associated Artists: ')\n",
    "    for album in albums:\n",
    "        print(\"**\", album)\n",
    "        artist_list = get_artists_by_album(album)\n",
    "        for i, artist in enumerate(artist_list):\n",
    "            print(\"  \", i + 1, \"-\", artist)\n",
    "\n",
    "#Relabel all tracks in the album to its new genre\n",
    "def relabel_album_genre(album, new_genre):\n",
    "    album_conditional = my_music_metadata_df['Album'] == album\n",
    "    my_music_metadata_df.loc[album_conditional, 'Genre'] = new_genre\n"
   ]
  },
  {
   "cell_type": "markdown",
   "metadata": {},
   "source": [
    "## Pop Rock"
   ]
  },
  {
   "cell_type": "code",
   "execution_count": 6,
   "metadata": {},
   "outputs": [
    {
     "data": {
      "text/html": [
       "<div>\n",
       "<style scoped>\n",
       "    .dataframe tbody tr th:only-of-type {\n",
       "        vertical-align: middle;\n",
       "    }\n",
       "\n",
       "    .dataframe tbody tr th {\n",
       "        vertical-align: top;\n",
       "    }\n",
       "\n",
       "    .dataframe thead th {\n",
       "        text-align: right;\n",
       "    }\n",
       "</style>\n",
       "<table border=\"1\" class=\"dataframe\">\n",
       "  <thead>\n",
       "    <tr style=\"text-align: right;\">\n",
       "      <th></th>\n",
       "      <th>Track ID</th>\n",
       "      <th>Name</th>\n",
       "      <th>Artist</th>\n",
       "      <th>Album</th>\n",
       "      <th>Genre</th>\n",
       "      <th>Location</th>\n",
       "      <th>Kind</th>\n",
       "      <th>Size</th>\n",
       "      <th>Total Time</th>\n",
       "    </tr>\n",
       "  </thead>\n",
       "  <tbody>\n",
       "    <tr>\n",
       "      <th>356</th>\n",
       "      <td>924</td>\n",
       "      <td>Golden Days</td>\n",
       "      <td>Panic! At the Disco</td>\n",
       "      <td>Death of a Bachelor</td>\n",
       "      <td>Pop/Rock</td>\n",
       "      <td>file:///Users/AlwynLopez/Music/iTunes/iTunes%2...</td>\n",
       "      <td>MPEG audio file</td>\n",
       "      <td>8241681</td>\n",
       "      <td>254432</td>\n",
       "    </tr>\n",
       "    <tr>\n",
       "      <th>355</th>\n",
       "      <td>922</td>\n",
       "      <td>LA Devotee</td>\n",
       "      <td>Panic! At the Disco</td>\n",
       "      <td>Death of a Bachelor</td>\n",
       "      <td>Pop/Rock</td>\n",
       "      <td>file:///Users/AlwynLopez/Music/iTunes/iTunes%2...</td>\n",
       "      <td>MPEG audio file</td>\n",
       "      <td>6383335</td>\n",
       "      <td>196649</td>\n",
       "    </tr>\n",
       "    <tr>\n",
       "      <th>422</th>\n",
       "      <td>1056</td>\n",
       "      <td>In Between</td>\n",
       "      <td>Linkin Park</td>\n",
       "      <td>Minutes to Midnight</td>\n",
       "      <td>Pop/Rock</td>\n",
       "      <td>file:///Users/AlwynLopez/Music/iTunes/iTunes%2...</td>\n",
       "      <td>MPEG audio file</td>\n",
       "      <td>4326761</td>\n",
       "      <td>196806</td>\n",
       "    </tr>\n",
       "    <tr>\n",
       "      <th>424</th>\n",
       "      <td>1060</td>\n",
       "      <td>The Little Things Give You Away</td>\n",
       "      <td>Linkin Park</td>\n",
       "      <td>Minutes to Midnight</td>\n",
       "      <td>Pop/Rock</td>\n",
       "      <td>file:///Users/AlwynLopez/Music/iTunes/iTunes%2...</td>\n",
       "      <td>MPEG audio file</td>\n",
       "      <td>9830791</td>\n",
       "      <td>383555</td>\n",
       "    </tr>\n",
       "  </tbody>\n",
       "</table>\n",
       "</div>"
      ],
      "text/plain": [
       "     Track ID                             Name               Artist  \\\n",
       "356       924                      Golden Days  Panic! At the Disco   \n",
       "355       922                       LA Devotee  Panic! At the Disco   \n",
       "422      1056                       In Between          Linkin Park   \n",
       "424      1060  The Little Things Give You Away          Linkin Park   \n",
       "\n",
       "                   Album     Genre  \\\n",
       "356  Death of a Bachelor  Pop/Rock   \n",
       "355  Death of a Bachelor  Pop/Rock   \n",
       "422  Minutes to Midnight  Pop/Rock   \n",
       "424  Minutes to Midnight  Pop/Rock   \n",
       "\n",
       "                                              Location             Kind  \\\n",
       "356  file:///Users/AlwynLopez/Music/iTunes/iTunes%2...  MPEG audio file   \n",
       "355  file:///Users/AlwynLopez/Music/iTunes/iTunes%2...  MPEG audio file   \n",
       "422  file:///Users/AlwynLopez/Music/iTunes/iTunes%2...  MPEG audio file   \n",
       "424  file:///Users/AlwynLopez/Music/iTunes/iTunes%2...  MPEG audio file   \n",
       "\n",
       "        Size  Total Time  \n",
       "356  8241681      254432  \n",
       "355  6383335      196649  \n",
       "422  4326761      196806  \n",
       "424  9830791      383555  "
      ]
     },
     "execution_count": 6,
     "metadata": {},
     "output_type": "execute_result"
    }
   ],
   "source": [
    "tracks = filter_tracks_by_genre('Pop/Rock')\n",
    "tracks.sample(4)"
   ]
  },
  {
   "cell_type": "code",
   "execution_count": 7,
   "metadata": {},
   "outputs": [
    {
     "name": "stdout",
     "output_type": "stream",
     "text": [
      "List Of Albums Labeled As Pop/Rock Along With Associated Artists: \n",
      "** Back to Basics \n",
      "   1 - Christina Aguilera\n",
      "** American Idiot\n",
      "   1 - Green Day\n",
      "** ÷\n",
      "   1 - Ed Sheeran\n",
      "** Infinity on High\n",
      "   1 - Fall Out Boy\n",
      "   2 - Fall Out Boy & Butch Walker\n",
      "** Death of a Bachelor\n",
      "   1 - Panic! At the Disco\n",
      "** Stripped\n",
      "   1 - Christina Aguilera\n",
      "   2 - Christina Aguilera & Lil' Kim\n",
      "   3 - Christina Aguilera & Larry Gold\n",
      "   4 - Christina Aguilera & Redman\n",
      "** Songs About Jane\n",
      "   1 - Maroon 5\n",
      "** Absolute Greatest\n",
      "   1 - Queen\n",
      "   2 - Queen/David Bowie\n",
      "   3 - Queen/National Philharmonic Orchestra\n",
      "** Minutes to Midnight\n",
      "   1 - Linkin Park\n",
      "** Mezmerize\n",
      "   1 - System of a Down\n",
      "** Hypnotize\n",
      "   1 - System of a Down\n",
      "** Intertwined - EP\n",
      "   1 - dodie\n",
      "** Folie à Deux\n",
      "   1 - Fall Out Boy\n"
     ]
    }
   ],
   "source": [
    "display_album_artist_by_genre(\"Pop/Rock\")"
   ]
  },
  {
   "cell_type": "markdown",
   "metadata": {},
   "source": [
    "For the tracks that fall into one of the following albums:\n",
    " * Back to Basics\n",
    " * ÷\n",
    " * Stripped\n",
    " * Intertwined - EP,\n",
    "\n",
    "All tracks that lie in the above albums, they will be labeled as \"Pop\" music. For the rest of the tracks that are not in the above albums, they will be labeled as \"Rock\" music."
   ]
  },
  {
   "cell_type": "code",
   "execution_count": 8,
   "metadata": {},
   "outputs": [],
   "source": [
    "pop_albums = [\n",
    "    'Back to Basics ', \n",
    "    '÷', \n",
    "    'Stripped', \n",
    "    'Intertwined - EP'\n",
    "]\n",
    "\n",
    "pop_rock_albums = get_albums_by_genre('Pop/Rock')\n",
    "for album in pop_rock_albums:\n",
    "    if album in pop_albums:\n",
    "        relabel_album_genre(album, \"Pop\")\n",
    "    else:\n",
    "        relabel_album_genre(album, \"Rock\")"
   ]
  },
  {
   "cell_type": "markdown",
   "metadata": {},
   "source": [
    "## Rap"
   ]
  },
  {
   "cell_type": "code",
   "execution_count": 9,
   "metadata": {},
   "outputs": [
    {
     "data": {
      "text/html": [
       "<div>\n",
       "<style scoped>\n",
       "    .dataframe tbody tr th:only-of-type {\n",
       "        vertical-align: middle;\n",
       "    }\n",
       "\n",
       "    .dataframe tbody tr th {\n",
       "        vertical-align: top;\n",
       "    }\n",
       "\n",
       "    .dataframe thead th {\n",
       "        text-align: right;\n",
       "    }\n",
       "</style>\n",
       "<table border=\"1\" class=\"dataframe\">\n",
       "  <thead>\n",
       "    <tr style=\"text-align: right;\">\n",
       "      <th></th>\n",
       "      <th>Track ID</th>\n",
       "      <th>Name</th>\n",
       "      <th>Artist</th>\n",
       "      <th>Album</th>\n",
       "      <th>Genre</th>\n",
       "      <th>Location</th>\n",
       "      <th>Kind</th>\n",
       "      <th>Size</th>\n",
       "      <th>Total Time</th>\n",
       "    </tr>\n",
       "  </thead>\n",
       "  <tbody>\n",
       "    <tr>\n",
       "      <th>810</th>\n",
       "      <td>1834</td>\n",
       "      <td>'97 Bonnie &amp; Clyde</td>\n",
       "      <td>Eminem</td>\n",
       "      <td>The Slim Shady LP</td>\n",
       "      <td>Rap</td>\n",
       "      <td>file:///Users/AlwynLopez/Music/iTunes/iTunes%2...</td>\n",
       "      <td>MPEG audio file</td>\n",
       "      <td>12730229</td>\n",
       "      <td>316421</td>\n",
       "    </tr>\n",
       "    <tr>\n",
       "      <th>774</th>\n",
       "      <td>1762</td>\n",
       "      <td>Drips</td>\n",
       "      <td>Eminem/Obie Trice</td>\n",
       "      <td>The Eminem Show</td>\n",
       "      <td>Rap</td>\n",
       "      <td>file:///Users/AlwynLopez/Music/iTunes/iTunes%2...</td>\n",
       "      <td>MPEG audio file</td>\n",
       "      <td>4612949</td>\n",
       "      <td>285675</td>\n",
       "    </tr>\n",
       "    <tr>\n",
       "      <th>806</th>\n",
       "      <td>1826</td>\n",
       "      <td>I'm Shady</td>\n",
       "      <td>Eminem</td>\n",
       "      <td>The Slim Shady LP</td>\n",
       "      <td>Rap</td>\n",
       "      <td>file:///Users/AlwynLopez/Music/iTunes/iTunes%2...</td>\n",
       "      <td>MPEG audio file</td>\n",
       "      <td>8550628</td>\n",
       "      <td>211931</td>\n",
       "    </tr>\n",
       "    <tr>\n",
       "      <th>807</th>\n",
       "      <td>1828</td>\n",
       "      <td>Bad Meets Evil</td>\n",
       "      <td>Eminem/Royce da 5'9\"</td>\n",
       "      <td>The Slim Shady LP</td>\n",
       "      <td>Rap</td>\n",
       "      <td>file:///Users/AlwynLopez/Music/iTunes/iTunes%2...</td>\n",
       "      <td>MPEG audio file</td>\n",
       "      <td>10195302</td>\n",
       "      <td>253048</td>\n",
       "    </tr>\n",
       "  </tbody>\n",
       "</table>\n",
       "</div>"
      ],
      "text/plain": [
       "     Track ID                Name                Artist              Album  \\\n",
       "810      1834  '97 Bonnie & Clyde                Eminem  The Slim Shady LP   \n",
       "774      1762               Drips     Eminem/Obie Trice    The Eminem Show   \n",
       "806      1826           I'm Shady                Eminem  The Slim Shady LP   \n",
       "807      1828      Bad Meets Evil  Eminem/Royce da 5'9\"  The Slim Shady LP   \n",
       "\n",
       "    Genre                                           Location             Kind  \\\n",
       "810   Rap  file:///Users/AlwynLopez/Music/iTunes/iTunes%2...  MPEG audio file   \n",
       "774   Rap  file:///Users/AlwynLopez/Music/iTunes/iTunes%2...  MPEG audio file   \n",
       "806   Rap  file:///Users/AlwynLopez/Music/iTunes/iTunes%2...  MPEG audio file   \n",
       "807   Rap  file:///Users/AlwynLopez/Music/iTunes/iTunes%2...  MPEG audio file   \n",
       "\n",
       "         Size  Total Time  \n",
       "810  12730229      316421  \n",
       "774   4612949      285675  \n",
       "806   8550628      211931  \n",
       "807  10195302      253048  "
      ]
     },
     "execution_count": 9,
     "metadata": {},
     "output_type": "execute_result"
    }
   ],
   "source": [
    "tracks = filter_tracks_by_genre('Rap')\n",
    "tracks.sample(4)"
   ]
  },
  {
   "cell_type": "code",
   "execution_count": 10,
   "metadata": {},
   "outputs": [
    {
     "name": "stdout",
     "output_type": "stream",
     "text": [
      "List Of Albums Labeled As Rap Along With Associated Artists: \n",
      "** DAMN.\n",
      "   1 - Kendrick Lamar\n",
      "   2 - Kendrick Lamar/Rihanna\n",
      "   3 - Kendrick Lamar/Zacari\n",
      "   4 - Kendrick Lamar/U2\n",
      "** The Eminem Show\n",
      "   1 - Eminem/Obie Trice\n",
      "   2 - Eminem\n",
      "   3 - Eminem/Steve Berman\n",
      "   4 - Eminem/Dina Rae\n",
      "   5 - Eminem/Dr. Dre\n",
      "   6 - Eminem/D12\n",
      "   7 - Paul D. Rosenberg\n",
      "** The Slim Shady LP\n",
      "   1 - Eminem\n",
      "   2 - Eminem/Royce da 5'9\"\n",
      "   3 - Eminem/Aristotle/Marky Bass\n",
      "   4 - DJ Paul Bunyon\n",
      "   5 - Eminem/Royce da 5'9\"/Jeff Bass\n",
      "   6 - Eminem/Jeff Bass/Marky Bass\n",
      "   7 - Jeff Bass\n",
      "   8 - Winkler/Zoe\n"
     ]
    }
   ],
   "source": [
    "display_album_artist_by_genre(\"Rap\")"
   ]
  },
  {
   "cell_type": "markdown",
   "metadata": {},
   "source": [
    "Most music from the above list are from the rapper Eminem, and he is considered as a rapper. Based on the music genre taxamony, rap music is a sub-genre of hip hop. Therefore, all rap music will be labeled as \"Hip-Hop\" music. (see Musical_Genre_Taxonomy.png)"
   ]
  },
  {
   "cell_type": "code",
   "execution_count": 11,
   "metadata": {},
   "outputs": [],
   "source": [
    "relabel_album_genre(\"DAMN.\", \"Hip-Hop\")\n",
    "relabel_album_genre(\"The Eminem Show\", \"Hip-Hop\")\n",
    "relabel_album_genre(\"The Slim Shady LP\", \"Hip-Hop\")"
   ]
  },
  {
   "cell_type": "markdown",
   "metadata": {},
   "source": [
    "## Score"
   ]
  },
  {
   "cell_type": "code",
   "execution_count": 12,
   "metadata": {},
   "outputs": [
    {
     "data": {
      "text/html": [
       "<div>\n",
       "<style scoped>\n",
       "    .dataframe tbody tr th:only-of-type {\n",
       "        vertical-align: middle;\n",
       "    }\n",
       "\n",
       "    .dataframe tbody tr th {\n",
       "        vertical-align: top;\n",
       "    }\n",
       "\n",
       "    .dataframe thead th {\n",
       "        text-align: right;\n",
       "    }\n",
       "</style>\n",
       "<table border=\"1\" class=\"dataframe\">\n",
       "  <thead>\n",
       "    <tr style=\"text-align: right;\">\n",
       "      <th></th>\n",
       "      <th>Track ID</th>\n",
       "      <th>Name</th>\n",
       "      <th>Artist</th>\n",
       "      <th>Album</th>\n",
       "      <th>Genre</th>\n",
       "      <th>Location</th>\n",
       "      <th>Kind</th>\n",
       "      <th>Size</th>\n",
       "      <th>Total Time</th>\n",
       "    </tr>\n",
       "  </thead>\n",
       "  <tbody>\n",
       "    <tr>\n",
       "      <th>726</th>\n",
       "      <td>1666</td>\n",
       "      <td>Main Title</td>\n",
       "      <td>Carlos Rafael Rivera</td>\n",
       "      <td>The Queen's Gambit (Music from the Netflix Lim...</td>\n",
       "      <td>Score</td>\n",
       "      <td>file:///Users/AlwynLopez/Music/iTunes/iTunes%2...</td>\n",
       "      <td>MPEG audio file</td>\n",
       "      <td>4942682</td>\n",
       "      <td>109923</td>\n",
       "    </tr>\n",
       "    <tr>\n",
       "      <th>738</th>\n",
       "      <td>1690</td>\n",
       "      <td>Training With Mr. Schaibel</td>\n",
       "      <td>Carlos Rafael Rivera</td>\n",
       "      <td>The Queen's Gambit (Music from the Netflix Lim...</td>\n",
       "      <td>Score</td>\n",
       "      <td>file:///Users/AlwynLopez/Music/iTunes/iTunes%2...</td>\n",
       "      <td>MPEG audio file</td>\n",
       "      <td>7918604</td>\n",
       "      <td>184320</td>\n",
       "    </tr>\n",
       "    <tr>\n",
       "      <th>725</th>\n",
       "      <td>1664</td>\n",
       "      <td>Turning Point</td>\n",
       "      <td>Carlos Rafael Rivera</td>\n",
       "      <td>The Queen's Gambit (Music from the Netflix Lim...</td>\n",
       "      <td>Score</td>\n",
       "      <td>file:///Users/AlwynLopez/Music/iTunes/iTunes%2...</td>\n",
       "      <td>MPEG audio file</td>\n",
       "      <td>5584258</td>\n",
       "      <td>125962</td>\n",
       "    </tr>\n",
       "    <tr>\n",
       "      <th>742</th>\n",
       "      <td>1698</td>\n",
       "      <td>Moscow Invitational 1968</td>\n",
       "      <td>Carlos Rafael Rivera</td>\n",
       "      <td>The Queen's Gambit (Music from the Netflix Lim...</td>\n",
       "      <td>Score</td>\n",
       "      <td>file:///Users/AlwynLopez/Music/iTunes/iTunes%2...</td>\n",
       "      <td>MPEG audio file</td>\n",
       "      <td>18438650</td>\n",
       "      <td>447320</td>\n",
       "    </tr>\n",
       "  </tbody>\n",
       "</table>\n",
       "</div>"
      ],
      "text/plain": [
       "     Track ID                        Name                Artist  \\\n",
       "726      1666                  Main Title  Carlos Rafael Rivera   \n",
       "738      1690  Training With Mr. Schaibel  Carlos Rafael Rivera   \n",
       "725      1664               Turning Point  Carlos Rafael Rivera   \n",
       "742      1698    Moscow Invitational 1968  Carlos Rafael Rivera   \n",
       "\n",
       "                                                 Album  Genre  \\\n",
       "726  The Queen's Gambit (Music from the Netflix Lim...  Score   \n",
       "738  The Queen's Gambit (Music from the Netflix Lim...  Score   \n",
       "725  The Queen's Gambit (Music from the Netflix Lim...  Score   \n",
       "742  The Queen's Gambit (Music from the Netflix Lim...  Score   \n",
       "\n",
       "                                              Location             Kind  \\\n",
       "726  file:///Users/AlwynLopez/Music/iTunes/iTunes%2...  MPEG audio file   \n",
       "738  file:///Users/AlwynLopez/Music/iTunes/iTunes%2...  MPEG audio file   \n",
       "725  file:///Users/AlwynLopez/Music/iTunes/iTunes%2...  MPEG audio file   \n",
       "742  file:///Users/AlwynLopez/Music/iTunes/iTunes%2...  MPEG audio file   \n",
       "\n",
       "         Size  Total Time  \n",
       "726   4942682      109923  \n",
       "738   7918604      184320  \n",
       "725   5584258      125962  \n",
       "742  18438650      447320  "
      ]
     },
     "execution_count": 12,
     "metadata": {},
     "output_type": "execute_result"
    }
   ],
   "source": [
    "tracks = filter_tracks_by_genre('Score')\n",
    "tracks.sample(4)"
   ]
  },
  {
   "cell_type": "code",
   "execution_count": 13,
   "metadata": {},
   "outputs": [
    {
     "name": "stdout",
     "output_type": "stream",
     "text": [
      "List Of Albums Labeled As Score Along With Associated Artists: \n",
      "** The Queen's Gambit (Music from the Netflix Limited Series)\n",
      "   1 - Carlos Rafael Rivera\n"
     ]
    }
   ],
   "source": [
    "display_album_artist_by_genre(\"Score\")"
   ]
  },
  {
   "cell_type": "markdown",
   "metadata": {},
   "source": [
    "Since the above album is the original soundtrack from the hit show \"The Queen's Gambit\", all tracks that belong to the ablum will be labeled as \"Soundtrack\" music."
   ]
  },
  {
   "cell_type": "code",
   "execution_count": 14,
   "metadata": {},
   "outputs": [],
   "source": [
    "relabel_album_genre(\"The Queen's Gambit (Music from the Netflix Limited Series)\", \"Soundtrack\")"
   ]
  },
  {
   "cell_type": "markdown",
   "metadata": {},
   "source": [
    "## Alternative"
   ]
  },
  {
   "cell_type": "code",
   "execution_count": 15,
   "metadata": {},
   "outputs": [
    {
     "data": {
      "text/html": [
       "<div>\n",
       "<style scoped>\n",
       "    .dataframe tbody tr th:only-of-type {\n",
       "        vertical-align: middle;\n",
       "    }\n",
       "\n",
       "    .dataframe tbody tr th {\n",
       "        vertical-align: top;\n",
       "    }\n",
       "\n",
       "    .dataframe thead th {\n",
       "        text-align: right;\n",
       "    }\n",
       "</style>\n",
       "<table border=\"1\" class=\"dataframe\">\n",
       "  <thead>\n",
       "    <tr style=\"text-align: right;\">\n",
       "      <th></th>\n",
       "      <th>Track ID</th>\n",
       "      <th>Name</th>\n",
       "      <th>Artist</th>\n",
       "      <th>Album</th>\n",
       "      <th>Genre</th>\n",
       "      <th>Location</th>\n",
       "      <th>Kind</th>\n",
       "      <th>Size</th>\n",
       "      <th>Total Time</th>\n",
       "    </tr>\n",
       "  </thead>\n",
       "  <tbody>\n",
       "    <tr>\n",
       "      <th>801</th>\n",
       "      <td>1816</td>\n",
       "      <td>Crushcrushcrush</td>\n",
       "      <td>Paramore</td>\n",
       "      <td>Riot! (Deluxe Version)</td>\n",
       "      <td>Alternative</td>\n",
       "      <td>file:///Users/AlwynLopez/Music/iTunes/iTunes%2...</td>\n",
       "      <td>MPEG audio file</td>\n",
       "      <td>8202084</td>\n",
       "      <td>189518</td>\n",
       "    </tr>\n",
       "    <tr>\n",
       "      <th>579</th>\n",
       "      <td>1372</td>\n",
       "      <td>Say Amen (Saturday Night)</td>\n",
       "      <td>Panic! At the Disco</td>\n",
       "      <td>Pray For the Wicked</td>\n",
       "      <td>Alternative</td>\n",
       "      <td>file:///Users/AlwynLopez/Music/iTunes/iTunes%2...</td>\n",
       "      <td>Purchased AAC audio file</td>\n",
       "      <td>6782470</td>\n",
       "      <td>189269</td>\n",
       "    </tr>\n",
       "    <tr>\n",
       "      <th>642</th>\n",
       "      <td>1498</td>\n",
       "      <td>!!!!!!!</td>\n",
       "      <td>Billie Eilish</td>\n",
       "      <td>WHEN WE ALL FALL ASLEEP, WHERE DO WE GO?</td>\n",
       "      <td>Alternative</td>\n",
       "      <td>file:///Users/AlwynLopez/Music/iTunes/iTunes%2...</td>\n",
       "      <td>MPEG audio file</td>\n",
       "      <td>661660</td>\n",
       "      <td>13635</td>\n",
       "    </tr>\n",
       "    <tr>\n",
       "      <th>804</th>\n",
       "      <td>1822</td>\n",
       "      <td>For a Pessimist, I'm Pretty Optimistic</td>\n",
       "      <td>Paramore</td>\n",
       "      <td>Riot! (Deluxe Version)</td>\n",
       "      <td>Alternative</td>\n",
       "      <td>file:///Users/AlwynLopez/Music/iTunes/iTunes%2...</td>\n",
       "      <td>MPEG audio file</td>\n",
       "      <td>9759028</td>\n",
       "      <td>228440</td>\n",
       "    </tr>\n",
       "  </tbody>\n",
       "</table>\n",
       "</div>"
      ],
      "text/plain": [
       "     Track ID                                    Name               Artist  \\\n",
       "801      1816                         Crushcrushcrush             Paramore   \n",
       "579      1372               Say Amen (Saturday Night)  Panic! At the Disco   \n",
       "642      1498                                 !!!!!!!        Billie Eilish   \n",
       "804      1822  For a Pessimist, I'm Pretty Optimistic             Paramore   \n",
       "\n",
       "                                        Album        Genre  \\\n",
       "801                    Riot! (Deluxe Version)  Alternative   \n",
       "579                       Pray For the Wicked  Alternative   \n",
       "642  WHEN WE ALL FALL ASLEEP, WHERE DO WE GO?  Alternative   \n",
       "804                    Riot! (Deluxe Version)  Alternative   \n",
       "\n",
       "                                              Location  \\\n",
       "801  file:///Users/AlwynLopez/Music/iTunes/iTunes%2...   \n",
       "579  file:///Users/AlwynLopez/Music/iTunes/iTunes%2...   \n",
       "642  file:///Users/AlwynLopez/Music/iTunes/iTunes%2...   \n",
       "804  file:///Users/AlwynLopez/Music/iTunes/iTunes%2...   \n",
       "\n",
       "                         Kind     Size  Total Time  \n",
       "801           MPEG audio file  8202084      189518  \n",
       "579  Purchased AAC audio file  6782470      189269  \n",
       "642           MPEG audio file   661660       13635  \n",
       "804           MPEG audio file  9759028      228440  "
      ]
     },
     "execution_count": 15,
     "metadata": {},
     "output_type": "execute_result"
    }
   ],
   "source": [
    "tracks = filter_tracks_by_genre('Alternative')\n",
    "tracks.sample(4)"
   ]
  },
  {
   "cell_type": "code",
   "execution_count": 16,
   "metadata": {},
   "outputs": [
    {
     "name": "stdout",
     "output_type": "stream",
     "text": [
      "List Of Albums Labeled As Alternative Along With Associated Artists: \n",
      "** Pray For the Wicked\n",
      "   1 - Panic! At the Disco\n",
      "** Pray For The Wicked\n",
      "   1 - Panic! At the Disco\n",
      "** WHEN WE ALL FALL ASLEEP, WHERE DO WE GO?\n",
      "   1 - Billie Eilish\n",
      "** Riot! (Deluxe Version)\n",
      "   1 - Paramore\n"
     ]
    }
   ],
   "source": [
    "display_album_artist_by_genre(\"Alternative\")"
   ]
  },
  {
   "cell_type": "markdown",
   "metadata": {},
   "source": [
    "Notice that there are two albums with the same name but they are spelled differently, one is \"Pray For the Wicked\" with a lowercase t, and the other is \"Pray For The Wicked\" with an uppercase t. They are the same album, so all track music in the \"Pray For The Wicked\" ablum will be labeled as \"Rock\". All songs in the Billie Eilish album \"WHEN WE ALL FALL ASLEEP, WHERE DO WE GO?\" will be labeled as \"Pop\" music, and All songs in the \"Riot!\" album will be labeled as \"Rock\" music."
   ]
  },
  {
   "cell_type": "code",
   "execution_count": 17,
   "metadata": {},
   "outputs": [],
   "source": [
    "relabel_album_genre(\"Pray For the Wicked\", \"Rock\")\n",
    "relabel_album_genre(\"Pray For The Wicked\", \"Rock\")\n",
    "relabel_album_genre(\"WHEN WE ALL FALL ASLEEP, WHERE DO WE GO?\", \"Pop\")\n",
    "relabel_album_genre(\"Riot! (Deluxe Version)\", \"Rock\")"
   ]
  },
  {
   "cell_type": "markdown",
   "metadata": {},
   "source": [
    "## Hip-Hop / Rap"
   ]
  },
  {
   "cell_type": "code",
   "execution_count": 18,
   "metadata": {},
   "outputs": [
    {
     "data": {
      "text/html": [
       "<div>\n",
       "<style scoped>\n",
       "    .dataframe tbody tr th:only-of-type {\n",
       "        vertical-align: middle;\n",
       "    }\n",
       "\n",
       "    .dataframe tbody tr th {\n",
       "        vertical-align: top;\n",
       "    }\n",
       "\n",
       "    .dataframe thead th {\n",
       "        text-align: right;\n",
       "    }\n",
       "</style>\n",
       "<table border=\"1\" class=\"dataframe\">\n",
       "  <thead>\n",
       "    <tr style=\"text-align: right;\">\n",
       "      <th></th>\n",
       "      <th>Track ID</th>\n",
       "      <th>Name</th>\n",
       "      <th>Artist</th>\n",
       "      <th>Album</th>\n",
       "      <th>Genre</th>\n",
       "      <th>Location</th>\n",
       "      <th>Kind</th>\n",
       "      <th>Size</th>\n",
       "      <th>Total Time</th>\n",
       "    </tr>\n",
       "  </thead>\n",
       "  <tbody>\n",
       "    <tr>\n",
       "      <th>281</th>\n",
       "      <td>774</td>\n",
       "      <td>Kill You</td>\n",
       "      <td>Eminem</td>\n",
       "      <td>Curtain Call - The Hits (Deluxe Version)</td>\n",
       "      <td>Hip-Hop/Rap</td>\n",
       "      <td>file:///Users/AlwynLopez/Music/iTunes/iTunes%2...</td>\n",
       "      <td>Purchased AAC audio file</td>\n",
       "      <td>9294100</td>\n",
       "      <td>264786</td>\n",
       "    </tr>\n",
       "    <tr>\n",
       "      <th>282</th>\n",
       "      <td>776</td>\n",
       "      <td>Shit On You</td>\n",
       "      <td>Eminem &amp; D12</td>\n",
       "      <td>Curtain Call - The Hits (Deluxe Version)</td>\n",
       "      <td>Hip-Hop/Rap</td>\n",
       "      <td>file:///Users/AlwynLopez/Music/iTunes/iTunes%2...</td>\n",
       "      <td>Purchased AAC audio file</td>\n",
       "      <td>11345194</td>\n",
       "      <td>328213</td>\n",
       "    </tr>\n",
       "    <tr>\n",
       "      <th>280</th>\n",
       "      <td>772</td>\n",
       "      <td>Role Model</td>\n",
       "      <td>Eminem</td>\n",
       "      <td>Curtain Call - The Hits (Deluxe Version)</td>\n",
       "      <td>Hip-Hop/Rap</td>\n",
       "      <td>file:///Users/AlwynLopez/Music/iTunes/iTunes%2...</td>\n",
       "      <td>Purchased AAC audio file</td>\n",
       "      <td>7307510</td>\n",
       "      <td>205280</td>\n",
       "    </tr>\n",
       "    <tr>\n",
       "      <th>263</th>\n",
       "      <td>738</td>\n",
       "      <td>Fack</td>\n",
       "      <td>Eminem</td>\n",
       "      <td>Curtain Call - The Hits (Deluxe Version)</td>\n",
       "      <td>Hip-Hop/Rap</td>\n",
       "      <td>file:///Users/AlwynLopez/Music/iTunes/iTunes%2...</td>\n",
       "      <td>Purchased AAC audio file</td>\n",
       "      <td>7299828</td>\n",
       "      <td>205760</td>\n",
       "    </tr>\n",
       "  </tbody>\n",
       "</table>\n",
       "</div>"
      ],
      "text/plain": [
       "     Track ID         Name        Artist  \\\n",
       "281       774     Kill You        Eminem   \n",
       "282       776  Shit On You  Eminem & D12   \n",
       "280       772   Role Model        Eminem   \n",
       "263       738         Fack        Eminem   \n",
       "\n",
       "                                        Album        Genre  \\\n",
       "281  Curtain Call - The Hits (Deluxe Version)  Hip-Hop/Rap   \n",
       "282  Curtain Call - The Hits (Deluxe Version)  Hip-Hop/Rap   \n",
       "280  Curtain Call - The Hits (Deluxe Version)  Hip-Hop/Rap   \n",
       "263  Curtain Call - The Hits (Deluxe Version)  Hip-Hop/Rap   \n",
       "\n",
       "                                              Location  \\\n",
       "281  file:///Users/AlwynLopez/Music/iTunes/iTunes%2...   \n",
       "282  file:///Users/AlwynLopez/Music/iTunes/iTunes%2...   \n",
       "280  file:///Users/AlwynLopez/Music/iTunes/iTunes%2...   \n",
       "263  file:///Users/AlwynLopez/Music/iTunes/iTunes%2...   \n",
       "\n",
       "                         Kind      Size  Total Time  \n",
       "281  Purchased AAC audio file   9294100      264786  \n",
       "282  Purchased AAC audio file  11345194      328213  \n",
       "280  Purchased AAC audio file   7307510      205280  \n",
       "263  Purchased AAC audio file   7299828      205760  "
      ]
     },
     "execution_count": 18,
     "metadata": {},
     "output_type": "execute_result"
    }
   ],
   "source": [
    "tracks = filter_tracks_by_genre('Hip-Hop/Rap')\n",
    "tracks.sample(4)"
   ]
  },
  {
   "cell_type": "code",
   "execution_count": 19,
   "metadata": {},
   "outputs": [
    {
     "name": "stdout",
     "output_type": "stream",
     "text": [
      "List Of Albums Labeled As Hip-Hop/Rap Along With Associated Artists: \n",
      "** Curtain Call - The Hits (Deluxe Version)\n",
      "   1 - Eminem\n",
      "   2 - Eminem & Dido\n",
      "   3 - Eminem & Dr. Dre\n",
      "   4 - Eminem & Elton John\n",
      "   5 - Eminem & The Notorious B.I.G.\n",
      "   6 - Eminem & D12\n",
      "   7 - Eminem & JAY Z\n"
     ]
    }
   ],
   "source": [
    "display_album_artist_by_genre(\"Hip-Hop/Rap\")"
   ]
  },
  {
   "cell_type": "markdown",
   "metadata": {},
   "source": [
    "Similar to the Rap section of this notebook, all tracks in the \"Curtain Call - The Hits\" album will be labeled as \"Hip-Hop\" music."
   ]
  },
  {
   "cell_type": "code",
   "execution_count": 20,
   "metadata": {},
   "outputs": [],
   "source": [
    "relabel_album_genre(\"Curtain Call - The Hits (Deluxe Version)\", \"Hip-Hop\")"
   ]
  },
  {
   "cell_type": "markdown",
   "metadata": {},
   "source": [
    "## Vocal Jazz"
   ]
  },
  {
   "cell_type": "code",
   "execution_count": 21,
   "metadata": {},
   "outputs": [
    {
     "data": {
      "text/html": [
       "<div>\n",
       "<style scoped>\n",
       "    .dataframe tbody tr th:only-of-type {\n",
       "        vertical-align: middle;\n",
       "    }\n",
       "\n",
       "    .dataframe tbody tr th {\n",
       "        vertical-align: top;\n",
       "    }\n",
       "\n",
       "    .dataframe thead th {\n",
       "        text-align: right;\n",
       "    }\n",
       "</style>\n",
       "<table border=\"1\" class=\"dataframe\">\n",
       "  <thead>\n",
       "    <tr style=\"text-align: right;\">\n",
       "      <th></th>\n",
       "      <th>Track ID</th>\n",
       "      <th>Name</th>\n",
       "      <th>Artist</th>\n",
       "      <th>Album</th>\n",
       "      <th>Genre</th>\n",
       "      <th>Location</th>\n",
       "      <th>Kind</th>\n",
       "      <th>Size</th>\n",
       "      <th>Total Time</th>\n",
       "    </tr>\n",
       "  </thead>\n",
       "  <tbody>\n",
       "    <tr>\n",
       "      <th>292</th>\n",
       "      <td>796</td>\n",
       "      <td>The Girl from Ipanema (With Antonio Carlos Jobim)</td>\n",
       "      <td>Frank Sinatra</td>\n",
       "      <td>Nothing But the Best - The Frank Sinatra Colle...</td>\n",
       "      <td>Vocal Jazz</td>\n",
       "      <td>file:///Users/AlwynLopez/Music/iTunes/iTunes%2...</td>\n",
       "      <td>Purchased AAC audio file</td>\n",
       "      <td>7784010</td>\n",
       "      <td>194040</td>\n",
       "    </tr>\n",
       "    <tr>\n",
       "      <th>298</th>\n",
       "      <td>808</td>\n",
       "      <td>My Kind of Town</td>\n",
       "      <td>Frank Sinatra</td>\n",
       "      <td>Nothing But the Best - The Frank Sinatra Colle...</td>\n",
       "      <td>Vocal Jazz</td>\n",
       "      <td>file:///Users/AlwynLopez/Music/iTunes/iTunes%2...</td>\n",
       "      <td>Purchased AAC audio file</td>\n",
       "      <td>7620231</td>\n",
       "      <td>191213</td>\n",
       "    </tr>\n",
       "    <tr>\n",
       "      <th>306</th>\n",
       "      <td>824</td>\n",
       "      <td>Theme from New York, New York</td>\n",
       "      <td>Frank Sinatra</td>\n",
       "      <td>Nothing But the Best - The Frank Sinatra Colle...</td>\n",
       "      <td>Vocal Jazz</td>\n",
       "      <td>file:///Users/AlwynLopez/Music/iTunes/iTunes%2...</td>\n",
       "      <td>Purchased AAC audio file</td>\n",
       "      <td>8234577</td>\n",
       "      <td>204906</td>\n",
       "    </tr>\n",
       "    <tr>\n",
       "      <th>290</th>\n",
       "      <td>792</td>\n",
       "      <td>Bewitched</td>\n",
       "      <td>Frank Sinatra</td>\n",
       "      <td>Nothing But the Best - The Frank Sinatra Colle...</td>\n",
       "      <td>Vocal Jazz</td>\n",
       "      <td>file:///Users/AlwynLopez/Music/iTunes/iTunes%2...</td>\n",
       "      <td>Purchased AAC audio file</td>\n",
       "      <td>7108395</td>\n",
       "      <td>179906</td>\n",
       "    </tr>\n",
       "  </tbody>\n",
       "</table>\n",
       "</div>"
      ],
      "text/plain": [
       "     Track ID                                               Name  \\\n",
       "292       796  The Girl from Ipanema (With Antonio Carlos Jobim)   \n",
       "298       808                                    My Kind of Town   \n",
       "306       824                      Theme from New York, New York   \n",
       "290       792                                          Bewitched   \n",
       "\n",
       "            Artist                                              Album  \\\n",
       "292  Frank Sinatra  Nothing But the Best - The Frank Sinatra Colle...   \n",
       "298  Frank Sinatra  Nothing But the Best - The Frank Sinatra Colle...   \n",
       "306  Frank Sinatra  Nothing But the Best - The Frank Sinatra Colle...   \n",
       "290  Frank Sinatra  Nothing But the Best - The Frank Sinatra Colle...   \n",
       "\n",
       "          Genre                                           Location  \\\n",
       "292  Vocal Jazz  file:///Users/AlwynLopez/Music/iTunes/iTunes%2...   \n",
       "298  Vocal Jazz  file:///Users/AlwynLopez/Music/iTunes/iTunes%2...   \n",
       "306  Vocal Jazz  file:///Users/AlwynLopez/Music/iTunes/iTunes%2...   \n",
       "290  Vocal Jazz  file:///Users/AlwynLopez/Music/iTunes/iTunes%2...   \n",
       "\n",
       "                         Kind     Size  Total Time  \n",
       "292  Purchased AAC audio file  7784010      194040  \n",
       "298  Purchased AAC audio file  7620231      191213  \n",
       "306  Purchased AAC audio file  8234577      204906  \n",
       "290  Purchased AAC audio file  7108395      179906  "
      ]
     },
     "execution_count": 21,
     "metadata": {},
     "output_type": "execute_result"
    }
   ],
   "source": [
    "tracks = filter_tracks_by_genre(\"Vocal Jazz\")\n",
    "tracks.sample(4)"
   ]
  },
  {
   "cell_type": "code",
   "execution_count": 22,
   "metadata": {},
   "outputs": [
    {
     "name": "stdout",
     "output_type": "stream",
     "text": [
      "List Of Albums Labeled As Vocal Jazz Along With Associated Artists: \n",
      "** Nothing But the Best - The Frank Sinatra Collection (Remastered)\n",
      "   1 - Frank Sinatra\n"
     ]
    }
   ],
   "source": [
    "display_album_artist_by_genre(\"Vocal Jazz\")"
   ]
  },
  {
   "cell_type": "markdown",
   "metadata": {},
   "source": [
    "Frank Sinatra is considered one of the most influential musicians in the 20th Century, and we can regard him as a Jazz musician. Because of this, all tracks in the \"Nothing But the Best - The Frank Sinatra Collection\" will be labeled as \"Jazz\" music."
   ]
  },
  {
   "cell_type": "code",
   "execution_count": 23,
   "metadata": {},
   "outputs": [],
   "source": [
    "relabel_album_genre(\"Nothing But the Best - The Frank Sinatra Collection (Remastered)\", \"Jazz\")"
   ]
  },
  {
   "cell_type": "markdown",
   "metadata": {},
   "source": [
    "## Religious / Pop / Rock"
   ]
  },
  {
   "cell_type": "code",
   "execution_count": 24,
   "metadata": {},
   "outputs": [
    {
     "data": {
      "text/html": [
       "<div>\n",
       "<style scoped>\n",
       "    .dataframe tbody tr th:only-of-type {\n",
       "        vertical-align: middle;\n",
       "    }\n",
       "\n",
       "    .dataframe tbody tr th {\n",
       "        vertical-align: top;\n",
       "    }\n",
       "\n",
       "    .dataframe thead th {\n",
       "        text-align: right;\n",
       "    }\n",
       "</style>\n",
       "<table border=\"1\" class=\"dataframe\">\n",
       "  <thead>\n",
       "    <tr style=\"text-align: right;\">\n",
       "      <th></th>\n",
       "      <th>Track ID</th>\n",
       "      <th>Name</th>\n",
       "      <th>Artist</th>\n",
       "      <th>Album</th>\n",
       "      <th>Genre</th>\n",
       "      <th>Location</th>\n",
       "      <th>Kind</th>\n",
       "      <th>Size</th>\n",
       "      <th>Total Time</th>\n",
       "    </tr>\n",
       "  </thead>\n",
       "  <tbody>\n",
       "    <tr>\n",
       "      <th>500</th>\n",
       "      <td>1212</td>\n",
       "      <td>I Could Be the One</td>\n",
       "      <td>Stacie Orrico</td>\n",
       "      <td>Stacie Orrico</td>\n",
       "      <td>Religious/Pop/Rock</td>\n",
       "      <td>file:///Users/AlwynLopez/Music/iTunes/iTunes%2...</td>\n",
       "      <td>MPEG audio file</td>\n",
       "      <td>8757214</td>\n",
       "      <td>218122</td>\n",
       "    </tr>\n",
       "    <tr>\n",
       "      <th>499</th>\n",
       "      <td>1210</td>\n",
       "      <td>Strong Enough</td>\n",
       "      <td>Stacie Orrico</td>\n",
       "      <td>Stacie Orrico</td>\n",
       "      <td>Religious/Pop/Rock</td>\n",
       "      <td>file:///Users/AlwynLopez/Music/iTunes/iTunes%2...</td>\n",
       "      <td>MPEG audio file</td>\n",
       "      <td>9492884</td>\n",
       "      <td>236512</td>\n",
       "    </tr>\n",
       "    <tr>\n",
       "      <th>502</th>\n",
       "      <td>1216</td>\n",
       "      <td>Tight</td>\n",
       "      <td>Stacie Orrico</td>\n",
       "      <td>Stacie Orrico</td>\n",
       "      <td>Religious/Pop/Rock</td>\n",
       "      <td>file:///Users/AlwynLopez/Music/iTunes/iTunes%2...</td>\n",
       "      <td>MPEG audio file</td>\n",
       "      <td>6019290</td>\n",
       "      <td>149681</td>\n",
       "    </tr>\n",
       "    <tr>\n",
       "      <th>492</th>\n",
       "      <td>1196</td>\n",
       "      <td>Stuck</td>\n",
       "      <td>Stacie Orrico</td>\n",
       "      <td>Stacie Orrico</td>\n",
       "      <td>Religious/Pop/Rock</td>\n",
       "      <td>file:///Users/AlwynLopez/Music/iTunes/iTunes%2...</td>\n",
       "      <td>MPEG audio file</td>\n",
       "      <td>8898263</td>\n",
       "      <td>221648</td>\n",
       "    </tr>\n",
       "  </tbody>\n",
       "</table>\n",
       "</div>"
      ],
      "text/plain": [
       "     Track ID                Name         Artist          Album  \\\n",
       "500      1212  I Could Be the One  Stacie Orrico  Stacie Orrico   \n",
       "499      1210       Strong Enough  Stacie Orrico  Stacie Orrico   \n",
       "502      1216               Tight  Stacie Orrico  Stacie Orrico   \n",
       "492      1196               Stuck  Stacie Orrico  Stacie Orrico   \n",
       "\n",
       "                  Genre                                           Location  \\\n",
       "500  Religious/Pop/Rock  file:///Users/AlwynLopez/Music/iTunes/iTunes%2...   \n",
       "499  Religious/Pop/Rock  file:///Users/AlwynLopez/Music/iTunes/iTunes%2...   \n",
       "502  Religious/Pop/Rock  file:///Users/AlwynLopez/Music/iTunes/iTunes%2...   \n",
       "492  Religious/Pop/Rock  file:///Users/AlwynLopez/Music/iTunes/iTunes%2...   \n",
       "\n",
       "                Kind     Size  Total Time  \n",
       "500  MPEG audio file  8757214      218122  \n",
       "499  MPEG audio file  9492884      236512  \n",
       "502  MPEG audio file  6019290      149681  \n",
       "492  MPEG audio file  8898263      221648  "
      ]
     },
     "execution_count": 24,
     "metadata": {},
     "output_type": "execute_result"
    }
   ],
   "source": [
    "tracks = filter_tracks_by_genre('Religious/Pop/Rock')\n",
    "tracks.sample(4)"
   ]
  },
  {
   "cell_type": "code",
   "execution_count": 25,
   "metadata": {},
   "outputs": [
    {
     "name": "stdout",
     "output_type": "stream",
     "text": [
      "List Of Albums Labeled As Religious/Pop/Rock Along With Associated Artists: \n",
      "** Stacie Orrico\n",
      "   1 - Stacie Orrico\n"
     ]
    }
   ],
   "source": [
    "display_album_artist_by_genre(\"Religious/Pop/Rock\")"
   ]
  },
  {
   "cell_type": "markdown",
   "metadata": {},
   "source": [
    "Stacie Orrico is considered as a pop musician. Because of this, all tracks in the \"Stacie Orrico\" album, will be labeled as \"Pop\" music."
   ]
  },
  {
   "cell_type": "code",
   "execution_count": 26,
   "metadata": {},
   "outputs": [],
   "source": [
    "relabel_album_genre(\"Stacie Orrico\", \"Pop\")"
   ]
  },
  {
   "cell_type": "markdown",
   "metadata": {},
   "source": [
    "## Alternative Metal / Nu-Metal / Gothic Rock"
   ]
  },
  {
   "cell_type": "code",
   "execution_count": 27,
   "metadata": {},
   "outputs": [
    {
     "data": {
      "text/html": [
       "<div>\n",
       "<style scoped>\n",
       "    .dataframe tbody tr th:only-of-type {\n",
       "        vertical-align: middle;\n",
       "    }\n",
       "\n",
       "    .dataframe tbody tr th {\n",
       "        vertical-align: top;\n",
       "    }\n",
       "\n",
       "    .dataframe thead th {\n",
       "        text-align: right;\n",
       "    }\n",
       "</style>\n",
       "<table border=\"1\" class=\"dataframe\">\n",
       "  <thead>\n",
       "    <tr style=\"text-align: right;\">\n",
       "      <th></th>\n",
       "      <th>Track ID</th>\n",
       "      <th>Name</th>\n",
       "      <th>Artist</th>\n",
       "      <th>Album</th>\n",
       "      <th>Genre</th>\n",
       "      <th>Location</th>\n",
       "      <th>Kind</th>\n",
       "      <th>Size</th>\n",
       "      <th>Total Time</th>\n",
       "    </tr>\n",
       "  </thead>\n",
       "  <tbody>\n",
       "    <tr>\n",
       "      <th>845</th>\n",
       "      <td>1904</td>\n",
       "      <td>Hello</td>\n",
       "      <td>Evanescence</td>\n",
       "      <td>Fallen</td>\n",
       "      <td>Alternative Metal / Nu-Metal / Gothic Rock</td>\n",
       "      <td>file:///Users/AlwynLopez/Music/iTunes/iTunes%2...</td>\n",
       "      <td>MPEG audio file</td>\n",
       "      <td>9056518</td>\n",
       "      <td>221570</td>\n",
       "    </tr>\n",
       "    <tr>\n",
       "      <th>844</th>\n",
       "      <td>1902</td>\n",
       "      <td>Haunted</td>\n",
       "      <td>Evanescence</td>\n",
       "      <td>Fallen</td>\n",
       "      <td>Alternative Metal / Nu-Metal / Gothic Rock</td>\n",
       "      <td>file:///Users/AlwynLopez/Music/iTunes/iTunes%2...</td>\n",
       "      <td>MPEG audio file</td>\n",
       "      <td>7719051</td>\n",
       "      <td>188133</td>\n",
       "    </tr>\n",
       "    <tr>\n",
       "      <th>842</th>\n",
       "      <td>1898</td>\n",
       "      <td>Imaginary</td>\n",
       "      <td>Evanescence</td>\n",
       "      <td>Fallen</td>\n",
       "      <td>Alternative Metal / Nu-Metal / Gothic Rock</td>\n",
       "      <td>file:///Users/AlwynLopez/Music/iTunes/iTunes%2...</td>\n",
       "      <td>MPEG audio file</td>\n",
       "      <td>10497436</td>\n",
       "      <td>257593</td>\n",
       "    </tr>\n",
       "    <tr>\n",
       "      <th>849</th>\n",
       "      <td>1912</td>\n",
       "      <td>Whisper</td>\n",
       "      <td>Evanescence</td>\n",
       "      <td>Fallen</td>\n",
       "      <td>Alternative Metal / Nu-Metal / Gothic Rock</td>\n",
       "      <td>file:///Users/AlwynLopez/Music/iTunes/iTunes%2...</td>\n",
       "      <td>MPEG audio file</td>\n",
       "      <td>13298807</td>\n",
       "      <td>327627</td>\n",
       "    </tr>\n",
       "  </tbody>\n",
       "</table>\n",
       "</div>"
      ],
      "text/plain": [
       "     Track ID       Name       Artist   Album  \\\n",
       "845      1904      Hello  Evanescence  Fallen   \n",
       "844      1902    Haunted  Evanescence  Fallen   \n",
       "842      1898  Imaginary  Evanescence  Fallen   \n",
       "849      1912    Whisper  Evanescence  Fallen   \n",
       "\n",
       "                                          Genre  \\\n",
       "845  Alternative Metal / Nu-Metal / Gothic Rock   \n",
       "844  Alternative Metal / Nu-Metal / Gothic Rock   \n",
       "842  Alternative Metal / Nu-Metal / Gothic Rock   \n",
       "849  Alternative Metal / Nu-Metal / Gothic Rock   \n",
       "\n",
       "                                              Location             Kind  \\\n",
       "845  file:///Users/AlwynLopez/Music/iTunes/iTunes%2...  MPEG audio file   \n",
       "844  file:///Users/AlwynLopez/Music/iTunes/iTunes%2...  MPEG audio file   \n",
       "842  file:///Users/AlwynLopez/Music/iTunes/iTunes%2...  MPEG audio file   \n",
       "849  file:///Users/AlwynLopez/Music/iTunes/iTunes%2...  MPEG audio file   \n",
       "\n",
       "         Size  Total Time  \n",
       "845   9056518      221570  \n",
       "844   7719051      188133  \n",
       "842  10497436      257593  \n",
       "849  13298807      327627  "
      ]
     },
     "execution_count": 27,
     "metadata": {},
     "output_type": "execute_result"
    }
   ],
   "source": [
    "tracks = filter_tracks_by_genre(\"Alternative Metal / Nu-Metal / Gothic Rock\")\n",
    "tracks.sample(4)"
   ]
  },
  {
   "cell_type": "code",
   "execution_count": 28,
   "metadata": {},
   "outputs": [
    {
     "name": "stdout",
     "output_type": "stream",
     "text": [
      "List Of Albums Labeled As Alternative Metal / Nu-Metal / Gothic Rock Along With Associated Artists: \n",
      "** Fallen\n",
      "   1 - Evanescence\n"
     ]
    }
   ],
   "source": [
    "display_album_artist_by_genre(\"Alternative Metal / Nu-Metal / Gothic Rock\")"
   ]
  },
  {
   "cell_type": "markdown",
   "metadata": {},
   "source": [
    "Metal is sub-genre of Rock so because of this all songs in the Fallen album are labeled as rock. "
   ]
  },
  {
   "cell_type": "code",
   "execution_count": 29,
   "metadata": {},
   "outputs": [],
   "source": [
    "relabel_album_genre(\"Fallen\", \"Rock\")"
   ]
  },
  {
   "cell_type": "markdown",
   "metadata": {},
   "source": [
    "## R & B / Soul"
   ]
  },
  {
   "cell_type": "code",
   "execution_count": 30,
   "metadata": {},
   "outputs": [
    {
     "data": {
      "text/html": [
       "<div>\n",
       "<style scoped>\n",
       "    .dataframe tbody tr th:only-of-type {\n",
       "        vertical-align: middle;\n",
       "    }\n",
       "\n",
       "    .dataframe tbody tr th {\n",
       "        vertical-align: top;\n",
       "    }\n",
       "\n",
       "    .dataframe thead th {\n",
       "        text-align: right;\n",
       "    }\n",
       "</style>\n",
       "<table border=\"1\" class=\"dataframe\">\n",
       "  <thead>\n",
       "    <tr style=\"text-align: right;\">\n",
       "      <th></th>\n",
       "      <th>Track ID</th>\n",
       "      <th>Name</th>\n",
       "      <th>Artist</th>\n",
       "      <th>Album</th>\n",
       "      <th>Genre</th>\n",
       "      <th>Location</th>\n",
       "      <th>Kind</th>\n",
       "      <th>Size</th>\n",
       "      <th>Total Time</th>\n",
       "    </tr>\n",
       "  </thead>\n",
       "  <tbody>\n",
       "    <tr>\n",
       "      <th>326</th>\n",
       "      <td>864</td>\n",
       "      <td>Perfect</td>\n",
       "      <td>Jake Barker &amp; Blended Babies</td>\n",
       "      <td>Trip</td>\n",
       "      <td>R&amp;B/Soul</td>\n",
       "      <td>file:///Users/AlwynLopez/Music/iTunes/iTunes%2...</td>\n",
       "      <td>Purchased AAC audio file</td>\n",
       "      <td>7776213</td>\n",
       "      <td>215849</td>\n",
       "    </tr>\n",
       "    <tr>\n",
       "      <th>330</th>\n",
       "      <td>872</td>\n",
       "      <td>Rotate</td>\n",
       "      <td>Jake Barker &amp; Blended Babies</td>\n",
       "      <td>Trip</td>\n",
       "      <td>R&amp;B/Soul</td>\n",
       "      <td>file:///Users/AlwynLopez/Music/iTunes/iTunes%2...</td>\n",
       "      <td>Purchased AAC audio file</td>\n",
       "      <td>6530737</td>\n",
       "      <td>180845</td>\n",
       "    </tr>\n",
       "    <tr>\n",
       "      <th>331</th>\n",
       "      <td>874</td>\n",
       "      <td>Every Night</td>\n",
       "      <td>Jake Barker &amp; Blended Babies</td>\n",
       "      <td>Trip</td>\n",
       "      <td>R&amp;B/Soul</td>\n",
       "      <td>file:///Users/AlwynLopez/Music/iTunes/iTunes%2...</td>\n",
       "      <td>Purchased AAC audio file</td>\n",
       "      <td>7401781</td>\n",
       "      <td>206733</td>\n",
       "    </tr>\n",
       "    <tr>\n",
       "      <th>332</th>\n",
       "      <td>876</td>\n",
       "      <td>The Real You</td>\n",
       "      <td>Jake Barker &amp; Blended Babies</td>\n",
       "      <td>Trip</td>\n",
       "      <td>R&amp;B/Soul</td>\n",
       "      <td>file:///Users/AlwynLopez/Music/iTunes/iTunes%2...</td>\n",
       "      <td>Purchased AAC audio file</td>\n",
       "      <td>6797913</td>\n",
       "      <td>188368</td>\n",
       "    </tr>\n",
       "  </tbody>\n",
       "</table>\n",
       "</div>"
      ],
      "text/plain": [
       "     Track ID          Name                        Artist Album     Genre  \\\n",
       "326       864       Perfect  Jake Barker & Blended Babies  Trip  R&B/Soul   \n",
       "330       872        Rotate  Jake Barker & Blended Babies  Trip  R&B/Soul   \n",
       "331       874   Every Night  Jake Barker & Blended Babies  Trip  R&B/Soul   \n",
       "332       876  The Real You  Jake Barker & Blended Babies  Trip  R&B/Soul   \n",
       "\n",
       "                                              Location  \\\n",
       "326  file:///Users/AlwynLopez/Music/iTunes/iTunes%2...   \n",
       "330  file:///Users/AlwynLopez/Music/iTunes/iTunes%2...   \n",
       "331  file:///Users/AlwynLopez/Music/iTunes/iTunes%2...   \n",
       "332  file:///Users/AlwynLopez/Music/iTunes/iTunes%2...   \n",
       "\n",
       "                         Kind     Size  Total Time  \n",
       "326  Purchased AAC audio file  7776213      215849  \n",
       "330  Purchased AAC audio file  6530737      180845  \n",
       "331  Purchased AAC audio file  7401781      206733  \n",
       "332  Purchased AAC audio file  6797913      188368  "
      ]
     },
     "execution_count": 30,
     "metadata": {},
     "output_type": "execute_result"
    }
   ],
   "source": [
    "tracks = filter_tracks_by_genre(\"R&B/Soul\")\n",
    "tracks.sample(4)"
   ]
  },
  {
   "cell_type": "code",
   "execution_count": 31,
   "metadata": {},
   "outputs": [
    {
     "name": "stdout",
     "output_type": "stream",
     "text": [
      "List Of Albums Labeled As R&B/Soul Along With Associated Artists: \n",
      "** Trip\n",
      "   1 - Jake Barker & Blended Babies\n"
     ]
    }
   ],
   "source": [
    "display_album_artist_by_genre(\"R&B/Soul\")"
   ]
  },
  {
   "cell_type": "markdown",
   "metadata": {},
   "source": [
    "R & B is a sub genre of Hip-Hop (see Musical_Genre_Taxonomy.png), so all songs in the \"Trip\" Album will be labeled as \"Hip-Hop\" music."
   ]
  },
  {
   "cell_type": "code",
   "execution_count": 32,
   "metadata": {},
   "outputs": [],
   "source": [
    "relabel_album_genre(\"Trip\", \"Hip-Hop\")"
   ]
  },
  {
   "cell_type": "markdown",
   "metadata": {},
   "source": [
    "## R & B "
   ]
  },
  {
   "cell_type": "code",
   "execution_count": 33,
   "metadata": {},
   "outputs": [
    {
     "data": {
      "text/html": [
       "<div>\n",
       "<style scoped>\n",
       "    .dataframe tbody tr th:only-of-type {\n",
       "        vertical-align: middle;\n",
       "    }\n",
       "\n",
       "    .dataframe tbody tr th {\n",
       "        vertical-align: top;\n",
       "    }\n",
       "\n",
       "    .dataframe thead th {\n",
       "        text-align: right;\n",
       "    }\n",
       "</style>\n",
       "<table border=\"1\" class=\"dataframe\">\n",
       "  <thead>\n",
       "    <tr style=\"text-align: right;\">\n",
       "      <th></th>\n",
       "      <th>Track ID</th>\n",
       "      <th>Name</th>\n",
       "      <th>Artist</th>\n",
       "      <th>Album</th>\n",
       "      <th>Genre</th>\n",
       "      <th>Location</th>\n",
       "      <th>Kind</th>\n",
       "      <th>Size</th>\n",
       "      <th>Total Time</th>\n",
       "    </tr>\n",
       "  </thead>\n",
       "  <tbody>\n",
       "    <tr>\n",
       "      <th>219</th>\n",
       "      <td>650</td>\n",
       "      <td>24K Magic</td>\n",
       "      <td>Bruno Mars</td>\n",
       "      <td>24K Magic</td>\n",
       "      <td>R&amp;B</td>\n",
       "      <td>file:///Users/AlwynLopez/Music/iTunes/iTunes%2...</td>\n",
       "      <td>MPEG audio file</td>\n",
       "      <td>6994468</td>\n",
       "      <td>226951</td>\n",
       "    </tr>\n",
       "    <tr>\n",
       "      <th>223</th>\n",
       "      <td>658</td>\n",
       "      <td>Versace on the Floor</td>\n",
       "      <td>Bruno Mars</td>\n",
       "      <td>24K Magic</td>\n",
       "      <td>R&amp;B</td>\n",
       "      <td>file:///Users/AlwynLopez/Music/iTunes/iTunes%2...</td>\n",
       "      <td>MPEG audio file</td>\n",
       "      <td>7963481</td>\n",
       "      <td>261276</td>\n",
       "    </tr>\n",
       "    <tr>\n",
       "      <th>225</th>\n",
       "      <td>662</td>\n",
       "      <td>Calling All My Lovelies</td>\n",
       "      <td>Bruno Mars</td>\n",
       "      <td>24K Magic</td>\n",
       "      <td>R&amp;B</td>\n",
       "      <td>file:///Users/AlwynLopez/Music/iTunes/iTunes%2...</td>\n",
       "      <td>MPEG audio file</td>\n",
       "      <td>7832436</td>\n",
       "      <td>250122</td>\n",
       "    </tr>\n",
       "    <tr>\n",
       "      <th>227</th>\n",
       "      <td>666</td>\n",
       "      <td>Too Good to Say Goodbye</td>\n",
       "      <td>Bruno Mars</td>\n",
       "      <td>24K Magic</td>\n",
       "      <td>R&amp;B</td>\n",
       "      <td>file:///Users/AlwynLopez/Music/iTunes/iTunes%2...</td>\n",
       "      <td>MPEG audio file</td>\n",
       "      <td>8630721</td>\n",
       "      <td>281861</td>\n",
       "    </tr>\n",
       "  </tbody>\n",
       "</table>\n",
       "</div>"
      ],
      "text/plain": [
       "     Track ID                     Name      Artist      Album Genre  \\\n",
       "219       650                24K Magic  Bruno Mars  24K Magic   R&B   \n",
       "223       658     Versace on the Floor  Bruno Mars  24K Magic   R&B   \n",
       "225       662  Calling All My Lovelies  Bruno Mars  24K Magic   R&B   \n",
       "227       666  Too Good to Say Goodbye  Bruno Mars  24K Magic   R&B   \n",
       "\n",
       "                                              Location             Kind  \\\n",
       "219  file:///Users/AlwynLopez/Music/iTunes/iTunes%2...  MPEG audio file   \n",
       "223  file:///Users/AlwynLopez/Music/iTunes/iTunes%2...  MPEG audio file   \n",
       "225  file:///Users/AlwynLopez/Music/iTunes/iTunes%2...  MPEG audio file   \n",
       "227  file:///Users/AlwynLopez/Music/iTunes/iTunes%2...  MPEG audio file   \n",
       "\n",
       "        Size  Total Time  \n",
       "219  6994468      226951  \n",
       "223  7963481      261276  \n",
       "225  7832436      250122  \n",
       "227  8630721      281861  "
      ]
     },
     "execution_count": 33,
     "metadata": {},
     "output_type": "execute_result"
    }
   ],
   "source": [
    "tracks = filter_tracks_by_genre(\"R&B\")\n",
    "tracks.sample(4)"
   ]
  },
  {
   "cell_type": "code",
   "execution_count": 34,
   "metadata": {},
   "outputs": [
    {
     "name": "stdout",
     "output_type": "stream",
     "text": [
      "List Of Albums Labeled As R&B Along With Associated Artists: \n",
      "** 24K Magic\n",
      "   1 - Bruno Mars\n"
     ]
    }
   ],
   "source": [
    "display_album_artist_by_genre(\"R&B\")"
   ]
  },
  {
   "cell_type": "markdown",
   "metadata": {},
   "source": [
    "Similar to the previous section, all R&B music will be labeled as \"Hip-Hop\"."
   ]
  },
  {
   "cell_type": "code",
   "execution_count": 35,
   "metadata": {},
   "outputs": [],
   "source": [
    "relabel_album_genre(\"24K Magic\", \"Hip-Hop\")"
   ]
  },
  {
   "cell_type": "markdown",
   "metadata": {},
   "source": [
    "All the other genres below will be labeled as \"Pop\" music."
   ]
  },
  {
   "cell_type": "markdown",
   "metadata": {},
   "source": [
    "## Singer / Songwriter"
   ]
  },
  {
   "cell_type": "code",
   "execution_count": 36,
   "metadata": {},
   "outputs": [
    {
     "data": {
      "text/html": [
       "<div>\n",
       "<style scoped>\n",
       "    .dataframe tbody tr th:only-of-type {\n",
       "        vertical-align: middle;\n",
       "    }\n",
       "\n",
       "    .dataframe tbody tr th {\n",
       "        vertical-align: top;\n",
       "    }\n",
       "\n",
       "    .dataframe thead th {\n",
       "        text-align: right;\n",
       "    }\n",
       "</style>\n",
       "<table border=\"1\" class=\"dataframe\">\n",
       "  <thead>\n",
       "    <tr style=\"text-align: right;\">\n",
       "      <th></th>\n",
       "      <th>Track ID</th>\n",
       "      <th>Name</th>\n",
       "      <th>Artist</th>\n",
       "      <th>Album</th>\n",
       "      <th>Genre</th>\n",
       "      <th>Location</th>\n",
       "      <th>Kind</th>\n",
       "      <th>Size</th>\n",
       "      <th>Total Time</th>\n",
       "    </tr>\n",
       "  </thead>\n",
       "  <tbody>\n",
       "    <tr>\n",
       "      <th>562</th>\n",
       "      <td>1338</td>\n",
       "      <td>Instrumental</td>\n",
       "      <td>dodie</td>\n",
       "      <td>You - EP</td>\n",
       "      <td>Singer/Songwriter</td>\n",
       "      <td>file:///Users/AlwynLopez/Music/iTunes/iTunes%2...</td>\n",
       "      <td>Purchased AAC audio file</td>\n",
       "      <td>2197111</td>\n",
       "      <td>50340</td>\n",
       "    </tr>\n",
       "    <tr>\n",
       "      <th>561</th>\n",
       "      <td>1336</td>\n",
       "      <td>6/10</td>\n",
       "      <td>dodie</td>\n",
       "      <td>You - EP</td>\n",
       "      <td>Singer/Songwriter</td>\n",
       "      <td>file:///Users/AlwynLopez/Music/iTunes/iTunes%2...</td>\n",
       "      <td>Purchased AAC audio file</td>\n",
       "      <td>6474218</td>\n",
       "      <td>185487</td>\n",
       "    </tr>\n",
       "    <tr>\n",
       "      <th>563</th>\n",
       "      <td>1340</td>\n",
       "      <td>In the Middle</td>\n",
       "      <td>dodie</td>\n",
       "      <td>You - EP</td>\n",
       "      <td>Singer/Songwriter</td>\n",
       "      <td>file:///Users/AlwynLopez/Music/iTunes/iTunes%2...</td>\n",
       "      <td>Purchased AAC audio file</td>\n",
       "      <td>6494192</td>\n",
       "      <td>181632</td>\n",
       "    </tr>\n",
       "    <tr>\n",
       "      <th>565</th>\n",
       "      <td>1344</td>\n",
       "      <td>You</td>\n",
       "      <td>dodie</td>\n",
       "      <td>You - EP</td>\n",
       "      <td>Singer/Songwriter</td>\n",
       "      <td>file:///Users/AlwynLopez/Music/iTunes/iTunes%2...</td>\n",
       "      <td>Purchased AAC audio file</td>\n",
       "      <td>6128776</td>\n",
       "      <td>170975</td>\n",
       "    </tr>\n",
       "  </tbody>\n",
       "</table>\n",
       "</div>"
      ],
      "text/plain": [
       "     Track ID           Name Artist     Album              Genre  \\\n",
       "562      1338   Instrumental  dodie  You - EP  Singer/Songwriter   \n",
       "561      1336           6/10  dodie  You - EP  Singer/Songwriter   \n",
       "563      1340  In the Middle  dodie  You - EP  Singer/Songwriter   \n",
       "565      1344            You  dodie  You - EP  Singer/Songwriter   \n",
       "\n",
       "                                              Location  \\\n",
       "562  file:///Users/AlwynLopez/Music/iTunes/iTunes%2...   \n",
       "561  file:///Users/AlwynLopez/Music/iTunes/iTunes%2...   \n",
       "563  file:///Users/AlwynLopez/Music/iTunes/iTunes%2...   \n",
       "565  file:///Users/AlwynLopez/Music/iTunes/iTunes%2...   \n",
       "\n",
       "                         Kind     Size  Total Time  \n",
       "562  Purchased AAC audio file  2197111       50340  \n",
       "561  Purchased AAC audio file  6474218      185487  \n",
       "563  Purchased AAC audio file  6494192      181632  \n",
       "565  Purchased AAC audio file  6128776      170975  "
      ]
     },
     "execution_count": 36,
     "metadata": {},
     "output_type": "execute_result"
    }
   ],
   "source": [
    "tracks = filter_tracks_by_genre(\"Singer/Songwriter\")\n",
    "tracks.sample(4)"
   ]
  },
  {
   "cell_type": "code",
   "execution_count": 37,
   "metadata": {},
   "outputs": [
    {
     "name": "stdout",
     "output_type": "stream",
     "text": [
      "List Of Albums Labeled As Singer/Songwriter Along With Associated Artists: \n",
      "** You - EP\n",
      "   1 - dodie\n"
     ]
    }
   ],
   "source": [
    "display_album_artist_by_genre(\"Singer/Songwriter\")"
   ]
  },
  {
   "cell_type": "code",
   "execution_count": 38,
   "metadata": {},
   "outputs": [],
   "source": [
    "relabel_album_genre(\"You - EP\", \"Pop\")"
   ]
  },
  {
   "cell_type": "markdown",
   "metadata": {},
   "source": [
    "## Alternative Folk"
   ]
  },
  {
   "cell_type": "code",
   "execution_count": 39,
   "metadata": {},
   "outputs": [
    {
     "data": {
      "text/html": [
       "<div>\n",
       "<style scoped>\n",
       "    .dataframe tbody tr th:only-of-type {\n",
       "        vertical-align: middle;\n",
       "    }\n",
       "\n",
       "    .dataframe tbody tr th {\n",
       "        vertical-align: top;\n",
       "    }\n",
       "\n",
       "    .dataframe thead th {\n",
       "        text-align: right;\n",
       "    }\n",
       "</style>\n",
       "<table border=\"1\" class=\"dataframe\">\n",
       "  <thead>\n",
       "    <tr style=\"text-align: right;\">\n",
       "      <th></th>\n",
       "      <th>Track ID</th>\n",
       "      <th>Name</th>\n",
       "      <th>Artist</th>\n",
       "      <th>Album</th>\n",
       "      <th>Genre</th>\n",
       "      <th>Location</th>\n",
       "      <th>Kind</th>\n",
       "      <th>Size</th>\n",
       "      <th>Total Time</th>\n",
       "    </tr>\n",
       "  </thead>\n",
       "  <tbody>\n",
       "    <tr>\n",
       "      <th>621</th>\n",
       "      <td>1456</td>\n",
       "      <td>Here Comes The Sun (feat. dodie)</td>\n",
       "      <td>Jacob Collier</td>\n",
       "      <td>Here Comes The Sun (feat. dodie) - Single</td>\n",
       "      <td>Alternative Folk</td>\n",
       "      <td>file:///Users/AlwynLopez/Music/iTunes/iTunes%2...</td>\n",
       "      <td>Purchased AAC audio file</td>\n",
       "      <td>9766618</td>\n",
       "      <td>238360</td>\n",
       "    </tr>\n",
       "  </tbody>\n",
       "</table>\n",
       "</div>"
      ],
      "text/plain": [
       "     Track ID                              Name         Artist  \\\n",
       "621      1456  Here Comes The Sun (feat. dodie)  Jacob Collier   \n",
       "\n",
       "                                         Album             Genre  \\\n",
       "621  Here Comes The Sun (feat. dodie) - Single  Alternative Folk   \n",
       "\n",
       "                                              Location  \\\n",
       "621  file:///Users/AlwynLopez/Music/iTunes/iTunes%2...   \n",
       "\n",
       "                         Kind     Size  Total Time  \n",
       "621  Purchased AAC audio file  9766618      238360  "
      ]
     },
     "metadata": {},
     "output_type": "display_data"
    }
   ],
   "source": [
    "tracks = filter_tracks_by_genre(\"Alternative Folk\")\n",
    "display(tracks)"
   ]
  },
  {
   "cell_type": "code",
   "execution_count": 40,
   "metadata": {},
   "outputs": [
    {
     "name": "stdout",
     "output_type": "stream",
     "text": [
      "List Of Albums Labeled As Alternative Folk Along With Associated Artists: \n",
      "** Here Comes The Sun (feat. dodie) - Single\n",
      "   1 - Jacob Collier\n"
     ]
    }
   ],
   "source": [
    "display_album_artist_by_genre(\"Alternative Folk\")"
   ]
  },
  {
   "cell_type": "code",
   "execution_count": 41,
   "metadata": {},
   "outputs": [],
   "source": [
    "relabel_album_genre(\"Here Comes The Sun (feat. dodie) - Single\", \"Jazz\")"
   ]
  },
  {
   "cell_type": "markdown",
   "metadata": {},
   "source": [
    "## Pop Latino"
   ]
  },
  {
   "cell_type": "code",
   "execution_count": 42,
   "metadata": {},
   "outputs": [
    {
     "data": {
      "text/html": [
       "<div>\n",
       "<style scoped>\n",
       "    .dataframe tbody tr th:only-of-type {\n",
       "        vertical-align: middle;\n",
       "    }\n",
       "\n",
       "    .dataframe tbody tr th {\n",
       "        vertical-align: top;\n",
       "    }\n",
       "\n",
       "    .dataframe thead th {\n",
       "        text-align: right;\n",
       "    }\n",
       "</style>\n",
       "<table border=\"1\" class=\"dataframe\">\n",
       "  <thead>\n",
       "    <tr style=\"text-align: right;\">\n",
       "      <th></th>\n",
       "      <th>Track ID</th>\n",
       "      <th>Name</th>\n",
       "      <th>Artist</th>\n",
       "      <th>Album</th>\n",
       "      <th>Genre</th>\n",
       "      <th>Location</th>\n",
       "      <th>Kind</th>\n",
       "      <th>Size</th>\n",
       "      <th>Total Time</th>\n",
       "    </tr>\n",
       "  </thead>\n",
       "  <tbody>\n",
       "    <tr>\n",
       "      <th>392</th>\n",
       "      <td>996</td>\n",
       "      <td>Despacito (feat. Daddy Yankee)</td>\n",
       "      <td>Luis Fonsi</td>\n",
       "      <td>Despacito (feat. Daddy Yankee) - Single</td>\n",
       "      <td>Pop Latino</td>\n",
       "      <td>file:///Users/AlwynLopez/Music/iTunes/iTunes%2...</td>\n",
       "      <td>Purchased AAC audio file</td>\n",
       "      <td>8604342</td>\n",
       "      <td>227791</td>\n",
       "    </tr>\n",
       "  </tbody>\n",
       "</table>\n",
       "</div>"
      ],
      "text/plain": [
       "     Track ID                            Name      Artist  \\\n",
       "392       996  Despacito (feat. Daddy Yankee)  Luis Fonsi   \n",
       "\n",
       "                                       Album       Genre  \\\n",
       "392  Despacito (feat. Daddy Yankee) - Single  Pop Latino   \n",
       "\n",
       "                                              Location  \\\n",
       "392  file:///Users/AlwynLopez/Music/iTunes/iTunes%2...   \n",
       "\n",
       "                         Kind     Size  Total Time  \n",
       "392  Purchased AAC audio file  8604342      227791  "
      ]
     },
     "metadata": {},
     "output_type": "display_data"
    }
   ],
   "source": [
    "tracks = filter_tracks_by_genre(\"Pop Latino\")\n",
    "display(tracks)"
   ]
  },
  {
   "cell_type": "code",
   "execution_count": 43,
   "metadata": {},
   "outputs": [
    {
     "name": "stdout",
     "output_type": "stream",
     "text": [
      "List Of Albums Labeled As Pop Latino Along With Associated Artists: \n",
      "** Despacito (feat. Daddy Yankee) - Single\n",
      "   1 - Luis Fonsi\n"
     ]
    }
   ],
   "source": [
    "display_album_artist_by_genre(\"Pop Latino\")"
   ]
  },
  {
   "cell_type": "code",
   "execution_count": 44,
   "metadata": {},
   "outputs": [],
   "source": [
    "relabel_album_genre(\"Despacito (feat. Daddy Yankee) - Single\", \"Pop\")"
   ]
  },
  {
   "cell_type": "markdown",
   "metadata": {},
   "source": [
    "## EDM"
   ]
  },
  {
   "cell_type": "code",
   "execution_count": 45,
   "metadata": {},
   "outputs": [
    {
     "data": {
      "text/html": [
       "<div>\n",
       "<style scoped>\n",
       "    .dataframe tbody tr th:only-of-type {\n",
       "        vertical-align: middle;\n",
       "    }\n",
       "\n",
       "    .dataframe tbody tr th {\n",
       "        vertical-align: top;\n",
       "    }\n",
       "\n",
       "    .dataframe thead th {\n",
       "        text-align: right;\n",
       "    }\n",
       "</style>\n",
       "<table border=\"1\" class=\"dataframe\">\n",
       "  <thead>\n",
       "    <tr style=\"text-align: right;\">\n",
       "      <th></th>\n",
       "      <th>Track ID</th>\n",
       "      <th>Name</th>\n",
       "      <th>Artist</th>\n",
       "      <th>Album</th>\n",
       "      <th>Genre</th>\n",
       "      <th>Location</th>\n",
       "      <th>Kind</th>\n",
       "      <th>Size</th>\n",
       "      <th>Total Time</th>\n",
       "    </tr>\n",
       "  </thead>\n",
       "  <tbody>\n",
       "    <tr>\n",
       "      <th>464</th>\n",
       "      <td>1140</td>\n",
       "      <td>Stay With Me</td>\n",
       "      <td>Diamond Eyes &amp; Christina Grimmie</td>\n",
       "      <td>Stay With Me - Single</td>\n",
       "      <td>EDM</td>\n",
       "      <td>file:///Users/AlwynLopez/Music/iTunes/iTunes%2...</td>\n",
       "      <td>MPEG audio file</td>\n",
       "      <td>7370843</td>\n",
       "      <td>243800</td>\n",
       "    </tr>\n",
       "  </tbody>\n",
       "</table>\n",
       "</div>"
      ],
      "text/plain": [
       "     Track ID          Name                            Artist  \\\n",
       "464      1140  Stay With Me  Diamond Eyes & Christina Grimmie   \n",
       "\n",
       "                     Album Genre  \\\n",
       "464  Stay With Me - Single   EDM   \n",
       "\n",
       "                                              Location             Kind  \\\n",
       "464  file:///Users/AlwynLopez/Music/iTunes/iTunes%2...  MPEG audio file   \n",
       "\n",
       "        Size  Total Time  \n",
       "464  7370843      243800  "
      ]
     },
     "metadata": {},
     "output_type": "display_data"
    }
   ],
   "source": [
    "tracks = filter_tracks_by_genre(\"EDM\")\n",
    "display(tracks)"
   ]
  },
  {
   "cell_type": "markdown",
   "metadata": {},
   "source": [
    "There is only one track that has the genre 'EDM' so to make things simple, let us relabel it as \"Pop\"."
   ]
  },
  {
   "cell_type": "code",
   "execution_count": 46,
   "metadata": {},
   "outputs": [
    {
     "name": "stdout",
     "output_type": "stream",
     "text": [
      "List Of Albums Labeled As EDM Along With Associated Artists: \n",
      "** Stay With Me - Single\n",
      "   1 - Diamond Eyes & Christina Grimmie\n"
     ]
    }
   ],
   "source": [
    "display_album_artist_by_genre(\"EDM\")"
   ]
  },
  {
   "cell_type": "code",
   "execution_count": 47,
   "metadata": {},
   "outputs": [],
   "source": [
    "relabel_album_genre(\"Stay With Me - Single\", \"Pop\")"
   ]
  },
  {
   "cell_type": "markdown",
   "metadata": {},
   "source": [
    "# Genre Distribution (Post - Reclassification)"
   ]
  },
  {
   "cell_type": "code",
   "execution_count": 48,
   "metadata": {},
   "outputs": [
    {
     "data": {
      "image/png": "[encoded data removed]",
      "text/plain": [
       "<Figure size 1080x720 with 1 Axes>"
      ]
     },
     "metadata": {
      "needs_background": "light"
     },
     "output_type": "display_data"
    },
    {
     "data": {
      "text/plain": [
       "Pop           266\n",
       "Rock          252\n",
       "Soundtrack    170\n",
       "Hip-Hop        97\n",
       "Jazz           94\n",
       "Name: Genre, dtype: int64"
      ]
     },
     "execution_count": 48,
     "metadata": {},
     "output_type": "execute_result"
    }
   ],
   "source": [
    "music_genre_counter = my_music_metadata_df['Genre'].value_counts()\n",
    "music_genre_counter.plot(\n",
    "    kind='barh', \n",
    "    figsize=(15,10), \n",
    "    color='lightblue', \n",
    "    title='Music Genres (After Relabelling)'\n",
    ")\n",
    "plt.show()\n",
    "my_music_metadata_df.Genre.value_counts()"
   ]
  },
  {
   "cell_type": "markdown",
   "metadata": {},
   "source": [
    "As you can see from the above graph, as well as the genre tally table, there is an imbalanced dataset where most music falls into one of three categories \"Pop\", \"Rock\", and \"Soundtrack\", while the rest falls into \"Hip-Hop\" or \"Jazz\". This would be a problem if we want to create a machine learning or deep learning model that can classify the five genres accurately.\n",
    "\n",
    "To resolve this issue, we will use upsampling techniques so that the number of tracks in each of the five genres are roughly the same (around ~500 samples each). For details how the upsampling process works, see the python script load_my_music.py script.\n"
   ]
  },
  {
   "cell_type": "code",
   "execution_count": 49,
   "metadata": {},
   "outputs": [],
   "source": [
    "my_music_metadata_df.to_csv(\"my_music_metadata_(m).csv\", index=False)"
   ]
  }
 ],
 "metadata": {
  "kernelspec": {
   "display_name": "Python 3",
   "language": "python",
   "name": "python3"
  },
  "language_info": {
   "codemirror_mode": {
    "name": "ipython",
    "version": 3
   },
   "file_extension": ".py",
   "mimetype": "text/x-python",
   "name": "python",
   "nbconvert_exporter": "python",
   "pygments_lexer": "ipython3",
   "version": "3.7.4"
  }
 },
 "nbformat": 4,
 "nbformat_minor": 4
}
