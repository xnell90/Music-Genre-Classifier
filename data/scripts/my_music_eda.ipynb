{
 "cells": [
  {
   "cell_type": "markdown",
   "metadata": {},
   "source": [
    "# Exploratory Data Analysis (Personal Collection Metadata)"
   ]
  },
  {
   "cell_type": "markdown",
   "metadata": {},
   "source": [
    "## Load The Metadata"
   ]
  },
  {
   "cell_type": "code",
   "execution_count": 48,
   "metadata": {},
   "outputs": [
    {
     "data": {
      "text/html": [
       "<div>\n",
       "<style scoped>\n",
       "    .dataframe tbody tr th:only-of-type {\n",
       "        vertical-align: middle;\n",
       "    }\n",
       "\n",
       "    .dataframe tbody tr th {\n",
       "        vertical-align: top;\n",
       "    }\n",
       "\n",
       "    .dataframe thead th {\n",
       "        text-align: right;\n",
       "    }\n",
       "</style>\n",
       "<table border=\"1\" class=\"dataframe\">\n",
       "  <thead>\n",
       "    <tr style=\"text-align: right;\">\n",
       "      <th></th>\n",
       "      <th>Unnamed: 0</th>\n",
       "      <th>Track ID</th>\n",
       "      <th>Name</th>\n",
       "      <th>Artist</th>\n",
       "      <th>Album</th>\n",
       "      <th>Genre</th>\n",
       "      <th>Location</th>\n",
       "      <th>Kind</th>\n",
       "      <th>Size</th>\n",
       "      <th>Total Time</th>\n",
       "    </tr>\n",
       "  </thead>\n",
       "  <tbody>\n",
       "    <tr>\n",
       "      <th>0</th>\n",
       "      <td>0</td>\n",
       "      <td>212</td>\n",
       "      <td>Over Overthinking You</td>\n",
       "      <td>Christina Grimmie</td>\n",
       "      <td>With Love</td>\n",
       "      <td>Pop</td>\n",
       "      <td>file:///Users/AlwynLopez/Music/iTunes/iTunes%2...</td>\n",
       "      <td>MPEG audio file</td>\n",
       "      <td>7438232</td>\n",
       "      <td>183457</td>\n",
       "    </tr>\n",
       "    <tr>\n",
       "      <th>1</th>\n",
       "      <td>1</td>\n",
       "      <td>214</td>\n",
       "      <td>Absolutely Final Goodbye</td>\n",
       "      <td>Christina Grimmie</td>\n",
       "      <td>With Love</td>\n",
       "      <td>Pop</td>\n",
       "      <td>file:///Users/AlwynLopez/Music/iTunes/iTunes%2...</td>\n",
       "      <td>MPEG audio file</td>\n",
       "      <td>6532311</td>\n",
       "      <td>160809</td>\n",
       "    </tr>\n",
       "    <tr>\n",
       "      <th>2</th>\n",
       "      <td>2</td>\n",
       "      <td>216</td>\n",
       "      <td>Make It Work</td>\n",
       "      <td>Christina Grimmie</td>\n",
       "      <td>With Love</td>\n",
       "      <td>Pop</td>\n",
       "      <td>file:///Users/AlwynLopez/Music/iTunes/iTunes%2...</td>\n",
       "      <td>MPEG audio file</td>\n",
       "      <td>9333659</td>\n",
       "      <td>230844</td>\n",
       "    </tr>\n",
       "    <tr>\n",
       "      <th>3</th>\n",
       "      <td>3</td>\n",
       "      <td>218</td>\n",
       "      <td>Get Yourself Together</td>\n",
       "      <td>Christina Grimmie</td>\n",
       "      <td>With Love</td>\n",
       "      <td>Pop</td>\n",
       "      <td>file:///Users/AlwynLopez/Music/iTunes/iTunes%2...</td>\n",
       "      <td>MPEG audio file</td>\n",
       "      <td>8606428</td>\n",
       "      <td>212662</td>\n",
       "    </tr>\n",
       "    <tr>\n",
       "      <th>4</th>\n",
       "      <td>4</td>\n",
       "      <td>220</td>\n",
       "      <td>With Love</td>\n",
       "      <td>Christina Grimmie</td>\n",
       "      <td>With Love</td>\n",
       "      <td>Pop</td>\n",
       "      <td>file:///Users/AlwynLopez/Music/iTunes/iTunes%2...</td>\n",
       "      <td>MPEG audio file</td>\n",
       "      <td>9618910</td>\n",
       "      <td>237975</td>\n",
       "    </tr>\n",
       "    <tr>\n",
       "      <th>5</th>\n",
       "      <td>5</td>\n",
       "      <td>222</td>\n",
       "      <td>Tell My Mama</td>\n",
       "      <td>Christina Grimmie</td>\n",
       "      <td>With Love</td>\n",
       "      <td>Pop</td>\n",
       "      <td>file:///Users/AlwynLopez/Music/iTunes/iTunes%2...</td>\n",
       "      <td>MPEG audio file</td>\n",
       "      <td>8064108</td>\n",
       "      <td>199105</td>\n",
       "    </tr>\n",
       "    <tr>\n",
       "      <th>6</th>\n",
       "      <td>6</td>\n",
       "      <td>224</td>\n",
       "      <td>Feelin' Good</td>\n",
       "      <td>Christina Grimmie</td>\n",
       "      <td>With Love</td>\n",
       "      <td>Pop</td>\n",
       "      <td>file:///Users/AlwynLopez/Music/iTunes/iTunes%2...</td>\n",
       "      <td>MPEG audio file</td>\n",
       "      <td>9836255</td>\n",
       "      <td>243408</td>\n",
       "    </tr>\n",
       "    <tr>\n",
       "      <th>7</th>\n",
       "      <td>7</td>\n",
       "      <td>226</td>\n",
       "      <td>The One I Crave</td>\n",
       "      <td>Christina Grimmie</td>\n",
       "      <td>With Love</td>\n",
       "      <td>Pop</td>\n",
       "      <td>file:///Users/AlwynLopez/Music/iTunes/iTunes%2...</td>\n",
       "      <td>MPEG audio file</td>\n",
       "      <td>6954432</td>\n",
       "      <td>171363</td>\n",
       "    </tr>\n",
       "    <tr>\n",
       "      <th>8</th>\n",
       "      <td>8</td>\n",
       "      <td>228</td>\n",
       "      <td>I Bet You Don't Curse God</td>\n",
       "      <td>Christina Grimmie</td>\n",
       "      <td>With Love</td>\n",
       "      <td>Pop</td>\n",
       "      <td>file:///Users/AlwynLopez/Music/iTunes/iTunes%2...</td>\n",
       "      <td>MPEG audio file</td>\n",
       "      <td>9362942</td>\n",
       "      <td>231575</td>\n",
       "    </tr>\n",
       "    <tr>\n",
       "      <th>9</th>\n",
       "      <td>9</td>\n",
       "      <td>230</td>\n",
       "      <td>Think of You</td>\n",
       "      <td>Christina Grimmie</td>\n",
       "      <td>With Love</td>\n",
       "      <td>Pop</td>\n",
       "      <td>file:///Users/AlwynLopez/Music/iTunes/iTunes%2...</td>\n",
       "      <td>MPEG audio file</td>\n",
       "      <td>9133038</td>\n",
       "      <td>225828</td>\n",
       "    </tr>\n",
       "  </tbody>\n",
       "</table>\n",
       "</div>"
      ],
      "text/plain": [
       "   Unnamed: 0  Track ID                       Name             Artist  \\\n",
       "0           0       212      Over Overthinking You  Christina Grimmie   \n",
       "1           1       214   Absolutely Final Goodbye  Christina Grimmie   \n",
       "2           2       216               Make It Work  Christina Grimmie   \n",
       "3           3       218      Get Yourself Together  Christina Grimmie   \n",
       "4           4       220                  With Love  Christina Grimmie   \n",
       "5           5       222               Tell My Mama  Christina Grimmie   \n",
       "6           6       224               Feelin' Good  Christina Grimmie   \n",
       "7           7       226            The One I Crave  Christina Grimmie   \n",
       "8           8       228  I Bet You Don't Curse God  Christina Grimmie   \n",
       "9           9       230               Think of You  Christina Grimmie   \n",
       "\n",
       "       Album Genre                                           Location  \\\n",
       "0  With Love   Pop  file:///Users/AlwynLopez/Music/iTunes/iTunes%2...   \n",
       "1  With Love   Pop  file:///Users/AlwynLopez/Music/iTunes/iTunes%2...   \n",
       "2  With Love   Pop  file:///Users/AlwynLopez/Music/iTunes/iTunes%2...   \n",
       "3  With Love   Pop  file:///Users/AlwynLopez/Music/iTunes/iTunes%2...   \n",
       "4  With Love   Pop  file:///Users/AlwynLopez/Music/iTunes/iTunes%2...   \n",
       "5  With Love   Pop  file:///Users/AlwynLopez/Music/iTunes/iTunes%2...   \n",
       "6  With Love   Pop  file:///Users/AlwynLopez/Music/iTunes/iTunes%2...   \n",
       "7  With Love   Pop  file:///Users/AlwynLopez/Music/iTunes/iTunes%2...   \n",
       "8  With Love   Pop  file:///Users/AlwynLopez/Music/iTunes/iTunes%2...   \n",
       "9  With Love   Pop  file:///Users/AlwynLopez/Music/iTunes/iTunes%2...   \n",
       "\n",
       "              Kind     Size  Total Time  \n",
       "0  MPEG audio file  7438232      183457  \n",
       "1  MPEG audio file  6532311      160809  \n",
       "2  MPEG audio file  9333659      230844  \n",
       "3  MPEG audio file  8606428      212662  \n",
       "4  MPEG audio file  9618910      237975  \n",
       "5  MPEG audio file  8064108      199105  \n",
       "6  MPEG audio file  9836255      243408  \n",
       "7  MPEG audio file  6954432      171363  \n",
       "8  MPEG audio file  9362942      231575  \n",
       "9  MPEG audio file  9133038      225828  "
      ]
     },
     "execution_count": 48,
     "metadata": {},
     "output_type": "execute_result"
    }
   ],
   "source": [
    "import pandas as pd\n",
    "import matplotlib.pyplot as plt\n",
    "\n",
    "my_music_metadata_df = pd.read_csv(\"my_music_metadata.csv\")\n",
    "my_music_metadata_df.head(10)"
   ]
  },
  {
   "cell_type": "markdown",
   "metadata": {},
   "source": [
    "## Print Out Total File Size Storage And Total Time"
   ]
  },
  {
   "cell_type": "code",
   "execution_count": 45,
   "metadata": {},
   "outputs": [
    {
     "name": "stdout",
     "output_type": "stream",
     "text": [
      "Total Bytes: \t 6265166905\n",
      "Total Seconds: \t 175916573\n"
     ]
    }
   ],
   "source": [
    "total_bytes = my_music_metadata_df['Size'].sum()\n",
    "total_milliseconds = my_music_metadata_df['Total Time'].sum()\n",
    "\n",
    "print(\"Total Bytes: \\t\", total_bytes)\n",
    "print(\"Total Seconds: \\t\", total_milliseconds)"
   ]
  },
  {
   "cell_type": "markdown",
   "metadata": {},
   "source": [
    "That is about 6.26 gigabytes of data, and its duration is about 2 days."
   ]
  },
  {
   "cell_type": "markdown",
   "metadata": {},
   "source": [
    "## Pie Chart For File Types In My Collection"
   ]
  },
  {
   "cell_type": "code",
   "execution_count": 65,
   "metadata": {},
   "outputs": [
    {
     "data": {
      "image/png": "[encoded data removed]",
      "text/plain": [
       "<Figure size 1080x720 with 1 Axes>"
      ]
     },
     "metadata": {},
     "output_type": "display_data"
    },
    {
     "name": "stdout",
     "output_type": "stream",
     "text": [
      "MPEG audio file             682\n",
      "Purchased AAC audio file    197\n",
      "Name: Kind, dtype: int64\n"
     ]
    }
   ],
   "source": [
    "file_type_counter = my_music_metadata_df['Kind'].value_counts()\n",
    "file_type_counter.plot(\n",
    "    kind='pie', \n",
    "    figsize=(15,10), \n",
    "    colors = ['#ff9999','#99ff99'], \n",
    "    title='File Types', \n",
    "    ylabel=\"\"\n",
    ")\n",
    "plt.show()\n",
    "print(file_type_counter)"
   ]
  },
  {
   "cell_type": "markdown",
   "metadata": {},
   "source": [
    "## Bar Chart For Music Genres In My Collection"
   ]
  },
  {
   "cell_type": "code",
   "execution_count": 58,
   "metadata": {},
   "outputs": [
    {
     "data": {
      "image/png": "[encoded data removed]",
      "text/plain": [
       "<Figure size 1080x720 with 1 Axes>"
      ]
     },
     "metadata": {
      "needs_background": "light"
     },
     "output_type": "display_data"
    }
   ],
   "source": [
    "music_genre_counter = my_music_metadata_df['Genre'].value_counts()\n",
    "music_genre_counter.plot(\n",
    "    kind='bar', \n",
    "    figsize=(15,10), \n",
    "    color=['#66b3ff'], \n",
    "    title='Music Genres'\n",
    ")\n",
    "plt.show()"
   ]
  }
 ],
 "metadata": {
  "kernelspec": {
   "display_name": "Python 3",
   "language": "python",
   "name": "python3"
  },
  "language_info": {
   "codemirror_mode": {
    "name": "ipython",
    "version": 3
   },
   "file_extension": ".py",
   "mimetype": "text/x-python",
   "name": "python",
   "nbconvert_exporter": "python",
   "pygments_lexer": "ipython3",
   "version": "3.7.4"
  }
 },
 "nbformat": 4,
 "nbformat_minor": 4
}
