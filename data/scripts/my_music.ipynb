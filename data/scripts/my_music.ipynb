{
 "cells": [
  {
   "cell_type": "markdown",
   "metadata": {},
   "source": [
    "# Exploratory Data Analysis (Personal Music Collection Metadata)"
   ]
  },
  {
   "cell_type": "markdown",
   "metadata": {},
   "source": [
    "### Load The Metadata"
   ]
  },
  {
   "cell_type": "code",
   "execution_count": 1,
   "metadata": {},
   "outputs": [
    {
     "data": {
      "text/html": [
       "<div>\n",
       "<style scoped>\n",
       "    .dataframe tbody tr th:only-of-type {\n",
       "        vertical-align: middle;\n",
       "    }\n",
       "\n",
       "    .dataframe tbody tr th {\n",
       "        vertical-align: top;\n",
       "    }\n",
       "\n",
       "    .dataframe thead th {\n",
       "        text-align: right;\n",
       "    }\n",
       "</style>\n",
       "<table border=\"1\" class=\"dataframe\">\n",
       "  <thead>\n",
       "    <tr style=\"text-align: right;\">\n",
       "      <th></th>\n",
       "      <th>Track ID</th>\n",
       "      <th>Name</th>\n",
       "      <th>Artist</th>\n",
       "      <th>Album</th>\n",
       "      <th>Genre</th>\n",
       "      <th>Location</th>\n",
       "      <th>Kind</th>\n",
       "      <th>Size</th>\n",
       "      <th>Total Time</th>\n",
       "    </tr>\n",
       "  </thead>\n",
       "  <tbody>\n",
       "    <tr>\n",
       "      <th>0</th>\n",
       "      <td>212</td>\n",
       "      <td>Over Overthinking You</td>\n",
       "      <td>Christina Grimmie</td>\n",
       "      <td>With Love</td>\n",
       "      <td>Pop</td>\n",
       "      <td>file:///Users/AlwynLopez/Music/iTunes/iTunes%2...</td>\n",
       "      <td>MPEG audio file</td>\n",
       "      <td>7438232</td>\n",
       "      <td>183457</td>\n",
       "    </tr>\n",
       "    <tr>\n",
       "      <th>1</th>\n",
       "      <td>214</td>\n",
       "      <td>Absolutely Final Goodbye</td>\n",
       "      <td>Christina Grimmie</td>\n",
       "      <td>With Love</td>\n",
       "      <td>Pop</td>\n",
       "      <td>file:///Users/AlwynLopez/Music/iTunes/iTunes%2...</td>\n",
       "      <td>MPEG audio file</td>\n",
       "      <td>6532311</td>\n",
       "      <td>160809</td>\n",
       "    </tr>\n",
       "    <tr>\n",
       "      <th>2</th>\n",
       "      <td>216</td>\n",
       "      <td>Make It Work</td>\n",
       "      <td>Christina Grimmie</td>\n",
       "      <td>With Love</td>\n",
       "      <td>Pop</td>\n",
       "      <td>file:///Users/AlwynLopez/Music/iTunes/iTunes%2...</td>\n",
       "      <td>MPEG audio file</td>\n",
       "      <td>9333659</td>\n",
       "      <td>230844</td>\n",
       "    </tr>\n",
       "    <tr>\n",
       "      <th>3</th>\n",
       "      <td>218</td>\n",
       "      <td>Get Yourself Together</td>\n",
       "      <td>Christina Grimmie</td>\n",
       "      <td>With Love</td>\n",
       "      <td>Pop</td>\n",
       "      <td>file:///Users/AlwynLopez/Music/iTunes/iTunes%2...</td>\n",
       "      <td>MPEG audio file</td>\n",
       "      <td>8606428</td>\n",
       "      <td>212662</td>\n",
       "    </tr>\n",
       "    <tr>\n",
       "      <th>4</th>\n",
       "      <td>220</td>\n",
       "      <td>With Love</td>\n",
       "      <td>Christina Grimmie</td>\n",
       "      <td>With Love</td>\n",
       "      <td>Pop</td>\n",
       "      <td>file:///Users/AlwynLopez/Music/iTunes/iTunes%2...</td>\n",
       "      <td>MPEG audio file</td>\n",
       "      <td>9618910</td>\n",
       "      <td>237975</td>\n",
       "    </tr>\n",
       "    <tr>\n",
       "      <th>...</th>\n",
       "      <td>...</td>\n",
       "      <td>...</td>\n",
       "      <td>...</td>\n",
       "      <td>...</td>\n",
       "      <td>...</td>\n",
       "      <td>...</td>\n",
       "      <td>...</td>\n",
       "      <td>...</td>\n",
       "      <td>...</td>\n",
       "    </tr>\n",
       "    <tr>\n",
       "      <th>874</th>\n",
       "      <td>1962</td>\n",
       "      <td>Anthems for a Seventeen Year Old Girl</td>\n",
       "      <td>Broken Social Scene</td>\n",
       "      <td>Scott Pilgrim Vs. the World</td>\n",
       "      <td>Rock</td>\n",
       "      <td>file:///Users/AlwynLopez/Music/iTunes/iTunes%2...</td>\n",
       "      <td>MPEG audio file</td>\n",
       "      <td>8899716</td>\n",
       "      <td>275670</td>\n",
       "    </tr>\n",
       "    <tr>\n",
       "      <th>875</th>\n",
       "      <td>1964</td>\n",
       "      <td>Scott Pilgrim</td>\n",
       "      <td>Plumtree</td>\n",
       "      <td>Scott Pilgrim Vs. the World</td>\n",
       "      <td>Rock</td>\n",
       "      <td>file:///Users/AlwynLopez/Music/iTunes/iTunes%2...</td>\n",
       "      <td>MPEG audio file</td>\n",
       "      <td>5889314</td>\n",
       "      <td>181968</td>\n",
       "    </tr>\n",
       "    <tr>\n",
       "      <th>876</th>\n",
       "      <td>1966</td>\n",
       "      <td>O Katrina!</td>\n",
       "      <td>Black Lips</td>\n",
       "      <td>Scott Pilgrim Vs. the World</td>\n",
       "      <td>Rock</td>\n",
       "      <td>file:///Users/AlwynLopez/Music/iTunes/iTunes%2...</td>\n",
       "      <td>MPEG audio file</td>\n",
       "      <td>5532348</td>\n",
       "      <td>170840</td>\n",
       "    </tr>\n",
       "    <tr>\n",
       "      <th>877</th>\n",
       "      <td>1968</td>\n",
       "      <td>Sleazy Bed Track</td>\n",
       "      <td>The Bluetones</td>\n",
       "      <td>Scott Pilgrim Vs. the World</td>\n",
       "      <td>Rock</td>\n",
       "      <td>file:///Users/AlwynLopez/Music/iTunes/iTunes%2...</td>\n",
       "      <td>MPEG audio file</td>\n",
       "      <td>8903857</td>\n",
       "      <td>275800</td>\n",
       "    </tr>\n",
       "    <tr>\n",
       "      <th>878</th>\n",
       "      <td>1970</td>\n",
       "      <td>By Your Side</td>\n",
       "      <td>Beachwood Sparks</td>\n",
       "      <td>Scott Pilgrim Vs. the World</td>\n",
       "      <td>Rock</td>\n",
       "      <td>file:///Users/AlwynLopez/Music/iTunes/iTunes%2...</td>\n",
       "      <td>MPEG audio file</td>\n",
       "      <td>9578567</td>\n",
       "      <td>296829</td>\n",
       "    </tr>\n",
       "  </tbody>\n",
       "</table>\n",
       "<p>879 rows × 9 columns</p>\n",
       "</div>"
      ],
      "text/plain": [
       "     Track ID                                   Name               Artist  \\\n",
       "0         212                  Over Overthinking You    Christina Grimmie   \n",
       "1         214               Absolutely Final Goodbye    Christina Grimmie   \n",
       "2         216                           Make It Work    Christina Grimmie   \n",
       "3         218                  Get Yourself Together    Christina Grimmie   \n",
       "4         220                              With Love    Christina Grimmie   \n",
       "..        ...                                    ...                  ...   \n",
       "874      1962  Anthems for a Seventeen Year Old Girl  Broken Social Scene   \n",
       "875      1964                          Scott Pilgrim             Plumtree   \n",
       "876      1966                             O Katrina!           Black Lips   \n",
       "877      1968                       Sleazy Bed Track        The Bluetones   \n",
       "878      1970                           By Your Side     Beachwood Sparks   \n",
       "\n",
       "                           Album Genre  \\\n",
       "0                      With Love   Pop   \n",
       "1                      With Love   Pop   \n",
       "2                      With Love   Pop   \n",
       "3                      With Love   Pop   \n",
       "4                      With Love   Pop   \n",
       "..                           ...   ...   \n",
       "874  Scott Pilgrim Vs. the World  Rock   \n",
       "875  Scott Pilgrim Vs. the World  Rock   \n",
       "876  Scott Pilgrim Vs. the World  Rock   \n",
       "877  Scott Pilgrim Vs. the World  Rock   \n",
       "878  Scott Pilgrim Vs. the World  Rock   \n",
       "\n",
       "                                              Location             Kind  \\\n",
       "0    file:///Users/AlwynLopez/Music/iTunes/iTunes%2...  MPEG audio file   \n",
       "1    file:///Users/AlwynLopez/Music/iTunes/iTunes%2...  MPEG audio file   \n",
       "2    file:///Users/AlwynLopez/Music/iTunes/iTunes%2...  MPEG audio file   \n",
       "3    file:///Users/AlwynLopez/Music/iTunes/iTunes%2...  MPEG audio file   \n",
       "4    file:///Users/AlwynLopez/Music/iTunes/iTunes%2...  MPEG audio file   \n",
       "..                                                 ...              ...   \n",
       "874  file:///Users/AlwynLopez/Music/iTunes/iTunes%2...  MPEG audio file   \n",
       "875  file:///Users/AlwynLopez/Music/iTunes/iTunes%2...  MPEG audio file   \n",
       "876  file:///Users/AlwynLopez/Music/iTunes/iTunes%2...  MPEG audio file   \n",
       "877  file:///Users/AlwynLopez/Music/iTunes/iTunes%2...  MPEG audio file   \n",
       "878  file:///Users/AlwynLopez/Music/iTunes/iTunes%2...  MPEG audio file   \n",
       "\n",
       "        Size  Total Time  \n",
       "0    7438232      183457  \n",
       "1    6532311      160809  \n",
       "2    9333659      230844  \n",
       "3    8606428      212662  \n",
       "4    9618910      237975  \n",
       "..       ...         ...  \n",
       "874  8899716      275670  \n",
       "875  5889314      181968  \n",
       "876  5532348      170840  \n",
       "877  8903857      275800  \n",
       "878  9578567      296829  \n",
       "\n",
       "[879 rows x 9 columns]"
      ]
     },
     "metadata": {},
     "output_type": "display_data"
    }
   ],
   "source": [
    "import pandas as pd\n",
    "import matplotlib.pyplot as plt\n",
    "\n",
    "my_music_metadata_df = pd.read_csv(\"my_music_metadata.csv\", index_col=0)\n",
    "display(my_music_metadata_df)"
   ]
  },
  {
   "cell_type": "markdown",
   "metadata": {},
   "source": [
    "### Print Out Total File Size Storage And Total Time"
   ]
  },
  {
   "cell_type": "code",
   "execution_count": 2,
   "metadata": {},
   "outputs": [
    {
     "name": "stdout",
     "output_type": "stream",
     "text": [
      "Total Bytes: \t 6265166905\n",
      "Total Seconds: \t 175916573\n"
     ]
    }
   ],
   "source": [
    "total_bytes = my_music_metadata_df['Size'].sum()\n",
    "total_milliseconds = my_music_metadata_df['Total Time'].sum()\n",
    "\n",
    "print(\"Total Bytes: \\t\", total_bytes)\n",
    "print(\"Total Seconds: \\t\", total_milliseconds)"
   ]
  },
  {
   "cell_type": "markdown",
   "metadata": {},
   "source": [
    "That is about 6.26 gigabytes of data, and its duration is about 2 days."
   ]
  },
  {
   "cell_type": "markdown",
   "metadata": {},
   "source": [
    "### Pie Chart For File Types In My Music Collection"
   ]
  },
  {
   "cell_type": "code",
   "execution_count": 3,
   "metadata": {},
   "outputs": [
    {
     "data": {
      "image/png": "[encoded data removed]",
      "text/plain": [
       "<Figure size 1080x720 with 1 Axes>"
      ]
     },
     "metadata": {},
     "output_type": "display_data"
    },
    {
     "name": "stdout",
     "output_type": "stream",
     "text": [
      "MPEG audio file             682\n",
      "Purchased AAC audio file    197\n",
      "Name: Kind, dtype: int64\n"
     ]
    }
   ],
   "source": [
    "file_type_counter = my_music_metadata_df['Kind'].value_counts()\n",
    "file_type_counter.plot(\n",
    "    kind='pie', \n",
    "    figsize=(15,10), \n",
    "    colors=['#ff9999','#99ff99'], \n",
    "    title='File Types', \n",
    "    ylabel=\"\"\n",
    ")\n",
    "plt.show()\n",
    "print(file_type_counter)"
   ]
  },
  {
   "cell_type": "markdown",
   "metadata": {},
   "source": [
    "### Bar Chart For Music Genres In My Music Collection"
   ]
  },
  {
   "cell_type": "code",
   "execution_count": 4,
   "metadata": {},
   "outputs": [
    {
     "data": {
      "image/png": "[encoded data removed]",
      "text/plain": [
       "<Figure size 1080x720 with 1 Axes>"
      ]
     },
     "metadata": {
      "needs_background": "light"
     },
     "output_type": "display_data"
    }
   ],
   "source": [
    "music_genre_counter = my_music_metadata_df['Genre'].value_counts()\n",
    "music_genre_counter.plot(\n",
    "    kind='bar', \n",
    "    figsize=(15,10), \n",
    "    color=['#66b3ff'], \n",
    "    title='Music Genres'\n",
    ")\n",
    "plt.show()"
   ]
  },
  {
   "cell_type": "markdown",
   "metadata": {},
   "source": [
    "As you can see on the above bar graph, there are over 18 genres in my personal music collection. To simplify the machine learning process, we need to reclassify each of the songs into one of five genres:\n",
    " * Soundtrack\n",
    " * Hip Hop\n",
    " * Jazz\n",
    " * Pop\n",
    " * Rock\n",
    "\n",
    "To do that, lets examine the songs that are do not belong in one of the five categories."
   ]
  },
  {
   "cell_type": "markdown",
   "metadata": {},
   "source": [
    "# Data Cleaning"
   ]
  },
  {
   "cell_type": "markdown",
   "metadata": {},
   "source": [
    "Here is a list of helper methods that aid in the data cleaning process."
   ]
  },
  {
   "cell_type": "code",
   "execution_count": 5,
   "metadata": {},
   "outputs": [],
   "source": [
    "#filter tracks by genre\n",
    "def filter_tracks_by_genre(genre):\n",
    "    genre_conditional = my_music_metadata_df['Genre'] == genre\n",
    "    songs_by_genre = my_music_metadata_df[genre_conditional]\n",
    "    \n",
    "    return songs_by_genre\n",
    "\n",
    "#filter tracks by album name\n",
    "def filter_tracks_by_album(album):\n",
    "    album_conditional = my_music_metadata_df['Album'] == album\n",
    "    songs_by_album = my_music_metadata_df[album_conditional]\n",
    "    \n",
    "    return songs_by_album\n",
    "\n",
    "#Once filter tracks by genre, get me the list of albums\n",
    "def get_albums_by_genre(genre):\n",
    "    songs_by_genre = filter_tracks_by_genre(genre)\n",
    "    album_list = list(songs_by_genre['Album'].unique())\n",
    "    \n",
    "    return album_list\n",
    "\n",
    "#Once filter tracks by album, get me the list of artists\n",
    "def get_artists_by_album(album):\n",
    "    songs_by_genre = filter_tracks_by_album(album)\n",
    "    artist_list = list(songs_by_genre['Artist'].unique())\n",
    "    \n",
    "    return artist_list\n",
    "\n",
    "#Once filter tracks by genre, get me a list of albums along with their associated artists\n",
    "def display_album_artist_by_genre(genre):\n",
    "    albums = get_albums_by_genre(genre)\n",
    "    print('List Of Albums Labeled As '+ genre +' Along With Associated Artists: ')\n",
    "    for album in albums:\n",
    "        print(\"**\", album)\n",
    "        artist_list = get_artists_by_album(album)\n",
    "        for i, artist in enumerate(artist_list):\n",
    "            print(\"  \", i + 1, \"-\", artist)\n",
    "\n",
    "#Relabel all tracks in the album to its new genre\n",
    "def relabel_album_genre(album, new_genre):\n",
    "    album_conditional = my_music_metadata_df['Album'] == album\n",
    "    my_music_metadata_df.loc[album_conditional, 'Genre'] = new_genre\n"
   ]
  },
  {
   "cell_type": "markdown",
   "metadata": {},
   "source": [
    "## Pop Rock"
   ]
  },
  {
   "cell_type": "code",
   "execution_count": 6,
   "metadata": {},
   "outputs": [
    {
     "data": {
      "text/html": [
       "<div>\n",
       "<style scoped>\n",
       "    .dataframe tbody tr th:only-of-type {\n",
       "        vertical-align: middle;\n",
       "    }\n",
       "\n",
       "    .dataframe tbody tr th {\n",
       "        vertical-align: top;\n",
       "    }\n",
       "\n",
       "    .dataframe thead th {\n",
       "        text-align: right;\n",
       "    }\n",
       "</style>\n",
       "<table border=\"1\" class=\"dataframe\">\n",
       "  <thead>\n",
       "    <tr style=\"text-align: right;\">\n",
       "      <th></th>\n",
       "      <th>Track ID</th>\n",
       "      <th>Name</th>\n",
       "      <th>Artist</th>\n",
       "      <th>Album</th>\n",
       "      <th>Genre</th>\n",
       "      <th>Location</th>\n",
       "      <th>Kind</th>\n",
       "      <th>Size</th>\n",
       "      <th>Total Time</th>\n",
       "    </tr>\n",
       "  </thead>\n",
       "  <tbody>\n",
       "    <tr>\n",
       "      <th>397</th>\n",
       "      <td>1006</td>\n",
       "      <td>I Want It All</td>\n",
       "      <td>Queen</td>\n",
       "      <td>Absolute Greatest</td>\n",
       "      <td>Pop/Rock</td>\n",
       "      <td>file:///Users/AlwynLopez/Music/iTunes/iTunes%2...</td>\n",
       "      <td>MPEG audio file</td>\n",
       "      <td>6568418</td>\n",
       "      <td>241371</td>\n",
       "    </tr>\n",
       "    <tr>\n",
       "      <th>201</th>\n",
       "      <td>614</td>\n",
       "      <td>Wake Me Up When September Ends</td>\n",
       "      <td>Green Day</td>\n",
       "      <td>American Idiot</td>\n",
       "      <td>Pop/Rock</td>\n",
       "      <td>file:///Users/AlwynLopez/Music/iTunes/iTunes%2...</td>\n",
       "      <td>MPEG audio file</td>\n",
       "      <td>11480438</td>\n",
       "      <td>285675</td>\n",
       "    </tr>\n",
       "    <tr>\n",
       "      <th>317</th>\n",
       "      <td>846</td>\n",
       "      <td>The (After) Life of the Party</td>\n",
       "      <td>Fall Out Boy</td>\n",
       "      <td>Infinity on High</td>\n",
       "      <td>Pop/Rock</td>\n",
       "      <td>file:///Users/AlwynLopez/Music/iTunes/iTunes%2...</td>\n",
       "      <td>MPEG audio file</td>\n",
       "      <td>8117495</td>\n",
       "      <td>201816</td>\n",
       "    </tr>\n",
       "    <tr>\n",
       "      <th>371</th>\n",
       "      <td>954</td>\n",
       "      <td>Make Over</td>\n",
       "      <td>Christina Aguilera</td>\n",
       "      <td>Stripped</td>\n",
       "      <td>Pop/Rock</td>\n",
       "      <td>file:///Users/AlwynLopez/Music/iTunes/iTunes%2...</td>\n",
       "      <td>MPEG audio file</td>\n",
       "      <td>10165945</td>\n",
       "      <td>252656</td>\n",
       "    </tr>\n",
       "  </tbody>\n",
       "</table>\n",
       "</div>"
      ],
      "text/plain": [
       "     Track ID                            Name              Artist  \\\n",
       "397      1006                   I Want It All               Queen   \n",
       "201       614  Wake Me Up When September Ends           Green Day   \n",
       "317       846   The (After) Life of the Party        Fall Out Boy   \n",
       "371       954                       Make Over  Christina Aguilera   \n",
       "\n",
       "                 Album     Genre  \\\n",
       "397  Absolute Greatest  Pop/Rock   \n",
       "201     American Idiot  Pop/Rock   \n",
       "317   Infinity on High  Pop/Rock   \n",
       "371           Stripped  Pop/Rock   \n",
       "\n",
       "                                              Location             Kind  \\\n",
       "397  file:///Users/AlwynLopez/Music/iTunes/iTunes%2...  MPEG audio file   \n",
       "201  file:///Users/AlwynLopez/Music/iTunes/iTunes%2...  MPEG audio file   \n",
       "317  file:///Users/AlwynLopez/Music/iTunes/iTunes%2...  MPEG audio file   \n",
       "371  file:///Users/AlwynLopez/Music/iTunes/iTunes%2...  MPEG audio file   \n",
       "\n",
       "         Size  Total Time  \n",
       "397   6568418      241371  \n",
       "201  11480438      285675  \n",
       "317   8117495      201816  \n",
       "371  10165945      252656  "
      ]
     },
     "execution_count": 6,
     "metadata": {},
     "output_type": "execute_result"
    }
   ],
   "source": [
    "tracks = filter_tracks_by_genre('Pop/Rock')\n",
    "tracks.sample(4)"
   ]
  },
  {
   "cell_type": "code",
   "execution_count": 7,
   "metadata": {},
   "outputs": [
    {
     "name": "stdout",
     "output_type": "stream",
     "text": [
      "List Of Albums Labeled As Pop/Rock Along With Associated Artists: \n",
      "** Back to Basics \n",
      "   1 - Christina Aguilera\n",
      "** American Idiot\n",
      "   1 - Green Day\n",
      "** ÷\n",
      "   1 - Ed Sheeran\n",
      "** Infinity on High\n",
      "   1 - Fall Out Boy\n",
      "   2 - Fall Out Boy & Butch Walker\n",
      "** Death of a Bachelor\n",
      "   1 - Panic! At the Disco\n",
      "** Stripped\n",
      "   1 - Christina Aguilera\n",
      "   2 - Christina Aguilera & Lil' Kim\n",
      "   3 - Christina Aguilera & Larry Gold\n",
      "   4 - Christina Aguilera & Redman\n",
      "** Songs About Jane\n",
      "   1 - Maroon 5\n",
      "** Absolute Greatest\n",
      "   1 - Queen\n",
      "   2 - Queen/David Bowie\n",
      "   3 - Queen/National Philharmonic Orchestra\n",
      "** Minutes to Midnight\n",
      "   1 - Linkin Park\n",
      "** Mezmerize\n",
      "   1 - System of a Down\n",
      "** Hypnotize\n",
      "   1 - System of a Down\n",
      "** Intertwined - EP\n",
      "   1 - dodie\n",
      "** Folie à Deux\n",
      "   1 - Fall Out Boy\n"
     ]
    }
   ],
   "source": [
    "display_album_artist_by_genre(\"Pop/Rock\")"
   ]
  },
  {
   "cell_type": "code",
   "execution_count": 8,
   "metadata": {},
   "outputs": [],
   "source": [
    "pop_albums = [\n",
    "    'Back to Basics ', \n",
    "    '÷', \n",
    "    'Stripped', \n",
    "    'Intertwined - EP'\n",
    "]\n",
    "\n",
    "pop_rock_albums = get_albums_by_genre('Pop/Rock')\n",
    "for album in pop_rock_albums:\n",
    "    if album in pop_albums:\n",
    "        relabel_album_genre(album, \"Pop\")\n",
    "    else:\n",
    "        relabel_album_genre(album, \"Rock\")"
   ]
  },
  {
   "cell_type": "markdown",
   "metadata": {},
   "source": [
    "## Rap"
   ]
  },
  {
   "cell_type": "code",
   "execution_count": 9,
   "metadata": {},
   "outputs": [
    {
     "data": {
      "text/html": [
       "<div>\n",
       "<style scoped>\n",
       "    .dataframe tbody tr th:only-of-type {\n",
       "        vertical-align: middle;\n",
       "    }\n",
       "\n",
       "    .dataframe tbody tr th {\n",
       "        vertical-align: top;\n",
       "    }\n",
       "\n",
       "    .dataframe thead th {\n",
       "        text-align: right;\n",
       "    }\n",
       "</style>\n",
       "<table border=\"1\" class=\"dataframe\">\n",
       "  <thead>\n",
       "    <tr style=\"text-align: right;\">\n",
       "      <th></th>\n",
       "      <th>Track ID</th>\n",
       "      <th>Name</th>\n",
       "      <th>Artist</th>\n",
       "      <th>Album</th>\n",
       "      <th>Genre</th>\n",
       "      <th>Location</th>\n",
       "      <th>Kind</th>\n",
       "      <th>Size</th>\n",
       "      <th>Total Time</th>\n",
       "    </tr>\n",
       "  </thead>\n",
       "  <tbody>\n",
       "    <tr>\n",
       "      <th>820</th>\n",
       "      <td>1854</td>\n",
       "      <td>My Fault</td>\n",
       "      <td>Eminem</td>\n",
       "      <td>The Slim Shady LP</td>\n",
       "      <td>Rap</td>\n",
       "      <td>file:///Users/AlwynLopez/Music/iTunes/iTunes%2...</td>\n",
       "      <td>MPEG audio file</td>\n",
       "      <td>9734496</td>\n",
       "      <td>241528</td>\n",
       "    </tr>\n",
       "    <tr>\n",
       "      <th>790</th>\n",
       "      <td>1794</td>\n",
       "      <td>When the Music Stops</td>\n",
       "      <td>Eminem/D12</td>\n",
       "      <td>The Eminem Show</td>\n",
       "      <td>Rap</td>\n",
       "      <td>file:///Users/AlwynLopez/Music/iTunes/iTunes%2...</td>\n",
       "      <td>MPEG audio file</td>\n",
       "      <td>6499008</td>\n",
       "      <td>269035</td>\n",
       "    </tr>\n",
       "    <tr>\n",
       "      <th>825</th>\n",
       "      <td>1864</td>\n",
       "      <td>If I Had</td>\n",
       "      <td>Eminem</td>\n",
       "      <td>The Slim Shady LP</td>\n",
       "      <td>Rap</td>\n",
       "      <td>file:///Users/AlwynLopez/Music/iTunes/iTunes%2...</td>\n",
       "      <td>MPEG audio file</td>\n",
       "      <td>9895411</td>\n",
       "      <td>245551</td>\n",
       "    </tr>\n",
       "    <tr>\n",
       "      <th>782</th>\n",
       "      <td>1778</td>\n",
       "      <td>My Dad's Gone Crazy</td>\n",
       "      <td>Eminem</td>\n",
       "      <td>The Eminem Show</td>\n",
       "      <td>Rap</td>\n",
       "      <td>file:///Users/AlwynLopez/Music/iTunes/iTunes%2...</td>\n",
       "      <td>MPEG audio file</td>\n",
       "      <td>2711870</td>\n",
       "      <td>266971</td>\n",
       "    </tr>\n",
       "  </tbody>\n",
       "</table>\n",
       "</div>"
      ],
      "text/plain": [
       "     Track ID                  Name      Artist              Album Genre  \\\n",
       "820      1854              My Fault      Eminem  The Slim Shady LP   Rap   \n",
       "790      1794  When the Music Stops  Eminem/D12    The Eminem Show   Rap   \n",
       "825      1864              If I Had      Eminem  The Slim Shady LP   Rap   \n",
       "782      1778   My Dad's Gone Crazy      Eminem    The Eminem Show   Rap   \n",
       "\n",
       "                                              Location             Kind  \\\n",
       "820  file:///Users/AlwynLopez/Music/iTunes/iTunes%2...  MPEG audio file   \n",
       "790  file:///Users/AlwynLopez/Music/iTunes/iTunes%2...  MPEG audio file   \n",
       "825  file:///Users/AlwynLopez/Music/iTunes/iTunes%2...  MPEG audio file   \n",
       "782  file:///Users/AlwynLopez/Music/iTunes/iTunes%2...  MPEG audio file   \n",
       "\n",
       "        Size  Total Time  \n",
       "820  9734496      241528  \n",
       "790  6499008      269035  \n",
       "825  9895411      245551  \n",
       "782  2711870      266971  "
      ]
     },
     "execution_count": 9,
     "metadata": {},
     "output_type": "execute_result"
    }
   ],
   "source": [
    "tracks = filter_tracks_by_genre('Rap')\n",
    "tracks.sample(4)"
   ]
  },
  {
   "cell_type": "code",
   "execution_count": 10,
   "metadata": {},
   "outputs": [
    {
     "name": "stdout",
     "output_type": "stream",
     "text": [
      "List Of Albums Labeled As Rap Along With Associated Artists: \n",
      "** DAMN.\n",
      "   1 - Kendrick Lamar\n",
      "   2 - Kendrick Lamar/Rihanna\n",
      "   3 - Kendrick Lamar/Zacari\n",
      "   4 - Kendrick Lamar/U2\n",
      "** The Eminem Show\n",
      "   1 - Eminem/Obie Trice\n",
      "   2 - Eminem\n",
      "   3 - Eminem/Steve Berman\n",
      "   4 - Eminem/Dina Rae\n",
      "   5 - Eminem/Dr. Dre\n",
      "   6 - Eminem/D12\n",
      "   7 - Paul D. Rosenberg\n",
      "** The Slim Shady LP\n",
      "   1 - Eminem\n",
      "   2 - Eminem/Royce da 5'9\"\n",
      "   3 - Eminem/Aristotle/Marky Bass\n",
      "   4 - DJ Paul Bunyon\n",
      "   5 - Eminem/Royce da 5'9\"/Jeff Bass\n",
      "   6 - Eminem/Jeff Bass/Marky Bass\n",
      "   7 - Jeff Bass\n",
      "   8 - Winkler/Zoe\n"
     ]
    }
   ],
   "source": [
    "display_album_artist_by_genre(\"Rap\")"
   ]
  },
  {
   "cell_type": "code",
   "execution_count": 11,
   "metadata": {},
   "outputs": [],
   "source": [
    "relabel_album_genre(\"DAMN.\", \"Hip-Hop\")\n",
    "relabel_album_genre(\"The Eminem Show\", \"Hip-Hop\")\n",
    "relabel_album_genre(\"The Slim Shady LP\", \"Hip-Hop\")"
   ]
  },
  {
   "cell_type": "markdown",
   "metadata": {},
   "source": [
    "## Score"
   ]
  },
  {
   "cell_type": "code",
   "execution_count": 12,
   "metadata": {},
   "outputs": [
    {
     "data": {
      "text/html": [
       "<div>\n",
       "<style scoped>\n",
       "    .dataframe tbody tr th:only-of-type {\n",
       "        vertical-align: middle;\n",
       "    }\n",
       "\n",
       "    .dataframe tbody tr th {\n",
       "        vertical-align: top;\n",
       "    }\n",
       "\n",
       "    .dataframe thead th {\n",
       "        text-align: right;\n",
       "    }\n",
       "</style>\n",
       "<table border=\"1\" class=\"dataframe\">\n",
       "  <thead>\n",
       "    <tr style=\"text-align: right;\">\n",
       "      <th></th>\n",
       "      <th>Track ID</th>\n",
       "      <th>Name</th>\n",
       "      <th>Artist</th>\n",
       "      <th>Album</th>\n",
       "      <th>Genre</th>\n",
       "      <th>Location</th>\n",
       "      <th>Kind</th>\n",
       "      <th>Size</th>\n",
       "      <th>Total Time</th>\n",
       "    </tr>\n",
       "  </thead>\n",
       "  <tbody>\n",
       "    <tr>\n",
       "      <th>738</th>\n",
       "      <td>1690</td>\n",
       "      <td>Training With Mr. Schaibel</td>\n",
       "      <td>Carlos Rafael Rivera</td>\n",
       "      <td>The Queen's Gambit (Music from the Netflix Lim...</td>\n",
       "      <td>Score</td>\n",
       "      <td>file:///Users/AlwynLopez/Music/iTunes/iTunes%2...</td>\n",
       "      <td>MPEG audio file</td>\n",
       "      <td>7918604</td>\n",
       "      <td>184320</td>\n",
       "    </tr>\n",
       "    <tr>\n",
       "      <th>746</th>\n",
       "      <td>1706</td>\n",
       "      <td>Beth's Story</td>\n",
       "      <td>Carlos Rafael Rivera</td>\n",
       "      <td>The Queen's Gambit (Music from the Netflix Lim...</td>\n",
       "      <td>Score</td>\n",
       "      <td>file:///Users/AlwynLopez/Music/iTunes/iTunes%2...</td>\n",
       "      <td>MPEG audio file</td>\n",
       "      <td>5652172</td>\n",
       "      <td>127660</td>\n",
       "    </tr>\n",
       "    <tr>\n",
       "      <th>750</th>\n",
       "      <td>1714</td>\n",
       "      <td>Ohio US Championship 1967</td>\n",
       "      <td>Carlos Rafael Rivera</td>\n",
       "      <td>The Queen's Gambit (Music from the Netflix Lim...</td>\n",
       "      <td>Score</td>\n",
       "      <td>file:///Users/AlwynLopez/Music/iTunes/iTunes%2...</td>\n",
       "      <td>MPEG audio file</td>\n",
       "      <td>4579090</td>\n",
       "      <td>100832</td>\n",
       "    </tr>\n",
       "    <tr>\n",
       "      <th>754</th>\n",
       "      <td>1722</td>\n",
       "      <td>The Final Game</td>\n",
       "      <td>Carlos Rafael Rivera</td>\n",
       "      <td>The Queen's Gambit (Music from the Netflix Lim...</td>\n",
       "      <td>Score</td>\n",
       "      <td>file:///Users/AlwynLopez/Music/iTunes/iTunes%2...</td>\n",
       "      <td>MPEG audio file</td>\n",
       "      <td>18292309</td>\n",
       "      <td>443663</td>\n",
       "    </tr>\n",
       "  </tbody>\n",
       "</table>\n",
       "</div>"
      ],
      "text/plain": [
       "     Track ID                        Name                Artist  \\\n",
       "738      1690  Training With Mr. Schaibel  Carlos Rafael Rivera   \n",
       "746      1706                Beth's Story  Carlos Rafael Rivera   \n",
       "750      1714   Ohio US Championship 1967  Carlos Rafael Rivera   \n",
       "754      1722              The Final Game  Carlos Rafael Rivera   \n",
       "\n",
       "                                                 Album  Genre  \\\n",
       "738  The Queen's Gambit (Music from the Netflix Lim...  Score   \n",
       "746  The Queen's Gambit (Music from the Netflix Lim...  Score   \n",
       "750  The Queen's Gambit (Music from the Netflix Lim...  Score   \n",
       "754  The Queen's Gambit (Music from the Netflix Lim...  Score   \n",
       "\n",
       "                                              Location             Kind  \\\n",
       "738  file:///Users/AlwynLopez/Music/iTunes/iTunes%2...  MPEG audio file   \n",
       "746  file:///Users/AlwynLopez/Music/iTunes/iTunes%2...  MPEG audio file   \n",
       "750  file:///Users/AlwynLopez/Music/iTunes/iTunes%2...  MPEG audio file   \n",
       "754  file:///Users/AlwynLopez/Music/iTunes/iTunes%2...  MPEG audio file   \n",
       "\n",
       "         Size  Total Time  \n",
       "738   7918604      184320  \n",
       "746   5652172      127660  \n",
       "750   4579090      100832  \n",
       "754  18292309      443663  "
      ]
     },
     "execution_count": 12,
     "metadata": {},
     "output_type": "execute_result"
    }
   ],
   "source": [
    "tracks = filter_tracks_by_genre('Score')\n",
    "tracks.sample(4)"
   ]
  },
  {
   "cell_type": "code",
   "execution_count": 13,
   "metadata": {},
   "outputs": [
    {
     "name": "stdout",
     "output_type": "stream",
     "text": [
      "List Of Albums Labeled As Score Along With Associated Artists: \n",
      "** The Queen's Gambit (Music from the Netflix Limited Series)\n",
      "   1 - Carlos Rafael Rivera\n"
     ]
    }
   ],
   "source": [
    "display_album_artist_by_genre(\"Score\")"
   ]
  },
  {
   "cell_type": "code",
   "execution_count": 14,
   "metadata": {},
   "outputs": [],
   "source": [
    "relabel_album_genre(\"The Queen's Gambit (Music from the Netflix Limited Series)\", \"Soundtrack\")"
   ]
  },
  {
   "cell_type": "markdown",
   "metadata": {},
   "source": [
    "## Alternative"
   ]
  },
  {
   "cell_type": "code",
   "execution_count": 15,
   "metadata": {},
   "outputs": [
    {
     "data": {
      "text/html": [
       "<div>\n",
       "<style scoped>\n",
       "    .dataframe tbody tr th:only-of-type {\n",
       "        vertical-align: middle;\n",
       "    }\n",
       "\n",
       "    .dataframe tbody tr th {\n",
       "        vertical-align: top;\n",
       "    }\n",
       "\n",
       "    .dataframe thead th {\n",
       "        text-align: right;\n",
       "    }\n",
       "</style>\n",
       "<table border=\"1\" class=\"dataframe\">\n",
       "  <thead>\n",
       "    <tr style=\"text-align: right;\">\n",
       "      <th></th>\n",
       "      <th>Track ID</th>\n",
       "      <th>Name</th>\n",
       "      <th>Artist</th>\n",
       "      <th>Album</th>\n",
       "      <th>Genre</th>\n",
       "      <th>Location</th>\n",
       "      <th>Kind</th>\n",
       "      <th>Size</th>\n",
       "      <th>Total Time</th>\n",
       "    </tr>\n",
       "  </thead>\n",
       "  <tbody>\n",
       "    <tr>\n",
       "      <th>623</th>\n",
       "      <td>1460</td>\n",
       "      <td>bad guy</td>\n",
       "      <td>Billie Eilish</td>\n",
       "      <td>WHEN WE ALL FALL ASLEEP, WHERE DO WE GO?</td>\n",
       "      <td>Alternative</td>\n",
       "      <td>file:///Users/AlwynLopez/Music/iTunes/iTunes%2...</td>\n",
       "      <td>MPEG audio file</td>\n",
       "      <td>7881905</td>\n",
       "      <td>194142</td>\n",
       "    </tr>\n",
       "    <tr>\n",
       "      <th>646</th>\n",
       "      <td>1506</td>\n",
       "      <td>8</td>\n",
       "      <td>Billie Eilish</td>\n",
       "      <td>WHEN WE ALL FALL ASLEEP, WHERE DO WE GO?</td>\n",
       "      <td>Alternative</td>\n",
       "      <td>file:///Users/AlwynLopez/Music/iTunes/iTunes%2...</td>\n",
       "      <td>MPEG audio file</td>\n",
       "      <td>7047020</td>\n",
       "      <td>173270</td>\n",
       "    </tr>\n",
       "    <tr>\n",
       "      <th>803</th>\n",
       "      <td>1820</td>\n",
       "      <td>We Are Broken</td>\n",
       "      <td>Paramore</td>\n",
       "      <td>Riot! (Deluxe Version)</td>\n",
       "      <td>Alternative</td>\n",
       "      <td>file:///Users/AlwynLopez/Music/iTunes/iTunes%2...</td>\n",
       "      <td>MPEG audio file</td>\n",
       "      <td>9360872</td>\n",
       "      <td>218488</td>\n",
       "    </tr>\n",
       "    <tr>\n",
       "      <th>796</th>\n",
       "      <td>1806</td>\n",
       "      <td>Fences</td>\n",
       "      <td>Paramore</td>\n",
       "      <td>Riot! (Deluxe Version)</td>\n",
       "      <td>Alternative</td>\n",
       "      <td>file:///Users/AlwynLopez/Music/iTunes/iTunes%2...</td>\n",
       "      <td>MPEG audio file</td>\n",
       "      <td>8586590</td>\n",
       "      <td>199131</td>\n",
       "    </tr>\n",
       "  </tbody>\n",
       "</table>\n",
       "</div>"
      ],
      "text/plain": [
       "     Track ID           Name         Artist  \\\n",
       "623      1460        bad guy  Billie Eilish   \n",
       "646      1506              8  Billie Eilish   \n",
       "803      1820  We Are Broken       Paramore   \n",
       "796      1806         Fences       Paramore   \n",
       "\n",
       "                                        Album        Genre  \\\n",
       "623  WHEN WE ALL FALL ASLEEP, WHERE DO WE GO?  Alternative   \n",
       "646  WHEN WE ALL FALL ASLEEP, WHERE DO WE GO?  Alternative   \n",
       "803                    Riot! (Deluxe Version)  Alternative   \n",
       "796                    Riot! (Deluxe Version)  Alternative   \n",
       "\n",
       "                                              Location             Kind  \\\n",
       "623  file:///Users/AlwynLopez/Music/iTunes/iTunes%2...  MPEG audio file   \n",
       "646  file:///Users/AlwynLopez/Music/iTunes/iTunes%2...  MPEG audio file   \n",
       "803  file:///Users/AlwynLopez/Music/iTunes/iTunes%2...  MPEG audio file   \n",
       "796  file:///Users/AlwynLopez/Music/iTunes/iTunes%2...  MPEG audio file   \n",
       "\n",
       "        Size  Total Time  \n",
       "623  7881905      194142  \n",
       "646  7047020      173270  \n",
       "803  9360872      218488  \n",
       "796  8586590      199131  "
      ]
     },
     "execution_count": 15,
     "metadata": {},
     "output_type": "execute_result"
    }
   ],
   "source": [
    "tracks = filter_tracks_by_genre('Alternative')\n",
    "tracks.sample(4)"
   ]
  },
  {
   "cell_type": "code",
   "execution_count": 16,
   "metadata": {},
   "outputs": [
    {
     "name": "stdout",
     "output_type": "stream",
     "text": [
      "List Of Albums Labeled As Alternative Along With Associated Artists: \n",
      "** Pray For the Wicked\n",
      "   1 - Panic! At the Disco\n",
      "** Pray For The Wicked\n",
      "   1 - Panic! At the Disco\n",
      "** WHEN WE ALL FALL ASLEEP, WHERE DO WE GO?\n",
      "   1 - Billie Eilish\n",
      "** Riot! (Deluxe Version)\n",
      "   1 - Paramore\n"
     ]
    }
   ],
   "source": [
    "display_album_artist_by_genre(\"Alternative\")"
   ]
  },
  {
   "cell_type": "code",
   "execution_count": 17,
   "metadata": {},
   "outputs": [],
   "source": [
    "relabel_album_genre(\"Pray For the Wicked\", \"Rock\")\n",
    "relabel_album_genre(\"Pray For The Wicked\", \"Rock\")\n",
    "relabel_album_genre(\"WHEN WE ALL FALL ASLEEP, WHERE DO WE GO?\", \"Pop\")\n",
    "relabel_album_genre(\"Riot! (Deluxe Version)\", \"Rock\")"
   ]
  },
  {
   "cell_type": "markdown",
   "metadata": {},
   "source": [
    "## Hip-Hop / Rap"
   ]
  },
  {
   "cell_type": "code",
   "execution_count": 18,
   "metadata": {},
   "outputs": [
    {
     "data": {
      "text/html": [
       "<div>\n",
       "<style scoped>\n",
       "    .dataframe tbody tr th:only-of-type {\n",
       "        vertical-align: middle;\n",
       "    }\n",
       "\n",
       "    .dataframe tbody tr th {\n",
       "        vertical-align: top;\n",
       "    }\n",
       "\n",
       "    .dataframe thead th {\n",
       "        text-align: right;\n",
       "    }\n",
       "</style>\n",
       "<table border=\"1\" class=\"dataframe\">\n",
       "  <thead>\n",
       "    <tr style=\"text-align: right;\">\n",
       "      <th></th>\n",
       "      <th>Track ID</th>\n",
       "      <th>Name</th>\n",
       "      <th>Artist</th>\n",
       "      <th>Album</th>\n",
       "      <th>Genre</th>\n",
       "      <th>Location</th>\n",
       "      <th>Kind</th>\n",
       "      <th>Size</th>\n",
       "      <th>Total Time</th>\n",
       "    </tr>\n",
       "  </thead>\n",
       "  <tbody>\n",
       "    <tr>\n",
       "      <th>280</th>\n",
       "      <td>772</td>\n",
       "      <td>Role Model</td>\n",
       "      <td>Eminem</td>\n",
       "      <td>Curtain Call - The Hits (Deluxe Version)</td>\n",
       "      <td>Hip-Hop/Rap</td>\n",
       "      <td>file:///Users/AlwynLopez/Music/iTunes/iTunes%2...</td>\n",
       "      <td>Purchased AAC audio file</td>\n",
       "      <td>7307510</td>\n",
       "      <td>205280</td>\n",
       "    </tr>\n",
       "    <tr>\n",
       "      <th>281</th>\n",
       "      <td>774</td>\n",
       "      <td>Kill You</td>\n",
       "      <td>Eminem</td>\n",
       "      <td>Curtain Call - The Hits (Deluxe Version)</td>\n",
       "      <td>Hip-Hop/Rap</td>\n",
       "      <td>file:///Users/AlwynLopez/Music/iTunes/iTunes%2...</td>\n",
       "      <td>Purchased AAC audio file</td>\n",
       "      <td>9294100</td>\n",
       "      <td>264786</td>\n",
       "    </tr>\n",
       "    <tr>\n",
       "      <th>279</th>\n",
       "      <td>770</td>\n",
       "      <td>Dead Wrong</td>\n",
       "      <td>Eminem &amp; The Notorious B.I.G.</td>\n",
       "      <td>Curtain Call - The Hits (Deluxe Version)</td>\n",
       "      <td>Hip-Hop/Rap</td>\n",
       "      <td>file:///Users/AlwynLopez/Music/iTunes/iTunes%2...</td>\n",
       "      <td>Purchased AAC audio file</td>\n",
       "      <td>10359482</td>\n",
       "      <td>297440</td>\n",
       "    </tr>\n",
       "    <tr>\n",
       "      <th>276</th>\n",
       "      <td>764</td>\n",
       "      <td>Just Lose It</td>\n",
       "      <td>Eminem</td>\n",
       "      <td>Curtain Call - The Hits (Deluxe Version)</td>\n",
       "      <td>Hip-Hop/Rap</td>\n",
       "      <td>file:///Users/AlwynLopez/Music/iTunes/iTunes%2...</td>\n",
       "      <td>Purchased AAC audio file</td>\n",
       "      <td>8687738</td>\n",
       "      <td>248600</td>\n",
       "    </tr>\n",
       "  </tbody>\n",
       "</table>\n",
       "</div>"
      ],
      "text/plain": [
       "     Track ID          Name                         Artist  \\\n",
       "280       772    Role Model                         Eminem   \n",
       "281       774      Kill You                         Eminem   \n",
       "279       770    Dead Wrong  Eminem & The Notorious B.I.G.   \n",
       "276       764  Just Lose It                         Eminem   \n",
       "\n",
       "                                        Album        Genre  \\\n",
       "280  Curtain Call - The Hits (Deluxe Version)  Hip-Hop/Rap   \n",
       "281  Curtain Call - The Hits (Deluxe Version)  Hip-Hop/Rap   \n",
       "279  Curtain Call - The Hits (Deluxe Version)  Hip-Hop/Rap   \n",
       "276  Curtain Call - The Hits (Deluxe Version)  Hip-Hop/Rap   \n",
       "\n",
       "                                              Location  \\\n",
       "280  file:///Users/AlwynLopez/Music/iTunes/iTunes%2...   \n",
       "281  file:///Users/AlwynLopez/Music/iTunes/iTunes%2...   \n",
       "279  file:///Users/AlwynLopez/Music/iTunes/iTunes%2...   \n",
       "276  file:///Users/AlwynLopez/Music/iTunes/iTunes%2...   \n",
       "\n",
       "                         Kind      Size  Total Time  \n",
       "280  Purchased AAC audio file   7307510      205280  \n",
       "281  Purchased AAC audio file   9294100      264786  \n",
       "279  Purchased AAC audio file  10359482      297440  \n",
       "276  Purchased AAC audio file   8687738      248600  "
      ]
     },
     "execution_count": 18,
     "metadata": {},
     "output_type": "execute_result"
    }
   ],
   "source": [
    "tracks = filter_tracks_by_genre('Hip-Hop/Rap')\n",
    "tracks.sample(4)"
   ]
  },
  {
   "cell_type": "code",
   "execution_count": 19,
   "metadata": {},
   "outputs": [
    {
     "name": "stdout",
     "output_type": "stream",
     "text": [
      "List Of Albums Labeled As Hip-Hop/Rap Along With Associated Artists: \n",
      "** Curtain Call - The Hits (Deluxe Version)\n",
      "   1 - Eminem\n",
      "   2 - Eminem & Dido\n",
      "   3 - Eminem & Dr. Dre\n",
      "   4 - Eminem & Elton John\n",
      "   5 - Eminem & The Notorious B.I.G.\n",
      "   6 - Eminem & D12\n",
      "   7 - Eminem & JAY Z\n"
     ]
    }
   ],
   "source": [
    "display_album_artist_by_genre(\"Hip-Hop/Rap\")"
   ]
  },
  {
   "cell_type": "code",
   "execution_count": 20,
   "metadata": {},
   "outputs": [],
   "source": [
    "relabel_album_genre(\"Curtain Call - The Hits (Deluxe Version)\", \"Hip-Hop\")"
   ]
  },
  {
   "cell_type": "markdown",
   "metadata": {},
   "source": [
    "## Vocal Jazz"
   ]
  },
  {
   "cell_type": "code",
   "execution_count": 21,
   "metadata": {},
   "outputs": [
    {
     "data": {
      "text/html": [
       "<div>\n",
       "<style scoped>\n",
       "    .dataframe tbody tr th:only-of-type {\n",
       "        vertical-align: middle;\n",
       "    }\n",
       "\n",
       "    .dataframe tbody tr th {\n",
       "        vertical-align: top;\n",
       "    }\n",
       "\n",
       "    .dataframe thead th {\n",
       "        text-align: right;\n",
       "    }\n",
       "</style>\n",
       "<table border=\"1\" class=\"dataframe\">\n",
       "  <thead>\n",
       "    <tr style=\"text-align: right;\">\n",
       "      <th></th>\n",
       "      <th>Track ID</th>\n",
       "      <th>Name</th>\n",
       "      <th>Artist</th>\n",
       "      <th>Album</th>\n",
       "      <th>Genre</th>\n",
       "      <th>Location</th>\n",
       "      <th>Kind</th>\n",
       "      <th>Size</th>\n",
       "      <th>Total Time</th>\n",
       "    </tr>\n",
       "  </thead>\n",
       "  <tbody>\n",
       "    <tr>\n",
       "      <th>304</th>\n",
       "      <td>820</td>\n",
       "      <td>All My Tomorrows</td>\n",
       "      <td>Frank Sinatra</td>\n",
       "      <td>Nothing But the Best - The Frank Sinatra Colle...</td>\n",
       "      <td>Vocal Jazz</td>\n",
       "      <td>file:///Users/AlwynLopez/Music/iTunes/iTunes%2...</td>\n",
       "      <td>Purchased AAC audio file</td>\n",
       "      <td>11362203</td>\n",
       "      <td>275026</td>\n",
       "    </tr>\n",
       "    <tr>\n",
       "      <th>291</th>\n",
       "      <td>794</td>\n",
       "      <td>The Good Life (With Count Basie and His Orches...</td>\n",
       "      <td>Frank Sinatra</td>\n",
       "      <td>Nothing But the Best - The Frank Sinatra Colle...</td>\n",
       "      <td>Vocal Jazz</td>\n",
       "      <td>file:///Users/AlwynLopez/Music/iTunes/iTunes%2...</td>\n",
       "      <td>Purchased AAC audio file</td>\n",
       "      <td>6062917</td>\n",
       "      <td>147400</td>\n",
       "    </tr>\n",
       "    <tr>\n",
       "      <th>292</th>\n",
       "      <td>796</td>\n",
       "      <td>The Girl from Ipanema (With Antonio Carlos Jobim)</td>\n",
       "      <td>Frank Sinatra</td>\n",
       "      <td>Nothing But the Best - The Frank Sinatra Colle...</td>\n",
       "      <td>Vocal Jazz</td>\n",
       "      <td>file:///Users/AlwynLopez/Music/iTunes/iTunes%2...</td>\n",
       "      <td>Purchased AAC audio file</td>\n",
       "      <td>7784010</td>\n",
       "      <td>194040</td>\n",
       "    </tr>\n",
       "    <tr>\n",
       "      <th>293</th>\n",
       "      <td>798</td>\n",
       "      <td>Fly Me to the Moon (In Other Words)</td>\n",
       "      <td>Frank Sinatra</td>\n",
       "      <td>Nothing But the Best - The Frank Sinatra Colle...</td>\n",
       "      <td>Vocal Jazz</td>\n",
       "      <td>file:///Users/AlwynLopez/Music/iTunes/iTunes%2...</td>\n",
       "      <td>Purchased AAC audio file</td>\n",
       "      <td>6106737</td>\n",
       "      <td>147520</td>\n",
       "    </tr>\n",
       "  </tbody>\n",
       "</table>\n",
       "</div>"
      ],
      "text/plain": [
       "     Track ID                                               Name  \\\n",
       "304       820                                   All My Tomorrows   \n",
       "291       794  The Good Life (With Count Basie and His Orches...   \n",
       "292       796  The Girl from Ipanema (With Antonio Carlos Jobim)   \n",
       "293       798                Fly Me to the Moon (In Other Words)   \n",
       "\n",
       "            Artist                                              Album  \\\n",
       "304  Frank Sinatra  Nothing But the Best - The Frank Sinatra Colle...   \n",
       "291  Frank Sinatra  Nothing But the Best - The Frank Sinatra Colle...   \n",
       "292  Frank Sinatra  Nothing But the Best - The Frank Sinatra Colle...   \n",
       "293  Frank Sinatra  Nothing But the Best - The Frank Sinatra Colle...   \n",
       "\n",
       "          Genre                                           Location  \\\n",
       "304  Vocal Jazz  file:///Users/AlwynLopez/Music/iTunes/iTunes%2...   \n",
       "291  Vocal Jazz  file:///Users/AlwynLopez/Music/iTunes/iTunes%2...   \n",
       "292  Vocal Jazz  file:///Users/AlwynLopez/Music/iTunes/iTunes%2...   \n",
       "293  Vocal Jazz  file:///Users/AlwynLopez/Music/iTunes/iTunes%2...   \n",
       "\n",
       "                         Kind      Size  Total Time  \n",
       "304  Purchased AAC audio file  11362203      275026  \n",
       "291  Purchased AAC audio file   6062917      147400  \n",
       "292  Purchased AAC audio file   7784010      194040  \n",
       "293  Purchased AAC audio file   6106737      147520  "
      ]
     },
     "execution_count": 21,
     "metadata": {},
     "output_type": "execute_result"
    }
   ],
   "source": [
    "tracks = filter_tracks_by_genre(\"Vocal Jazz\")\n",
    "tracks.sample(4)"
   ]
  },
  {
   "cell_type": "code",
   "execution_count": 22,
   "metadata": {},
   "outputs": [
    {
     "name": "stdout",
     "output_type": "stream",
     "text": [
      "List Of Albums Labeled As Vocal Jazz Along With Associated Artists: \n",
      "** Nothing But the Best - The Frank Sinatra Collection (Remastered)\n",
      "   1 - Frank Sinatra\n"
     ]
    }
   ],
   "source": [
    "display_album_artist_by_genre(\"Vocal Jazz\")"
   ]
  },
  {
   "cell_type": "code",
   "execution_count": 23,
   "metadata": {},
   "outputs": [],
   "source": [
    "relabel_album_genre(\"Nothing But the Best - The Frank Sinatra Collection (Remastered)\", \"Jazz\")"
   ]
  },
  {
   "cell_type": "markdown",
   "metadata": {},
   "source": [
    "## Religious / Pop / Rock"
   ]
  },
  {
   "cell_type": "code",
   "execution_count": 24,
   "metadata": {},
   "outputs": [
    {
     "data": {
      "text/html": [
       "<div>\n",
       "<style scoped>\n",
       "    .dataframe tbody tr th:only-of-type {\n",
       "        vertical-align: middle;\n",
       "    }\n",
       "\n",
       "    .dataframe tbody tr th {\n",
       "        vertical-align: top;\n",
       "    }\n",
       "\n",
       "    .dataframe thead th {\n",
       "        text-align: right;\n",
       "    }\n",
       "</style>\n",
       "<table border=\"1\" class=\"dataframe\">\n",
       "  <thead>\n",
       "    <tr style=\"text-align: right;\">\n",
       "      <th></th>\n",
       "      <th>Track ID</th>\n",
       "      <th>Name</th>\n",
       "      <th>Artist</th>\n",
       "      <th>Album</th>\n",
       "      <th>Genre</th>\n",
       "      <th>Location</th>\n",
       "      <th>Kind</th>\n",
       "      <th>Size</th>\n",
       "      <th>Total Time</th>\n",
       "    </tr>\n",
       "  </thead>\n",
       "  <tbody>\n",
       "    <tr>\n",
       "      <th>500</th>\n",
       "      <td>1212</td>\n",
       "      <td>I Could Be the One</td>\n",
       "      <td>Stacie Orrico</td>\n",
       "      <td>Stacie Orrico</td>\n",
       "      <td>Religious/Pop/Rock</td>\n",
       "      <td>file:///Users/AlwynLopez/Music/iTunes/iTunes%2...</td>\n",
       "      <td>MPEG audio file</td>\n",
       "      <td>8757214</td>\n",
       "      <td>218122</td>\n",
       "    </tr>\n",
       "    <tr>\n",
       "      <th>494</th>\n",
       "      <td>1200</td>\n",
       "      <td>Bounce Back</td>\n",
       "      <td>Stacie Orrico</td>\n",
       "      <td>Stacie Orrico</td>\n",
       "      <td>Religious/Pop/Rock</td>\n",
       "      <td>file:///Users/AlwynLopez/Music/iTunes/iTunes%2...</td>\n",
       "      <td>MPEG audio file</td>\n",
       "      <td>7279570</td>\n",
       "      <td>181185</td>\n",
       "    </tr>\n",
       "    <tr>\n",
       "      <th>492</th>\n",
       "      <td>1196</td>\n",
       "      <td>Stuck</td>\n",
       "      <td>Stacie Orrico</td>\n",
       "      <td>Stacie Orrico</td>\n",
       "      <td>Religious/Pop/Rock</td>\n",
       "      <td>file:///Users/AlwynLopez/Music/iTunes/iTunes%2...</td>\n",
       "      <td>MPEG audio file</td>\n",
       "      <td>8898263</td>\n",
       "      <td>221648</td>\n",
       "    </tr>\n",
       "    <tr>\n",
       "      <th>498</th>\n",
       "      <td>1208</td>\n",
       "      <td>Hesitation</td>\n",
       "      <td>Stacie Orrico</td>\n",
       "      <td>Stacie Orrico</td>\n",
       "      <td>Religious/Pop/Rock</td>\n",
       "      <td>file:///Users/AlwynLopez/Music/iTunes/iTunes%2...</td>\n",
       "      <td>MPEG audio file</td>\n",
       "      <td>7816698</td>\n",
       "      <td>194612</td>\n",
       "    </tr>\n",
       "  </tbody>\n",
       "</table>\n",
       "</div>"
      ],
      "text/plain": [
       "     Track ID                Name         Artist          Album  \\\n",
       "500      1212  I Could Be the One  Stacie Orrico  Stacie Orrico   \n",
       "494      1200         Bounce Back  Stacie Orrico  Stacie Orrico   \n",
       "492      1196               Stuck  Stacie Orrico  Stacie Orrico   \n",
       "498      1208          Hesitation  Stacie Orrico  Stacie Orrico   \n",
       "\n",
       "                  Genre                                           Location  \\\n",
       "500  Religious/Pop/Rock  file:///Users/AlwynLopez/Music/iTunes/iTunes%2...   \n",
       "494  Religious/Pop/Rock  file:///Users/AlwynLopez/Music/iTunes/iTunes%2...   \n",
       "492  Religious/Pop/Rock  file:///Users/AlwynLopez/Music/iTunes/iTunes%2...   \n",
       "498  Religious/Pop/Rock  file:///Users/AlwynLopez/Music/iTunes/iTunes%2...   \n",
       "\n",
       "                Kind     Size  Total Time  \n",
       "500  MPEG audio file  8757214      218122  \n",
       "494  MPEG audio file  7279570      181185  \n",
       "492  MPEG audio file  8898263      221648  \n",
       "498  MPEG audio file  7816698      194612  "
      ]
     },
     "execution_count": 24,
     "metadata": {},
     "output_type": "execute_result"
    }
   ],
   "source": [
    "tracks = filter_tracks_by_genre('Religious/Pop/Rock')\n",
    "tracks.sample(4)"
   ]
  },
  {
   "cell_type": "code",
   "execution_count": 25,
   "metadata": {},
   "outputs": [
    {
     "name": "stdout",
     "output_type": "stream",
     "text": [
      "List Of Albums Labeled As Religious/Pop/Rock Along With Associated Artists: \n",
      "** Stacie Orrico\n",
      "   1 - Stacie Orrico\n"
     ]
    }
   ],
   "source": [
    "display_album_artist_by_genre(\"Religious/Pop/Rock\")"
   ]
  },
  {
   "cell_type": "code",
   "execution_count": 26,
   "metadata": {},
   "outputs": [],
   "source": [
    "relabel_album_genre(\"Stacie Orrico\", \"Pop\")"
   ]
  },
  {
   "cell_type": "markdown",
   "metadata": {},
   "source": [
    "## Alternative Metal / Nu-Metal / Gothic Rock"
   ]
  },
  {
   "cell_type": "code",
   "execution_count": 27,
   "metadata": {},
   "outputs": [
    {
     "data": {
      "text/html": [
       "<div>\n",
       "<style scoped>\n",
       "    .dataframe tbody tr th:only-of-type {\n",
       "        vertical-align: middle;\n",
       "    }\n",
       "\n",
       "    .dataframe tbody tr th {\n",
       "        vertical-align: top;\n",
       "    }\n",
       "\n",
       "    .dataframe thead th {\n",
       "        text-align: right;\n",
       "    }\n",
       "</style>\n",
       "<table border=\"1\" class=\"dataframe\">\n",
       "  <thead>\n",
       "    <tr style=\"text-align: right;\">\n",
       "      <th></th>\n",
       "      <th>Track ID</th>\n",
       "      <th>Name</th>\n",
       "      <th>Artist</th>\n",
       "      <th>Album</th>\n",
       "      <th>Genre</th>\n",
       "      <th>Location</th>\n",
       "      <th>Kind</th>\n",
       "      <th>Size</th>\n",
       "      <th>Total Time</th>\n",
       "    </tr>\n",
       "  </thead>\n",
       "  <tbody>\n",
       "    <tr>\n",
       "      <th>848</th>\n",
       "      <td>1910</td>\n",
       "      <td>My Last Breath</td>\n",
       "      <td>Evanescence</td>\n",
       "      <td>Fallen</td>\n",
       "      <td>Alternative Metal / Nu-Metal / Gothic Rock</td>\n",
       "      <td>file:///Users/AlwynLopez/Music/iTunes/iTunes%2...</td>\n",
       "      <td>MPEG audio file</td>\n",
       "      <td>10090977</td>\n",
       "      <td>247431</td>\n",
       "    </tr>\n",
       "    <tr>\n",
       "      <th>840</th>\n",
       "      <td>1894</td>\n",
       "      <td>Tourniquet</td>\n",
       "      <td>Evanescence</td>\n",
       "      <td>Fallen</td>\n",
       "      <td>Alternative Metal / Nu-Metal / Gothic Rock</td>\n",
       "      <td>file:///Users/AlwynLopez/Music/iTunes/iTunes%2...</td>\n",
       "      <td>MPEG audio file</td>\n",
       "      <td>11318727</td>\n",
       "      <td>278125</td>\n",
       "    </tr>\n",
       "    <tr>\n",
       "      <th>850</th>\n",
       "      <td>1914</td>\n",
       "      <td>Going Under</td>\n",
       "      <td>Evanescence</td>\n",
       "      <td>Fallen</td>\n",
       "      <td>Alternative Metal / Nu-Metal / Gothic Rock</td>\n",
       "      <td>file:///Users/AlwynLopez/Music/iTunes/iTunes%2...</td>\n",
       "      <td>MPEG audio file</td>\n",
       "      <td>8796345</td>\n",
       "      <td>215066</td>\n",
       "    </tr>\n",
       "    <tr>\n",
       "      <th>849</th>\n",
       "      <td>1912</td>\n",
       "      <td>Whisper</td>\n",
       "      <td>Evanescence</td>\n",
       "      <td>Fallen</td>\n",
       "      <td>Alternative Metal / Nu-Metal / Gothic Rock</td>\n",
       "      <td>file:///Users/AlwynLopez/Music/iTunes/iTunes%2...</td>\n",
       "      <td>MPEG audio file</td>\n",
       "      <td>13298807</td>\n",
       "      <td>327627</td>\n",
       "    </tr>\n",
       "  </tbody>\n",
       "</table>\n",
       "</div>"
      ],
      "text/plain": [
       "     Track ID            Name       Artist   Album  \\\n",
       "848      1910  My Last Breath  Evanescence  Fallen   \n",
       "840      1894      Tourniquet  Evanescence  Fallen   \n",
       "850      1914     Going Under  Evanescence  Fallen   \n",
       "849      1912         Whisper  Evanescence  Fallen   \n",
       "\n",
       "                                          Genre  \\\n",
       "848  Alternative Metal / Nu-Metal / Gothic Rock   \n",
       "840  Alternative Metal / Nu-Metal / Gothic Rock   \n",
       "850  Alternative Metal / Nu-Metal / Gothic Rock   \n",
       "849  Alternative Metal / Nu-Metal / Gothic Rock   \n",
       "\n",
       "                                              Location             Kind  \\\n",
       "848  file:///Users/AlwynLopez/Music/iTunes/iTunes%2...  MPEG audio file   \n",
       "840  file:///Users/AlwynLopez/Music/iTunes/iTunes%2...  MPEG audio file   \n",
       "850  file:///Users/AlwynLopez/Music/iTunes/iTunes%2...  MPEG audio file   \n",
       "849  file:///Users/AlwynLopez/Music/iTunes/iTunes%2...  MPEG audio file   \n",
       "\n",
       "         Size  Total Time  \n",
       "848  10090977      247431  \n",
       "840  11318727      278125  \n",
       "850   8796345      215066  \n",
       "849  13298807      327627  "
      ]
     },
     "execution_count": 27,
     "metadata": {},
     "output_type": "execute_result"
    }
   ],
   "source": [
    "tracks = filter_tracks_by_genre(\"Alternative Metal / Nu-Metal / Gothic Rock\")\n",
    "tracks.sample(4)"
   ]
  },
  {
   "cell_type": "code",
   "execution_count": 28,
   "metadata": {},
   "outputs": [
    {
     "name": "stdout",
     "output_type": "stream",
     "text": [
      "List Of Albums Labeled As Alternative Metal / Nu-Metal / Gothic Rock Along With Associated Artists: \n",
      "** Fallen\n",
      "   1 - Evanescence\n"
     ]
    }
   ],
   "source": [
    "display_album_artist_by_genre(\"Alternative Metal / Nu-Metal / Gothic Rock\")"
   ]
  },
  {
   "cell_type": "code",
   "execution_count": 29,
   "metadata": {},
   "outputs": [],
   "source": [
    "relabel_album_genre(\"Fallen\", \"Rock\")"
   ]
  },
  {
   "cell_type": "markdown",
   "metadata": {},
   "source": [
    "## R & B / Soul"
   ]
  },
  {
   "cell_type": "code",
   "execution_count": 30,
   "metadata": {},
   "outputs": [
    {
     "data": {
      "text/html": [
       "<div>\n",
       "<style scoped>\n",
       "    .dataframe tbody tr th:only-of-type {\n",
       "        vertical-align: middle;\n",
       "    }\n",
       "\n",
       "    .dataframe tbody tr th {\n",
       "        vertical-align: top;\n",
       "    }\n",
       "\n",
       "    .dataframe thead th {\n",
       "        text-align: right;\n",
       "    }\n",
       "</style>\n",
       "<table border=\"1\" class=\"dataframe\">\n",
       "  <thead>\n",
       "    <tr style=\"text-align: right;\">\n",
       "      <th></th>\n",
       "      <th>Track ID</th>\n",
       "      <th>Name</th>\n",
       "      <th>Artist</th>\n",
       "      <th>Album</th>\n",
       "      <th>Genre</th>\n",
       "      <th>Location</th>\n",
       "      <th>Kind</th>\n",
       "      <th>Size</th>\n",
       "      <th>Total Time</th>\n",
       "    </tr>\n",
       "  </thead>\n",
       "  <tbody>\n",
       "    <tr>\n",
       "      <th>330</th>\n",
       "      <td>872</td>\n",
       "      <td>Rotate</td>\n",
       "      <td>Jake Barker &amp; Blended Babies</td>\n",
       "      <td>Trip</td>\n",
       "      <td>R&amp;B/Soul</td>\n",
       "      <td>file:///Users/AlwynLopez/Music/iTunes/iTunes%2...</td>\n",
       "      <td>Purchased AAC audio file</td>\n",
       "      <td>6530737</td>\n",
       "      <td>180845</td>\n",
       "    </tr>\n",
       "    <tr>\n",
       "      <th>326</th>\n",
       "      <td>864</td>\n",
       "      <td>Perfect</td>\n",
       "      <td>Jake Barker &amp; Blended Babies</td>\n",
       "      <td>Trip</td>\n",
       "      <td>R&amp;B/Soul</td>\n",
       "      <td>file:///Users/AlwynLopez/Music/iTunes/iTunes%2...</td>\n",
       "      <td>Purchased AAC audio file</td>\n",
       "      <td>7776213</td>\n",
       "      <td>215849</td>\n",
       "    </tr>\n",
       "    <tr>\n",
       "      <th>324</th>\n",
       "      <td>860</td>\n",
       "      <td>Bump</td>\n",
       "      <td>Jake Barker &amp; Blended Babies</td>\n",
       "      <td>Trip</td>\n",
       "      <td>R&amp;B/Soul</td>\n",
       "      <td>file:///Users/AlwynLopez/Music/iTunes/iTunes%2...</td>\n",
       "      <td>Purchased AAC audio file</td>\n",
       "      <td>7219593</td>\n",
       "      <td>202057</td>\n",
       "    </tr>\n",
       "    <tr>\n",
       "      <th>331</th>\n",
       "      <td>874</td>\n",
       "      <td>Every Night</td>\n",
       "      <td>Jake Barker &amp; Blended Babies</td>\n",
       "      <td>Trip</td>\n",
       "      <td>R&amp;B/Soul</td>\n",
       "      <td>file:///Users/AlwynLopez/Music/iTunes/iTunes%2...</td>\n",
       "      <td>Purchased AAC audio file</td>\n",
       "      <td>7401781</td>\n",
       "      <td>206733</td>\n",
       "    </tr>\n",
       "  </tbody>\n",
       "</table>\n",
       "</div>"
      ],
      "text/plain": [
       "     Track ID         Name                        Artist Album     Genre  \\\n",
       "330       872       Rotate  Jake Barker & Blended Babies  Trip  R&B/Soul   \n",
       "326       864      Perfect  Jake Barker & Blended Babies  Trip  R&B/Soul   \n",
       "324       860         Bump  Jake Barker & Blended Babies  Trip  R&B/Soul   \n",
       "331       874  Every Night  Jake Barker & Blended Babies  Trip  R&B/Soul   \n",
       "\n",
       "                                              Location  \\\n",
       "330  file:///Users/AlwynLopez/Music/iTunes/iTunes%2...   \n",
       "326  file:///Users/AlwynLopez/Music/iTunes/iTunes%2...   \n",
       "324  file:///Users/AlwynLopez/Music/iTunes/iTunes%2...   \n",
       "331  file:///Users/AlwynLopez/Music/iTunes/iTunes%2...   \n",
       "\n",
       "                         Kind     Size  Total Time  \n",
       "330  Purchased AAC audio file  6530737      180845  \n",
       "326  Purchased AAC audio file  7776213      215849  \n",
       "324  Purchased AAC audio file  7219593      202057  \n",
       "331  Purchased AAC audio file  7401781      206733  "
      ]
     },
     "execution_count": 30,
     "metadata": {},
     "output_type": "execute_result"
    }
   ],
   "source": [
    "tracks = filter_tracks_by_genre(\"R&B/Soul\")\n",
    "tracks.sample(4)"
   ]
  },
  {
   "cell_type": "code",
   "execution_count": 31,
   "metadata": {},
   "outputs": [
    {
     "name": "stdout",
     "output_type": "stream",
     "text": [
      "List Of Albums Labeled As R&B/Soul Along With Associated Artists: \n",
      "** Trip\n",
      "   1 - Jake Barker & Blended Babies\n"
     ]
    }
   ],
   "source": [
    "display_album_artist_by_genre(\"R&B/Soul\")"
   ]
  },
  {
   "cell_type": "code",
   "execution_count": 32,
   "metadata": {},
   "outputs": [],
   "source": [
    "relabel_album_genre(\"Trip\", \"Hip-Hop\")"
   ]
  },
  {
   "cell_type": "markdown",
   "metadata": {},
   "source": [
    "## R & B "
   ]
  },
  {
   "cell_type": "code",
   "execution_count": 33,
   "metadata": {},
   "outputs": [
    {
     "data": {
      "text/html": [
       "<div>\n",
       "<style scoped>\n",
       "    .dataframe tbody tr th:only-of-type {\n",
       "        vertical-align: middle;\n",
       "    }\n",
       "\n",
       "    .dataframe tbody tr th {\n",
       "        vertical-align: top;\n",
       "    }\n",
       "\n",
       "    .dataframe thead th {\n",
       "        text-align: right;\n",
       "    }\n",
       "</style>\n",
       "<table border=\"1\" class=\"dataframe\">\n",
       "  <thead>\n",
       "    <tr style=\"text-align: right;\">\n",
       "      <th></th>\n",
       "      <th>Track ID</th>\n",
       "      <th>Name</th>\n",
       "      <th>Artist</th>\n",
       "      <th>Album</th>\n",
       "      <th>Genre</th>\n",
       "      <th>Location</th>\n",
       "      <th>Kind</th>\n",
       "      <th>Size</th>\n",
       "      <th>Total Time</th>\n",
       "    </tr>\n",
       "  </thead>\n",
       "  <tbody>\n",
       "    <tr>\n",
       "      <th>220</th>\n",
       "      <td>652</td>\n",
       "      <td>Chunky</td>\n",
       "      <td>Bruno Mars</td>\n",
       "      <td>24K Magic</td>\n",
       "      <td>R&amp;B</td>\n",
       "      <td>file:///Users/AlwynLopez/Music/iTunes/iTunes%2...</td>\n",
       "      <td>MPEG audio file</td>\n",
       "      <td>6035265</td>\n",
       "      <td>187010</td>\n",
       "    </tr>\n",
       "    <tr>\n",
       "      <th>219</th>\n",
       "      <td>650</td>\n",
       "      <td>24K Magic</td>\n",
       "      <td>Bruno Mars</td>\n",
       "      <td>24K Magic</td>\n",
       "      <td>R&amp;B</td>\n",
       "      <td>file:///Users/AlwynLopez/Music/iTunes/iTunes%2...</td>\n",
       "      <td>MPEG audio file</td>\n",
       "      <td>6994468</td>\n",
       "      <td>226951</td>\n",
       "    </tr>\n",
       "    <tr>\n",
       "      <th>226</th>\n",
       "      <td>664</td>\n",
       "      <td>Finesse</td>\n",
       "      <td>Bruno Mars</td>\n",
       "      <td>24K Magic</td>\n",
       "      <td>R&amp;B</td>\n",
       "      <td>file:///Users/AlwynLopez/Music/iTunes/iTunes%2...</td>\n",
       "      <td>MPEG audio file</td>\n",
       "      <td>6257754</td>\n",
       "      <td>191033</td>\n",
       "    </tr>\n",
       "    <tr>\n",
       "      <th>223</th>\n",
       "      <td>658</td>\n",
       "      <td>Versace on the Floor</td>\n",
       "      <td>Bruno Mars</td>\n",
       "      <td>24K Magic</td>\n",
       "      <td>R&amp;B</td>\n",
       "      <td>file:///Users/AlwynLopez/Music/iTunes/iTunes%2...</td>\n",
       "      <td>MPEG audio file</td>\n",
       "      <td>7963481</td>\n",
       "      <td>261276</td>\n",
       "    </tr>\n",
       "  </tbody>\n",
       "</table>\n",
       "</div>"
      ],
      "text/plain": [
       "     Track ID                  Name      Artist      Album Genre  \\\n",
       "220       652                Chunky  Bruno Mars  24K Magic   R&B   \n",
       "219       650             24K Magic  Bruno Mars  24K Magic   R&B   \n",
       "226       664               Finesse  Bruno Mars  24K Magic   R&B   \n",
       "223       658  Versace on the Floor  Bruno Mars  24K Magic   R&B   \n",
       "\n",
       "                                              Location             Kind  \\\n",
       "220  file:///Users/AlwynLopez/Music/iTunes/iTunes%2...  MPEG audio file   \n",
       "219  file:///Users/AlwynLopez/Music/iTunes/iTunes%2...  MPEG audio file   \n",
       "226  file:///Users/AlwynLopez/Music/iTunes/iTunes%2...  MPEG audio file   \n",
       "223  file:///Users/AlwynLopez/Music/iTunes/iTunes%2...  MPEG audio file   \n",
       "\n",
       "        Size  Total Time  \n",
       "220  6035265      187010  \n",
       "219  6994468      226951  \n",
       "226  6257754      191033  \n",
       "223  7963481      261276  "
      ]
     },
     "execution_count": 33,
     "metadata": {},
     "output_type": "execute_result"
    }
   ],
   "source": [
    "tracks = filter_tracks_by_genre(\"R&B\")\n",
    "tracks.sample(4)"
   ]
  },
  {
   "cell_type": "code",
   "execution_count": 34,
   "metadata": {},
   "outputs": [
    {
     "name": "stdout",
     "output_type": "stream",
     "text": [
      "List Of Albums Labeled As R&B Along With Associated Artists: \n",
      "** 24K Magic\n",
      "   1 - Bruno Mars\n"
     ]
    }
   ],
   "source": [
    "display_album_artist_by_genre(\"R&B\")"
   ]
  },
  {
   "cell_type": "code",
   "execution_count": 35,
   "metadata": {},
   "outputs": [],
   "source": [
    "relabel_album_genre(\"24K Magic\", \"Hip-Hop\")"
   ]
  },
  {
   "cell_type": "markdown",
   "metadata": {},
   "source": [
    "## Singer / Songwriter"
   ]
  },
  {
   "cell_type": "code",
   "execution_count": 36,
   "metadata": {},
   "outputs": [
    {
     "data": {
      "text/html": [
       "<div>\n",
       "<style scoped>\n",
       "    .dataframe tbody tr th:only-of-type {\n",
       "        vertical-align: middle;\n",
       "    }\n",
       "\n",
       "    .dataframe tbody tr th {\n",
       "        vertical-align: top;\n",
       "    }\n",
       "\n",
       "    .dataframe thead th {\n",
       "        text-align: right;\n",
       "    }\n",
       "</style>\n",
       "<table border=\"1\" class=\"dataframe\">\n",
       "  <thead>\n",
       "    <tr style=\"text-align: right;\">\n",
       "      <th></th>\n",
       "      <th>Track ID</th>\n",
       "      <th>Name</th>\n",
       "      <th>Artist</th>\n",
       "      <th>Album</th>\n",
       "      <th>Genre</th>\n",
       "      <th>Location</th>\n",
       "      <th>Kind</th>\n",
       "      <th>Size</th>\n",
       "      <th>Total Time</th>\n",
       "    </tr>\n",
       "  </thead>\n",
       "  <tbody>\n",
       "    <tr>\n",
       "      <th>561</th>\n",
       "      <td>1336</td>\n",
       "      <td>6/10</td>\n",
       "      <td>dodie</td>\n",
       "      <td>You - EP</td>\n",
       "      <td>Singer/Songwriter</td>\n",
       "      <td>file:///Users/AlwynLopez/Music/iTunes/iTunes%2...</td>\n",
       "      <td>Purchased AAC audio file</td>\n",
       "      <td>6474218</td>\n",
       "      <td>185487</td>\n",
       "    </tr>\n",
       "    <tr>\n",
       "      <th>562</th>\n",
       "      <td>1338</td>\n",
       "      <td>Instrumental</td>\n",
       "      <td>dodie</td>\n",
       "      <td>You - EP</td>\n",
       "      <td>Singer/Songwriter</td>\n",
       "      <td>file:///Users/AlwynLopez/Music/iTunes/iTunes%2...</td>\n",
       "      <td>Purchased AAC audio file</td>\n",
       "      <td>2197111</td>\n",
       "      <td>50340</td>\n",
       "    </tr>\n",
       "    <tr>\n",
       "      <th>566</th>\n",
       "      <td>1346</td>\n",
       "      <td>Secret For the Mad</td>\n",
       "      <td>dodie</td>\n",
       "      <td>You - EP</td>\n",
       "      <td>Singer/Songwriter</td>\n",
       "      <td>file:///Users/AlwynLopez/Music/iTunes/iTunes%2...</td>\n",
       "      <td>Purchased AAC audio file</td>\n",
       "      <td>6959323</td>\n",
       "      <td>197278</td>\n",
       "    </tr>\n",
       "    <tr>\n",
       "      <th>564</th>\n",
       "      <td>1342</td>\n",
       "      <td>Would You Be So Kind</td>\n",
       "      <td>dodie</td>\n",
       "      <td>You - EP</td>\n",
       "      <td>Singer/Songwriter</td>\n",
       "      <td>file:///Users/AlwynLopez/Music/iTunes/iTunes%2...</td>\n",
       "      <td>Purchased AAC audio file</td>\n",
       "      <td>6528377</td>\n",
       "      <td>180952</td>\n",
       "    </tr>\n",
       "  </tbody>\n",
       "</table>\n",
       "</div>"
      ],
      "text/plain": [
       "     Track ID                  Name Artist     Album              Genre  \\\n",
       "561      1336                  6/10  dodie  You - EP  Singer/Songwriter   \n",
       "562      1338          Instrumental  dodie  You - EP  Singer/Songwriter   \n",
       "566      1346    Secret For the Mad  dodie  You - EP  Singer/Songwriter   \n",
       "564      1342  Would You Be So Kind  dodie  You - EP  Singer/Songwriter   \n",
       "\n",
       "                                              Location  \\\n",
       "561  file:///Users/AlwynLopez/Music/iTunes/iTunes%2...   \n",
       "562  file:///Users/AlwynLopez/Music/iTunes/iTunes%2...   \n",
       "566  file:///Users/AlwynLopez/Music/iTunes/iTunes%2...   \n",
       "564  file:///Users/AlwynLopez/Music/iTunes/iTunes%2...   \n",
       "\n",
       "                         Kind     Size  Total Time  \n",
       "561  Purchased AAC audio file  6474218      185487  \n",
       "562  Purchased AAC audio file  2197111       50340  \n",
       "566  Purchased AAC audio file  6959323      197278  \n",
       "564  Purchased AAC audio file  6528377      180952  "
      ]
     },
     "execution_count": 36,
     "metadata": {},
     "output_type": "execute_result"
    }
   ],
   "source": [
    "tracks = filter_tracks_by_genre(\"Singer/Songwriter\")\n",
    "tracks.sample(4)"
   ]
  },
  {
   "cell_type": "code",
   "execution_count": 37,
   "metadata": {},
   "outputs": [
    {
     "name": "stdout",
     "output_type": "stream",
     "text": [
      "List Of Albums Labeled As Singer/Songwriter Along With Associated Artists: \n",
      "** You - EP\n",
      "   1 - dodie\n"
     ]
    }
   ],
   "source": [
    "display_album_artist_by_genre(\"Singer/Songwriter\")"
   ]
  },
  {
   "cell_type": "code",
   "execution_count": 38,
   "metadata": {},
   "outputs": [],
   "source": [
    "relabel_album_genre(\"You - EP\", \"Pop\")"
   ]
  },
  {
   "cell_type": "markdown",
   "metadata": {},
   "source": [
    "## Alternative Folk"
   ]
  },
  {
   "cell_type": "code",
   "execution_count": 39,
   "metadata": {},
   "outputs": [
    {
     "data": {
      "text/html": [
       "<div>\n",
       "<style scoped>\n",
       "    .dataframe tbody tr th:only-of-type {\n",
       "        vertical-align: middle;\n",
       "    }\n",
       "\n",
       "    .dataframe tbody tr th {\n",
       "        vertical-align: top;\n",
       "    }\n",
       "\n",
       "    .dataframe thead th {\n",
       "        text-align: right;\n",
       "    }\n",
       "</style>\n",
       "<table border=\"1\" class=\"dataframe\">\n",
       "  <thead>\n",
       "    <tr style=\"text-align: right;\">\n",
       "      <th></th>\n",
       "      <th>Track ID</th>\n",
       "      <th>Name</th>\n",
       "      <th>Artist</th>\n",
       "      <th>Album</th>\n",
       "      <th>Genre</th>\n",
       "      <th>Location</th>\n",
       "      <th>Kind</th>\n",
       "      <th>Size</th>\n",
       "      <th>Total Time</th>\n",
       "    </tr>\n",
       "  </thead>\n",
       "  <tbody>\n",
       "    <tr>\n",
       "      <th>621</th>\n",
       "      <td>1456</td>\n",
       "      <td>Here Comes The Sun (feat. dodie)</td>\n",
       "      <td>Jacob Collier</td>\n",
       "      <td>Here Comes The Sun (feat. dodie) - Single</td>\n",
       "      <td>Alternative Folk</td>\n",
       "      <td>file:///Users/AlwynLopez/Music/iTunes/iTunes%2...</td>\n",
       "      <td>Purchased AAC audio file</td>\n",
       "      <td>9766618</td>\n",
       "      <td>238360</td>\n",
       "    </tr>\n",
       "  </tbody>\n",
       "</table>\n",
       "</div>"
      ],
      "text/plain": [
       "     Track ID                              Name         Artist  \\\n",
       "621      1456  Here Comes The Sun (feat. dodie)  Jacob Collier   \n",
       "\n",
       "                                         Album             Genre  \\\n",
       "621  Here Comes The Sun (feat. dodie) - Single  Alternative Folk   \n",
       "\n",
       "                                              Location  \\\n",
       "621  file:///Users/AlwynLopez/Music/iTunes/iTunes%2...   \n",
       "\n",
       "                         Kind     Size  Total Time  \n",
       "621  Purchased AAC audio file  9766618      238360  "
      ]
     },
     "metadata": {},
     "output_type": "display_data"
    }
   ],
   "source": [
    "tracks = filter_tracks_by_genre(\"Alternative Folk\")\n",
    "display(tracks)"
   ]
  },
  {
   "cell_type": "code",
   "execution_count": 40,
   "metadata": {},
   "outputs": [
    {
     "name": "stdout",
     "output_type": "stream",
     "text": [
      "List Of Albums Labeled As Alternative Folk Along With Associated Artists: \n",
      "** Here Comes The Sun (feat. dodie) - Single\n",
      "   1 - Jacob Collier\n"
     ]
    }
   ],
   "source": [
    "display_album_artist_by_genre(\"Alternative Folk\")"
   ]
  },
  {
   "cell_type": "code",
   "execution_count": 41,
   "metadata": {},
   "outputs": [],
   "source": [
    "relabel_album_genre(\"Here Comes The Sun (feat. dodie) - Single\", \"Jazz\")"
   ]
  },
  {
   "cell_type": "markdown",
   "metadata": {},
   "source": [
    "## Pop Latino"
   ]
  },
  {
   "cell_type": "code",
   "execution_count": 42,
   "metadata": {},
   "outputs": [
    {
     "data": {
      "text/html": [
       "<div>\n",
       "<style scoped>\n",
       "    .dataframe tbody tr th:only-of-type {\n",
       "        vertical-align: middle;\n",
       "    }\n",
       "\n",
       "    .dataframe tbody tr th {\n",
       "        vertical-align: top;\n",
       "    }\n",
       "\n",
       "    .dataframe thead th {\n",
       "        text-align: right;\n",
       "    }\n",
       "</style>\n",
       "<table border=\"1\" class=\"dataframe\">\n",
       "  <thead>\n",
       "    <tr style=\"text-align: right;\">\n",
       "      <th></th>\n",
       "      <th>Track ID</th>\n",
       "      <th>Name</th>\n",
       "      <th>Artist</th>\n",
       "      <th>Album</th>\n",
       "      <th>Genre</th>\n",
       "      <th>Location</th>\n",
       "      <th>Kind</th>\n",
       "      <th>Size</th>\n",
       "      <th>Total Time</th>\n",
       "    </tr>\n",
       "  </thead>\n",
       "  <tbody>\n",
       "    <tr>\n",
       "      <th>392</th>\n",
       "      <td>996</td>\n",
       "      <td>Despacito (feat. Daddy Yankee)</td>\n",
       "      <td>Luis Fonsi</td>\n",
       "      <td>Despacito (feat. Daddy Yankee) - Single</td>\n",
       "      <td>Pop Latino</td>\n",
       "      <td>file:///Users/AlwynLopez/Music/iTunes/iTunes%2...</td>\n",
       "      <td>Purchased AAC audio file</td>\n",
       "      <td>8604342</td>\n",
       "      <td>227791</td>\n",
       "    </tr>\n",
       "  </tbody>\n",
       "</table>\n",
       "</div>"
      ],
      "text/plain": [
       "     Track ID                            Name      Artist  \\\n",
       "392       996  Despacito (feat. Daddy Yankee)  Luis Fonsi   \n",
       "\n",
       "                                       Album       Genre  \\\n",
       "392  Despacito (feat. Daddy Yankee) - Single  Pop Latino   \n",
       "\n",
       "                                              Location  \\\n",
       "392  file:///Users/AlwynLopez/Music/iTunes/iTunes%2...   \n",
       "\n",
       "                         Kind     Size  Total Time  \n",
       "392  Purchased AAC audio file  8604342      227791  "
      ]
     },
     "metadata": {},
     "output_type": "display_data"
    }
   ],
   "source": [
    "tracks = filter_tracks_by_genre(\"Pop Latino\")\n",
    "display(tracks)"
   ]
  },
  {
   "cell_type": "code",
   "execution_count": 43,
   "metadata": {},
   "outputs": [
    {
     "name": "stdout",
     "output_type": "stream",
     "text": [
      "List Of Albums Labeled As Pop Latino Along With Associated Artists: \n",
      "** Despacito (feat. Daddy Yankee) - Single\n",
      "   1 - Luis Fonsi\n"
     ]
    }
   ],
   "source": [
    "display_album_artist_by_genre(\"Pop Latino\")"
   ]
  },
  {
   "cell_type": "code",
   "execution_count": 44,
   "metadata": {},
   "outputs": [],
   "source": [
    "relabel_album_genre(\"Despacito (feat. Daddy Yankee) - Single\", \"Pop\")"
   ]
  },
  {
   "cell_type": "markdown",
   "metadata": {},
   "source": [
    "## EDM"
   ]
  },
  {
   "cell_type": "code",
   "execution_count": 45,
   "metadata": {},
   "outputs": [
    {
     "data": {
      "text/html": [
       "<div>\n",
       "<style scoped>\n",
       "    .dataframe tbody tr th:only-of-type {\n",
       "        vertical-align: middle;\n",
       "    }\n",
       "\n",
       "    .dataframe tbody tr th {\n",
       "        vertical-align: top;\n",
       "    }\n",
       "\n",
       "    .dataframe thead th {\n",
       "        text-align: right;\n",
       "    }\n",
       "</style>\n",
       "<table border=\"1\" class=\"dataframe\">\n",
       "  <thead>\n",
       "    <tr style=\"text-align: right;\">\n",
       "      <th></th>\n",
       "      <th>Track ID</th>\n",
       "      <th>Name</th>\n",
       "      <th>Artist</th>\n",
       "      <th>Album</th>\n",
       "      <th>Genre</th>\n",
       "      <th>Location</th>\n",
       "      <th>Kind</th>\n",
       "      <th>Size</th>\n",
       "      <th>Total Time</th>\n",
       "    </tr>\n",
       "  </thead>\n",
       "  <tbody>\n",
       "    <tr>\n",
       "      <th>464</th>\n",
       "      <td>1140</td>\n",
       "      <td>Stay With Me</td>\n",
       "      <td>Diamond Eyes &amp; Christina Grimmie</td>\n",
       "      <td>Stay With Me - Single</td>\n",
       "      <td>EDM</td>\n",
       "      <td>file:///Users/AlwynLopez/Music/iTunes/iTunes%2...</td>\n",
       "      <td>MPEG audio file</td>\n",
       "      <td>7370843</td>\n",
       "      <td>243800</td>\n",
       "    </tr>\n",
       "  </tbody>\n",
       "</table>\n",
       "</div>"
      ],
      "text/plain": [
       "     Track ID          Name                            Artist  \\\n",
       "464      1140  Stay With Me  Diamond Eyes & Christina Grimmie   \n",
       "\n",
       "                     Album Genre  \\\n",
       "464  Stay With Me - Single   EDM   \n",
       "\n",
       "                                              Location             Kind  \\\n",
       "464  file:///Users/AlwynLopez/Music/iTunes/iTunes%2...  MPEG audio file   \n",
       "\n",
       "        Size  Total Time  \n",
       "464  7370843      243800  "
      ]
     },
     "metadata": {},
     "output_type": "display_data"
    }
   ],
   "source": [
    "tracks = filter_tracks_by_genre(\"EDM\")\n",
    "display(tracks)"
   ]
  },
  {
   "cell_type": "markdown",
   "metadata": {},
   "source": [
    "There is only one track that has the genre 'EDM' so to make things simple, let us relabel it as \"Pop\"."
   ]
  },
  {
   "cell_type": "code",
   "execution_count": 46,
   "metadata": {},
   "outputs": [
    {
     "name": "stdout",
     "output_type": "stream",
     "text": [
      "List Of Albums Labeled As EDM Along With Associated Artists: \n",
      "** Stay With Me - Single\n",
      "   1 - Diamond Eyes & Christina Grimmie\n"
     ]
    }
   ],
   "source": [
    "display_album_artist_by_genre(\"EDM\")"
   ]
  },
  {
   "cell_type": "code",
   "execution_count": 47,
   "metadata": {},
   "outputs": [],
   "source": [
    "relabel_album_genre(\"Stay With Me - Single\", \"Pop\")"
   ]
  },
  {
   "cell_type": "markdown",
   "metadata": {},
   "source": [
    "# Genre Distribution (Post - Reclassification)"
   ]
  },
  {
   "cell_type": "code",
   "execution_count": 48,
   "metadata": {},
   "outputs": [
    {
     "data": {
      "image/png": "[encoded data removed]",
      "text/plain": [
       "<Figure size 1080x720 with 1 Axes>"
      ]
     },
     "metadata": {
      "needs_background": "light"
     },
     "output_type": "display_data"
    },
    {
     "data": {
      "text/plain": [
       "Pop           266\n",
       "Rock          252\n",
       "Soundtrack    170\n",
       "Hip-Hop        97\n",
       "Jazz           94\n",
       "Name: Genre, dtype: int64"
      ]
     },
     "execution_count": 48,
     "metadata": {},
     "output_type": "execute_result"
    }
   ],
   "source": [
    "music_genre_counter = my_music_metadata_df['Genre'].value_counts()\n",
    "music_genre_counter.plot(\n",
    "    kind='barh', \n",
    "    figsize=(15,10), \n",
    "    color='lightblue', \n",
    "    title='Music Genres (After Relabelling)'\n",
    ")\n",
    "plt.show()\n",
    "my_music_metadata_df.Genre.value_counts()"
   ]
  },
  {
   "cell_type": "code",
   "execution_count": null,
   "metadata": {},
   "outputs": [],
   "source": []
  }
 ],
 "metadata": {
  "kernelspec": {
   "display_name": "Python 3",
   "language": "python",
   "name": "python3"
  },
  "language_info": {
   "codemirror_mode": {
    "name": "ipython",
    "version": 3
   },
   "file_extension": ".py",
   "mimetype": "text/x-python",
   "name": "python",
   "nbconvert_exporter": "python",
   "pygments_lexer": "ipython3",
   "version": "3.7.4"
  }
 },
 "nbformat": 4,
 "nbformat_minor": 4
}
