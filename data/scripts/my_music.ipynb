{
 "cells": [
  {
   "cell_type": "markdown",
   "metadata": {},
   "source": [
    "# Exploratory Data Analysis (Personal Music Collection Metadata)"
   ]
  },
  {
   "cell_type": "markdown",
   "metadata": {},
   "source": [
    "### Load The Metadata"
   ]
  },
  {
   "cell_type": "code",
   "execution_count": 1,
   "metadata": {},
   "outputs": [
    {
     "data": {
      "text/html": [
       "<div>\n",
       "<style scoped>\n",
       "    .dataframe tbody tr th:only-of-type {\n",
       "        vertical-align: middle;\n",
       "    }\n",
       "\n",
       "    .dataframe tbody tr th {\n",
       "        vertical-align: top;\n",
       "    }\n",
       "\n",
       "    .dataframe thead th {\n",
       "        text-align: right;\n",
       "    }\n",
       "</style>\n",
       "<table border=\"1\" class=\"dataframe\">\n",
       "  <thead>\n",
       "    <tr style=\"text-align: right;\">\n",
       "      <th></th>\n",
       "      <th>Track ID</th>\n",
       "      <th>Name</th>\n",
       "      <th>Artist</th>\n",
       "      <th>Album</th>\n",
       "      <th>Genre</th>\n",
       "      <th>Location</th>\n",
       "      <th>Kind</th>\n",
       "      <th>Size</th>\n",
       "      <th>Total Time</th>\n",
       "    </tr>\n",
       "  </thead>\n",
       "  <tbody>\n",
       "    <tr>\n",
       "      <th>0</th>\n",
       "      <td>212</td>\n",
       "      <td>Over Overthinking You</td>\n",
       "      <td>Christina Grimmie</td>\n",
       "      <td>With Love</td>\n",
       "      <td>Pop</td>\n",
       "      <td>file:///Users/AlwynLopez/Music/iTunes/iTunes%2...</td>\n",
       "      <td>MPEG audio file</td>\n",
       "      <td>7438232</td>\n",
       "      <td>183457</td>\n",
       "    </tr>\n",
       "    <tr>\n",
       "      <th>1</th>\n",
       "      <td>214</td>\n",
       "      <td>Absolutely Final Goodbye</td>\n",
       "      <td>Christina Grimmie</td>\n",
       "      <td>With Love</td>\n",
       "      <td>Pop</td>\n",
       "      <td>file:///Users/AlwynLopez/Music/iTunes/iTunes%2...</td>\n",
       "      <td>MPEG audio file</td>\n",
       "      <td>6532311</td>\n",
       "      <td>160809</td>\n",
       "    </tr>\n",
       "    <tr>\n",
       "      <th>2</th>\n",
       "      <td>216</td>\n",
       "      <td>Make It Work</td>\n",
       "      <td>Christina Grimmie</td>\n",
       "      <td>With Love</td>\n",
       "      <td>Pop</td>\n",
       "      <td>file:///Users/AlwynLopez/Music/iTunes/iTunes%2...</td>\n",
       "      <td>MPEG audio file</td>\n",
       "      <td>9333659</td>\n",
       "      <td>230844</td>\n",
       "    </tr>\n",
       "    <tr>\n",
       "      <th>3</th>\n",
       "      <td>218</td>\n",
       "      <td>Get Yourself Together</td>\n",
       "      <td>Christina Grimmie</td>\n",
       "      <td>With Love</td>\n",
       "      <td>Pop</td>\n",
       "      <td>file:///Users/AlwynLopez/Music/iTunes/iTunes%2...</td>\n",
       "      <td>MPEG audio file</td>\n",
       "      <td>8606428</td>\n",
       "      <td>212662</td>\n",
       "    </tr>\n",
       "    <tr>\n",
       "      <th>4</th>\n",
       "      <td>220</td>\n",
       "      <td>With Love</td>\n",
       "      <td>Christina Grimmie</td>\n",
       "      <td>With Love</td>\n",
       "      <td>Pop</td>\n",
       "      <td>file:///Users/AlwynLopez/Music/iTunes/iTunes%2...</td>\n",
       "      <td>MPEG audio file</td>\n",
       "      <td>9618910</td>\n",
       "      <td>237975</td>\n",
       "    </tr>\n",
       "    <tr>\n",
       "      <th>...</th>\n",
       "      <td>...</td>\n",
       "      <td>...</td>\n",
       "      <td>...</td>\n",
       "      <td>...</td>\n",
       "      <td>...</td>\n",
       "      <td>...</td>\n",
       "      <td>...</td>\n",
       "      <td>...</td>\n",
       "      <td>...</td>\n",
       "    </tr>\n",
       "    <tr>\n",
       "      <th>874</th>\n",
       "      <td>1962</td>\n",
       "      <td>Anthems for a Seventeen Year Old Girl</td>\n",
       "      <td>Broken Social Scene</td>\n",
       "      <td>Scott Pilgrim Vs. the World</td>\n",
       "      <td>Rock</td>\n",
       "      <td>file:///Users/AlwynLopez/Music/iTunes/iTunes%2...</td>\n",
       "      <td>MPEG audio file</td>\n",
       "      <td>8899716</td>\n",
       "      <td>275670</td>\n",
       "    </tr>\n",
       "    <tr>\n",
       "      <th>875</th>\n",
       "      <td>1964</td>\n",
       "      <td>Scott Pilgrim</td>\n",
       "      <td>Plumtree</td>\n",
       "      <td>Scott Pilgrim Vs. the World</td>\n",
       "      <td>Rock</td>\n",
       "      <td>file:///Users/AlwynLopez/Music/iTunes/iTunes%2...</td>\n",
       "      <td>MPEG audio file</td>\n",
       "      <td>5889314</td>\n",
       "      <td>181968</td>\n",
       "    </tr>\n",
       "    <tr>\n",
       "      <th>876</th>\n",
       "      <td>1966</td>\n",
       "      <td>O Katrina!</td>\n",
       "      <td>Black Lips</td>\n",
       "      <td>Scott Pilgrim Vs. the World</td>\n",
       "      <td>Rock</td>\n",
       "      <td>file:///Users/AlwynLopez/Music/iTunes/iTunes%2...</td>\n",
       "      <td>MPEG audio file</td>\n",
       "      <td>5532348</td>\n",
       "      <td>170840</td>\n",
       "    </tr>\n",
       "    <tr>\n",
       "      <th>877</th>\n",
       "      <td>1968</td>\n",
       "      <td>Sleazy Bed Track</td>\n",
       "      <td>The Bluetones</td>\n",
       "      <td>Scott Pilgrim Vs. the World</td>\n",
       "      <td>Rock</td>\n",
       "      <td>file:///Users/AlwynLopez/Music/iTunes/iTunes%2...</td>\n",
       "      <td>MPEG audio file</td>\n",
       "      <td>8903857</td>\n",
       "      <td>275800</td>\n",
       "    </tr>\n",
       "    <tr>\n",
       "      <th>878</th>\n",
       "      <td>1970</td>\n",
       "      <td>By Your Side</td>\n",
       "      <td>Beachwood Sparks</td>\n",
       "      <td>Scott Pilgrim Vs. the World</td>\n",
       "      <td>Rock</td>\n",
       "      <td>file:///Users/AlwynLopez/Music/iTunes/iTunes%2...</td>\n",
       "      <td>MPEG audio file</td>\n",
       "      <td>9578567</td>\n",
       "      <td>296829</td>\n",
       "    </tr>\n",
       "  </tbody>\n",
       "</table>\n",
       "<p>879 rows × 9 columns</p>\n",
       "</div>"
      ],
      "text/plain": [
       "     Track ID                                   Name               Artist  \\\n",
       "0         212                  Over Overthinking You    Christina Grimmie   \n",
       "1         214               Absolutely Final Goodbye    Christina Grimmie   \n",
       "2         216                           Make It Work    Christina Grimmie   \n",
       "3         218                  Get Yourself Together    Christina Grimmie   \n",
       "4         220                              With Love    Christina Grimmie   \n",
       "..        ...                                    ...                  ...   \n",
       "874      1962  Anthems for a Seventeen Year Old Girl  Broken Social Scene   \n",
       "875      1964                          Scott Pilgrim             Plumtree   \n",
       "876      1966                             O Katrina!           Black Lips   \n",
       "877      1968                       Sleazy Bed Track        The Bluetones   \n",
       "878      1970                           By Your Side     Beachwood Sparks   \n",
       "\n",
       "                           Album Genre  \\\n",
       "0                      With Love   Pop   \n",
       "1                      With Love   Pop   \n",
       "2                      With Love   Pop   \n",
       "3                      With Love   Pop   \n",
       "4                      With Love   Pop   \n",
       "..                           ...   ...   \n",
       "874  Scott Pilgrim Vs. the World  Rock   \n",
       "875  Scott Pilgrim Vs. the World  Rock   \n",
       "876  Scott Pilgrim Vs. the World  Rock   \n",
       "877  Scott Pilgrim Vs. the World  Rock   \n",
       "878  Scott Pilgrim Vs. the World  Rock   \n",
       "\n",
       "                                              Location             Kind  \\\n",
       "0    file:///Users/AlwynLopez/Music/iTunes/iTunes%2...  MPEG audio file   \n",
       "1    file:///Users/AlwynLopez/Music/iTunes/iTunes%2...  MPEG audio file   \n",
       "2    file:///Users/AlwynLopez/Music/iTunes/iTunes%2...  MPEG audio file   \n",
       "3    file:///Users/AlwynLopez/Music/iTunes/iTunes%2...  MPEG audio file   \n",
       "4    file:///Users/AlwynLopez/Music/iTunes/iTunes%2...  MPEG audio file   \n",
       "..                                                 ...              ...   \n",
       "874  file:///Users/AlwynLopez/Music/iTunes/iTunes%2...  MPEG audio file   \n",
       "875  file:///Users/AlwynLopez/Music/iTunes/iTunes%2...  MPEG audio file   \n",
       "876  file:///Users/AlwynLopez/Music/iTunes/iTunes%2...  MPEG audio file   \n",
       "877  file:///Users/AlwynLopez/Music/iTunes/iTunes%2...  MPEG audio file   \n",
       "878  file:///Users/AlwynLopez/Music/iTunes/iTunes%2...  MPEG audio file   \n",
       "\n",
       "        Size  Total Time  \n",
       "0    7438232      183457  \n",
       "1    6532311      160809  \n",
       "2    9333659      230844  \n",
       "3    8606428      212662  \n",
       "4    9618910      237975  \n",
       "..       ...         ...  \n",
       "874  8899716      275670  \n",
       "875  5889314      181968  \n",
       "876  5532348      170840  \n",
       "877  8903857      275800  \n",
       "878  9578567      296829  \n",
       "\n",
       "[879 rows x 9 columns]"
      ]
     },
     "metadata": {},
     "output_type": "display_data"
    }
   ],
   "source": [
    "import pandas as pd\n",
    "import matplotlib.pyplot as plt\n",
    "\n",
    "my_music_metadata_df = pd.read_csv(\"my_music_metadata.csv\", index_col=0)\n",
    "display(my_music_metadata_df)"
   ]
  },
  {
   "cell_type": "markdown",
   "metadata": {},
   "source": [
    "### Print Out Total File Size Storage And Total Time"
   ]
  },
  {
   "cell_type": "code",
   "execution_count": 2,
   "metadata": {},
   "outputs": [
    {
     "name": "stdout",
     "output_type": "stream",
     "text": [
      "Total Bytes: \t 6265166905\n",
      "Total Seconds: \t 175916573\n"
     ]
    }
   ],
   "source": [
    "total_bytes = my_music_metadata_df['Size'].sum()\n",
    "total_milliseconds = my_music_metadata_df['Total Time'].sum()\n",
    "\n",
    "print(\"Total Bytes: \\t\", total_bytes)\n",
    "print(\"Total Seconds: \\t\", total_milliseconds)"
   ]
  },
  {
   "cell_type": "markdown",
   "metadata": {},
   "source": [
    "That is about 6.26 gigabytes of data, and its duration is about 2 days."
   ]
  },
  {
   "cell_type": "markdown",
   "metadata": {},
   "source": [
    "### Pie Chart For File Types In My Music Collection"
   ]
  },
  {
   "cell_type": "code",
   "execution_count": 3,
   "metadata": {},
   "outputs": [
    {
     "data": {
      "image/png": "[encoded data removed]",
      "text/plain": [
       "<Figure size 1080x720 with 1 Axes>"
      ]
     },
     "metadata": {},
     "output_type": "display_data"
    },
    {
     "name": "stdout",
     "output_type": "stream",
     "text": [
      "MPEG audio file             682\n",
      "Purchased AAC audio file    197\n",
      "Name: Kind, dtype: int64\n"
     ]
    }
   ],
   "source": [
    "file_type_counter = my_music_metadata_df['Kind'].value_counts()\n",
    "file_type_counter.plot(\n",
    "    kind='pie', \n",
    "    figsize=(15,10), \n",
    "    colors=['#ff9999','#99ff99'], \n",
    "    title='File Types', \n",
    "    ylabel=\"\"\n",
    ")\n",
    "plt.show()\n",
    "print(file_type_counter)"
   ]
  },
  {
   "cell_type": "markdown",
   "metadata": {},
   "source": [
    "### Bar Chart For Music Genres In My Music Collection"
   ]
  },
  {
   "cell_type": "code",
   "execution_count": 4,
   "metadata": {},
   "outputs": [
    {
     "data": {
      "image/png": "[encoded data removed]",
      "text/plain": [
       "<Figure size 1080x720 with 1 Axes>"
      ]
     },
     "metadata": {
      "needs_background": "light"
     },
     "output_type": "display_data"
    }
   ],
   "source": [
    "music_genre_counter = my_music_metadata_df['Genre'].value_counts()\n",
    "music_genre_counter.plot(\n",
    "    kind='bar', \n",
    "    figsize=(15,10), \n",
    "    color=['#66b3ff'], \n",
    "    title='Music Genres'\n",
    ")\n",
    "plt.show()"
   ]
  },
  {
   "cell_type": "markdown",
   "metadata": {},
   "source": [
    "As you can see on the above bar graph, there are over 18 genres in my personal music collection. To simplify the machine learning process, we need to reclassify each of the songs into one of five genres:\n",
    " * Soundtrack\n",
    " * Hip Hop\n",
    " * Jazz\n",
    " * Pop\n",
    " * Rock\n",
    "\n",
    "To do that, lets examine the songs that are do not belong in one of the five categories."
   ]
  },
  {
   "cell_type": "markdown",
   "metadata": {},
   "source": [
    "# Data Cleaning"
   ]
  },
  {
   "cell_type": "markdown",
   "metadata": {},
   "source": [
    "Here is a list of helper methods that aid in the data cleaning process."
   ]
  },
  {
   "cell_type": "code",
   "execution_count": 5,
   "metadata": {},
   "outputs": [],
   "source": [
    "#filter tracks by genre\n",
    "def filter_tracks_by_genre(genre):\n",
    "    genre_conditional = my_music_metadata_df['Genre'] == genre\n",
    "    songs_by_genre = my_music_metadata_df[genre_conditional]\n",
    "    \n",
    "    return songs_by_genre\n",
    "\n",
    "#filter tracks by album name\n",
    "def filter_tracks_by_album(album):\n",
    "    album_conditional = my_music_metadata_df['Album'] == album\n",
    "    songs_by_album = my_music_metadata_df[album_conditional]\n",
    "    \n",
    "    return songs_by_album\n",
    "\n",
    "#Once filter tracks by genre, get me the list of albums\n",
    "def get_albums_by_genre(genre):\n",
    "    songs_by_genre = filter_tracks_by_genre(genre)\n",
    "    album_list = list(songs_by_genre['Album'].unique())\n",
    "    \n",
    "    return album_list\n",
    "\n",
    "#Once filter tracks by album, get me the list of artists\n",
    "def get_artists_by_album(album):\n",
    "    songs_by_genre = filter_tracks_by_album(album)\n",
    "    artist_list = list(songs_by_genre['Artist'].unique())\n",
    "    \n",
    "    return artist_list\n",
    "\n",
    "#Once filter tracks by genre, get me a list of albums along with their associated artists\n",
    "def display_album_artist_by_genre(genre):\n",
    "    albums = get_albums_by_genre(genre)\n",
    "    print('List Of Albums Labeled As '+ genre +' Along With Associated Artists: ')\n",
    "    for album in albums:\n",
    "        print(\"**\", album)\n",
    "        artist_list = get_artists_by_album(album)\n",
    "        for i, artist in enumerate(artist_list):\n",
    "            print(\"  \", i + 1, \"-\", artist)\n",
    "\n",
    "#Relabel all tracks in the album to its new genre\n",
    "def relabel_album_genre(album, new_genre):\n",
    "    album_conditional = my_music_metadata_df['Album'] == album\n",
    "    my_music_metadata_df.loc[album_conditional, 'Genre'] = new_genre\n"
   ]
  },
  {
   "cell_type": "markdown",
   "metadata": {},
   "source": [
    "## Pop Rock"
   ]
  },
  {
   "cell_type": "code",
   "execution_count": 6,
   "metadata": {},
   "outputs": [
    {
     "data": {
      "text/html": [
       "<div>\n",
       "<style scoped>\n",
       "    .dataframe tbody tr th:only-of-type {\n",
       "        vertical-align: middle;\n",
       "    }\n",
       "\n",
       "    .dataframe tbody tr th {\n",
       "        vertical-align: top;\n",
       "    }\n",
       "\n",
       "    .dataframe thead th {\n",
       "        text-align: right;\n",
       "    }\n",
       "</style>\n",
       "<table border=\"1\" class=\"dataframe\">\n",
       "  <thead>\n",
       "    <tr style=\"text-align: right;\">\n",
       "      <th></th>\n",
       "      <th>Track ID</th>\n",
       "      <th>Name</th>\n",
       "      <th>Artist</th>\n",
       "      <th>Album</th>\n",
       "      <th>Genre</th>\n",
       "      <th>Location</th>\n",
       "      <th>Kind</th>\n",
       "      <th>Size</th>\n",
       "      <th>Total Time</th>\n",
       "    </tr>\n",
       "  </thead>\n",
       "  <tbody>\n",
       "    <tr>\n",
       "      <th>397</th>\n",
       "      <td>1006</td>\n",
       "      <td>I Want It All</td>\n",
       "      <td>Queen</td>\n",
       "      <td>Absolute Greatest</td>\n",
       "      <td>Pop/Rock</td>\n",
       "      <td>file:///Users/AlwynLopez/Music/iTunes/iTunes%2...</td>\n",
       "      <td>MPEG audio file</td>\n",
       "      <td>6568418</td>\n",
       "      <td>241371</td>\n",
       "    </tr>\n",
       "    <tr>\n",
       "      <th>406</th>\n",
       "      <td>1024</td>\n",
       "      <td>Who Wants to Live Forever</td>\n",
       "      <td>Queen/National Philharmonic Orchestra</td>\n",
       "      <td>Absolute Greatest</td>\n",
       "      <td>Pop/Rock</td>\n",
       "      <td>file:///Users/AlwynLopez/Music/iTunes/iTunes%2...</td>\n",
       "      <td>MPEG audio file</td>\n",
       "      <td>6785060</td>\n",
       "      <td>295157</td>\n",
       "    </tr>\n",
       "    <tr>\n",
       "      <th>194</th>\n",
       "      <td>600</td>\n",
       "      <td>Boulevard of Broken Dreams</td>\n",
       "      <td>Green Day</td>\n",
       "      <td>American Idiot</td>\n",
       "      <td>Pop/Rock</td>\n",
       "      <td>file:///Users/AlwynLopez/Music/iTunes/iTunes%2...</td>\n",
       "      <td>MPEG audio file</td>\n",
       "      <td>10484647</td>\n",
       "      <td>260780</td>\n",
       "    </tr>\n",
       "    <tr>\n",
       "      <th>375</th>\n",
       "      <td>962</td>\n",
       "      <td>Dirrty</td>\n",
       "      <td>Christina Aguilera &amp; Redman</td>\n",
       "      <td>Stripped</td>\n",
       "      <td>Pop/Rock</td>\n",
       "      <td>file:///Users/AlwynLopez/Music/iTunes/iTunes%2...</td>\n",
       "      <td>MPEG audio file</td>\n",
       "      <td>12015438</td>\n",
       "      <td>298893</td>\n",
       "    </tr>\n",
       "  </tbody>\n",
       "</table>\n",
       "</div>"
      ],
      "text/plain": [
       "     Track ID                        Name  \\\n",
       "397      1006               I Want It All   \n",
       "406      1024   Who Wants to Live Forever   \n",
       "194       600  Boulevard of Broken Dreams   \n",
       "375       962                      Dirrty   \n",
       "\n",
       "                                    Artist              Album     Genre  \\\n",
       "397                                  Queen  Absolute Greatest  Pop/Rock   \n",
       "406  Queen/National Philharmonic Orchestra  Absolute Greatest  Pop/Rock   \n",
       "194                              Green Day     American Idiot  Pop/Rock   \n",
       "375            Christina Aguilera & Redman           Stripped  Pop/Rock   \n",
       "\n",
       "                                              Location             Kind  \\\n",
       "397  file:///Users/AlwynLopez/Music/iTunes/iTunes%2...  MPEG audio file   \n",
       "406  file:///Users/AlwynLopez/Music/iTunes/iTunes%2...  MPEG audio file   \n",
       "194  file:///Users/AlwynLopez/Music/iTunes/iTunes%2...  MPEG audio file   \n",
       "375  file:///Users/AlwynLopez/Music/iTunes/iTunes%2...  MPEG audio file   \n",
       "\n",
       "         Size  Total Time  \n",
       "397   6568418      241371  \n",
       "406   6785060      295157  \n",
       "194  10484647      260780  \n",
       "375  12015438      298893  "
      ]
     },
     "execution_count": 6,
     "metadata": {},
     "output_type": "execute_result"
    }
   ],
   "source": [
    "tracks = filter_tracks_by_genre('Pop/Rock')\n",
    "tracks.sample(4)"
   ]
  },
  {
   "cell_type": "code",
   "execution_count": 7,
   "metadata": {},
   "outputs": [
    {
     "name": "stdout",
     "output_type": "stream",
     "text": [
      "List Of Albums Labeled As Pop/Rock Along With Associated Artists: \n",
      "** Back to Basics \n",
      "   1 - Christina Aguilera\n",
      "** American Idiot\n",
      "   1 - Green Day\n",
      "** ÷\n",
      "   1 - Ed Sheeran\n",
      "** Infinity on High\n",
      "   1 - Fall Out Boy\n",
      "   2 - Fall Out Boy & Butch Walker\n",
      "** Death of a Bachelor\n",
      "   1 - Panic! At the Disco\n",
      "** Stripped\n",
      "   1 - Christina Aguilera\n",
      "   2 - Christina Aguilera & Lil' Kim\n",
      "   3 - Christina Aguilera & Larry Gold\n",
      "   4 - Christina Aguilera & Redman\n",
      "** Songs About Jane\n",
      "   1 - Maroon 5\n",
      "** Absolute Greatest\n",
      "   1 - Queen\n",
      "   2 - Queen/David Bowie\n",
      "   3 - Queen/National Philharmonic Orchestra\n",
      "** Minutes to Midnight\n",
      "   1 - Linkin Park\n",
      "** Mezmerize\n",
      "   1 - System of a Down\n",
      "** Hypnotize\n",
      "   1 - System of a Down\n",
      "** Intertwined - EP\n",
      "   1 - dodie\n",
      "** Folie à Deux\n",
      "   1 - Fall Out Boy\n"
     ]
    }
   ],
   "source": [
    "display_album_artist_by_genre(\"Pop/Rock\")"
   ]
  },
  {
   "cell_type": "code",
   "execution_count": 8,
   "metadata": {},
   "outputs": [],
   "source": [
    "pop_albums = [\n",
    "    'Back to Basics ', \n",
    "    '÷', \n",
    "    'Stripped', \n",
    "    'Intertwined - EP'\n",
    "]\n",
    "\n",
    "pop_rock_albums = get_albums_by_genre('Pop/Rock')\n",
    "for album in pop_rock_albums:\n",
    "    if album in pop_albums:\n",
    "        relabel_album_genre(album, \"Pop\")\n",
    "    else:\n",
    "        relabel_album_genre(album, \"Rock\")"
   ]
  },
  {
   "cell_type": "markdown",
   "metadata": {},
   "source": [
    "## Rap"
   ]
  },
  {
   "cell_type": "code",
   "execution_count": 9,
   "metadata": {},
   "outputs": [
    {
     "data": {
      "text/html": [
       "<div>\n",
       "<style scoped>\n",
       "    .dataframe tbody tr th:only-of-type {\n",
       "        vertical-align: middle;\n",
       "    }\n",
       "\n",
       "    .dataframe tbody tr th {\n",
       "        vertical-align: top;\n",
       "    }\n",
       "\n",
       "    .dataframe thead th {\n",
       "        text-align: right;\n",
       "    }\n",
       "</style>\n",
       "<table border=\"1\" class=\"dataframe\">\n",
       "  <thead>\n",
       "    <tr style=\"text-align: right;\">\n",
       "      <th></th>\n",
       "      <th>Track ID</th>\n",
       "      <th>Name</th>\n",
       "      <th>Artist</th>\n",
       "      <th>Album</th>\n",
       "      <th>Genre</th>\n",
       "      <th>Location</th>\n",
       "      <th>Kind</th>\n",
       "      <th>Size</th>\n",
       "      <th>Total Time</th>\n",
       "    </tr>\n",
       "  </thead>\n",
       "  <tbody>\n",
       "    <tr>\n",
       "      <th>784</th>\n",
       "      <td>1782</td>\n",
       "      <td>Curtains Close (Skit)</td>\n",
       "      <td>Eminem</td>\n",
       "      <td>The Eminem Show</td>\n",
       "      <td>Rap</td>\n",
       "      <td>file:///Users/AlwynLopez/Music/iTunes/iTunes%2...</td>\n",
       "      <td>MPEG audio file</td>\n",
       "      <td>1528004</td>\n",
       "      <td>61884</td>\n",
       "    </tr>\n",
       "    <tr>\n",
       "      <th>458</th>\n",
       "      <td>1128</td>\n",
       "      <td>LUST.</td>\n",
       "      <td>Kendrick Lamar</td>\n",
       "      <td>DAMN.</td>\n",
       "      <td>Rap</td>\n",
       "      <td>file:///Users/AlwynLopez/Music/iTunes/iTunes%2...</td>\n",
       "      <td>MPEG audio file</td>\n",
       "      <td>12436962</td>\n",
       "      <td>308401</td>\n",
       "    </tr>\n",
       "    <tr>\n",
       "      <th>785</th>\n",
       "      <td>1784</td>\n",
       "      <td>Sing for the Moment</td>\n",
       "      <td>Eminem</td>\n",
       "      <td>The Eminem Show</td>\n",
       "      <td>Rap</td>\n",
       "      <td>file:///Users/AlwynLopez/Music/iTunes/iTunes%2...</td>\n",
       "      <td>MPEG audio file</td>\n",
       "      <td>8192360</td>\n",
       "      <td>339591</td>\n",
       "    </tr>\n",
       "    <tr>\n",
       "      <th>787</th>\n",
       "      <td>1788</td>\n",
       "      <td>Superman</td>\n",
       "      <td>Eminem/Dina Rae</td>\n",
       "      <td>The Eminem Show</td>\n",
       "      <td>Rap</td>\n",
       "      <td>file:///Users/AlwynLopez/Music/iTunes/iTunes%2...</td>\n",
       "      <td>MPEG audio file</td>\n",
       "      <td>8450654</td>\n",
       "      <td>350354</td>\n",
       "    </tr>\n",
       "  </tbody>\n",
       "</table>\n",
       "</div>"
      ],
      "text/plain": [
       "     Track ID                   Name           Artist            Album Genre  \\\n",
       "784      1782  Curtains Close (Skit)           Eminem  The Eminem Show   Rap   \n",
       "458      1128                  LUST.   Kendrick Lamar            DAMN.   Rap   \n",
       "785      1784    Sing for the Moment           Eminem  The Eminem Show   Rap   \n",
       "787      1788               Superman  Eminem/Dina Rae  The Eminem Show   Rap   \n",
       "\n",
       "                                              Location             Kind  \\\n",
       "784  file:///Users/AlwynLopez/Music/iTunes/iTunes%2...  MPEG audio file   \n",
       "458  file:///Users/AlwynLopez/Music/iTunes/iTunes%2...  MPEG audio file   \n",
       "785  file:///Users/AlwynLopez/Music/iTunes/iTunes%2...  MPEG audio file   \n",
       "787  file:///Users/AlwynLopez/Music/iTunes/iTunes%2...  MPEG audio file   \n",
       "\n",
       "         Size  Total Time  \n",
       "784   1528004       61884  \n",
       "458  12436962      308401  \n",
       "785   8192360      339591  \n",
       "787   8450654      350354  "
      ]
     },
     "execution_count": 9,
     "metadata": {},
     "output_type": "execute_result"
    }
   ],
   "source": [
    "tracks = filter_tracks_by_genre('Rap')\n",
    "tracks.sample(4)"
   ]
  },
  {
   "cell_type": "code",
   "execution_count": 10,
   "metadata": {},
   "outputs": [
    {
     "name": "stdout",
     "output_type": "stream",
     "text": [
      "List Of Albums Labeled As Rap Along With Associated Artists: \n",
      "** DAMN.\n",
      "   1 - Kendrick Lamar\n",
      "   2 - Kendrick Lamar/Rihanna\n",
      "   3 - Kendrick Lamar/Zacari\n",
      "   4 - Kendrick Lamar/U2\n",
      "** The Eminem Show\n",
      "   1 - Eminem/Obie Trice\n",
      "   2 - Eminem\n",
      "   3 - Eminem/Steve Berman\n",
      "   4 - Eminem/Dina Rae\n",
      "   5 - Eminem/Dr. Dre\n",
      "   6 - Eminem/D12\n",
      "   7 - Paul D. Rosenberg\n",
      "** The Slim Shady LP\n",
      "   1 - Eminem\n",
      "   2 - Eminem/Royce da 5'9\"\n",
      "   3 - Eminem/Aristotle/Marky Bass\n",
      "   4 - DJ Paul Bunyon\n",
      "   5 - Eminem/Royce da 5'9\"/Jeff Bass\n",
      "   6 - Eminem/Jeff Bass/Marky Bass\n",
      "   7 - Jeff Bass\n",
      "   8 - Winkler/Zoe\n"
     ]
    }
   ],
   "source": [
    "display_album_artist_by_genre(\"Rap\")"
   ]
  },
  {
   "cell_type": "code",
   "execution_count": 11,
   "metadata": {},
   "outputs": [],
   "source": [
    "relabel_album_genre(\"DAMN.\", \"Hip-Hop\")\n",
    "relabel_album_genre(\"The Eminem Show\", \"Hip-Hop\")\n",
    "relabel_album_genre(\"The Slim Shady LP\", \"Hip-Hop\")"
   ]
  },
  {
   "cell_type": "markdown",
   "metadata": {},
   "source": [
    "## Score"
   ]
  },
  {
   "cell_type": "code",
   "execution_count": 12,
   "metadata": {},
   "outputs": [
    {
     "data": {
      "text/html": [
       "<div>\n",
       "<style scoped>\n",
       "    .dataframe tbody tr th:only-of-type {\n",
       "        vertical-align: middle;\n",
       "    }\n",
       "\n",
       "    .dataframe tbody tr th {\n",
       "        vertical-align: top;\n",
       "    }\n",
       "\n",
       "    .dataframe thead th {\n",
       "        text-align: right;\n",
       "    }\n",
       "</style>\n",
       "<table border=\"1\" class=\"dataframe\">\n",
       "  <thead>\n",
       "    <tr style=\"text-align: right;\">\n",
       "      <th></th>\n",
       "      <th>Track ID</th>\n",
       "      <th>Name</th>\n",
       "      <th>Artist</th>\n",
       "      <th>Album</th>\n",
       "      <th>Genre</th>\n",
       "      <th>Location</th>\n",
       "      <th>Kind</th>\n",
       "      <th>Size</th>\n",
       "      <th>Total Time</th>\n",
       "    </tr>\n",
       "  </thead>\n",
       "  <tbody>\n",
       "    <tr>\n",
       "      <th>756</th>\n",
       "      <td>1726</td>\n",
       "      <td>Ceiling Games</td>\n",
       "      <td>Carlos Rafael Rivera</td>\n",
       "      <td>The Queen's Gambit (Music from the Netflix Lim...</td>\n",
       "      <td>Score</td>\n",
       "      <td>file:///Users/AlwynLopez/Music/iTunes/iTunes%2...</td>\n",
       "      <td>MPEG audio file</td>\n",
       "      <td>6045056</td>\n",
       "      <td>137482</td>\n",
       "    </tr>\n",
       "    <tr>\n",
       "      <th>747</th>\n",
       "      <td>1708</td>\n",
       "      <td>First Day At School</td>\n",
       "      <td>Carlos Rafael Rivera</td>\n",
       "      <td>The Queen's Gambit (Music from the Netflix Lim...</td>\n",
       "      <td>Score</td>\n",
       "      <td>file:///Users/AlwynLopez/Music/iTunes/iTunes%2...</td>\n",
       "      <td>MPEG audio file</td>\n",
       "      <td>3463127</td>\n",
       "      <td>72933</td>\n",
       "    </tr>\n",
       "    <tr>\n",
       "      <th>737</th>\n",
       "      <td>1688</td>\n",
       "      <td>You're Gloating</td>\n",
       "      <td>Carlos Rafael Rivera</td>\n",
       "      <td>The Queen's Gambit (Music from the Netflix Lim...</td>\n",
       "      <td>Score</td>\n",
       "      <td>file:///Users/AlwynLopez/Music/iTunes/iTunes%2...</td>\n",
       "      <td>MPEG audio file</td>\n",
       "      <td>3205027</td>\n",
       "      <td>66481</td>\n",
       "    </tr>\n",
       "    <tr>\n",
       "      <th>735</th>\n",
       "      <td>1684</td>\n",
       "      <td>Beth Alone</td>\n",
       "      <td>Carlos Rafael Rivera</td>\n",
       "      <td>The Queen's Gambit (Music from the Netflix Lim...</td>\n",
       "      <td>Score</td>\n",
       "      <td>file:///Users/AlwynLopez/Music/iTunes/iTunes%2...</td>\n",
       "      <td>MPEG audio file</td>\n",
       "      <td>5464112</td>\n",
       "      <td>122958</td>\n",
       "    </tr>\n",
       "  </tbody>\n",
       "</table>\n",
       "</div>"
      ],
      "text/plain": [
       "     Track ID                 Name                Artist  \\\n",
       "756      1726        Ceiling Games  Carlos Rafael Rivera   \n",
       "747      1708  First Day At School  Carlos Rafael Rivera   \n",
       "737      1688      You're Gloating  Carlos Rafael Rivera   \n",
       "735      1684           Beth Alone  Carlos Rafael Rivera   \n",
       "\n",
       "                                                 Album  Genre  \\\n",
       "756  The Queen's Gambit (Music from the Netflix Lim...  Score   \n",
       "747  The Queen's Gambit (Music from the Netflix Lim...  Score   \n",
       "737  The Queen's Gambit (Music from the Netflix Lim...  Score   \n",
       "735  The Queen's Gambit (Music from the Netflix Lim...  Score   \n",
       "\n",
       "                                              Location             Kind  \\\n",
       "756  file:///Users/AlwynLopez/Music/iTunes/iTunes%2...  MPEG audio file   \n",
       "747  file:///Users/AlwynLopez/Music/iTunes/iTunes%2...  MPEG audio file   \n",
       "737  file:///Users/AlwynLopez/Music/iTunes/iTunes%2...  MPEG audio file   \n",
       "735  file:///Users/AlwynLopez/Music/iTunes/iTunes%2...  MPEG audio file   \n",
       "\n",
       "        Size  Total Time  \n",
       "756  6045056      137482  \n",
       "747  3463127       72933  \n",
       "737  3205027       66481  \n",
       "735  5464112      122958  "
      ]
     },
     "execution_count": 12,
     "metadata": {},
     "output_type": "execute_result"
    }
   ],
   "source": [
    "tracks = filter_tracks_by_genre('Score')\n",
    "tracks.sample(4)"
   ]
  },
  {
   "cell_type": "code",
   "execution_count": 13,
   "metadata": {},
   "outputs": [
    {
     "name": "stdout",
     "output_type": "stream",
     "text": [
      "List Of Albums Labeled As Score Along With Associated Artists: \n",
      "** The Queen's Gambit (Music from the Netflix Limited Series)\n",
      "   1 - Carlos Rafael Rivera\n"
     ]
    }
   ],
   "source": [
    "display_album_artist_by_genre(\"Score\")"
   ]
  },
  {
   "cell_type": "code",
   "execution_count": 14,
   "metadata": {},
   "outputs": [],
   "source": [
    "relabel_album_genre(\"The Queen's Gambit (Music from the Netflix Limited Series)\", \"Soundtrack\")"
   ]
  },
  {
   "cell_type": "markdown",
   "metadata": {},
   "source": [
    "## Alternative"
   ]
  },
  {
   "cell_type": "code",
   "execution_count": 15,
   "metadata": {},
   "outputs": [
    {
     "data": {
      "text/html": [
       "<div>\n",
       "<style scoped>\n",
       "    .dataframe tbody tr th:only-of-type {\n",
       "        vertical-align: middle;\n",
       "    }\n",
       "\n",
       "    .dataframe tbody tr th {\n",
       "        vertical-align: top;\n",
       "    }\n",
       "\n",
       "    .dataframe thead th {\n",
       "        text-align: right;\n",
       "    }\n",
       "</style>\n",
       "<table border=\"1\" class=\"dataframe\">\n",
       "  <thead>\n",
       "    <tr style=\"text-align: right;\">\n",
       "      <th></th>\n",
       "      <th>Track ID</th>\n",
       "      <th>Name</th>\n",
       "      <th>Artist</th>\n",
       "      <th>Album</th>\n",
       "      <th>Genre</th>\n",
       "      <th>Location</th>\n",
       "      <th>Kind</th>\n",
       "      <th>Size</th>\n",
       "      <th>Total Time</th>\n",
       "    </tr>\n",
       "  </thead>\n",
       "  <tbody>\n",
       "    <tr>\n",
       "      <th>647</th>\n",
       "      <td>1508</td>\n",
       "      <td>my strange addiction</td>\n",
       "      <td>Billie Eilish</td>\n",
       "      <td>WHEN WE ALL FALL ASLEEP, WHERE DO WE GO?</td>\n",
       "      <td>Alternative</td>\n",
       "      <td>file:///Users/AlwynLopez/Music/iTunes/iTunes%2...</td>\n",
       "      <td>MPEG audio file</td>\n",
       "      <td>7314552</td>\n",
       "      <td>179957</td>\n",
       "    </tr>\n",
       "    <tr>\n",
       "      <th>642</th>\n",
       "      <td>1498</td>\n",
       "      <td>!!!!!!!</td>\n",
       "      <td>Billie Eilish</td>\n",
       "      <td>WHEN WE ALL FALL ASLEEP, WHERE DO WE GO?</td>\n",
       "      <td>Alternative</td>\n",
       "      <td>file:///Users/AlwynLopez/Music/iTunes/iTunes%2...</td>\n",
       "      <td>MPEG audio file</td>\n",
       "      <td>661660</td>\n",
       "      <td>13635</td>\n",
       "    </tr>\n",
       "    <tr>\n",
       "      <th>602</th>\n",
       "      <td>1418</td>\n",
       "      <td>King of the Clouds</td>\n",
       "      <td>Panic! At the Disco</td>\n",
       "      <td>Pray For The Wicked</td>\n",
       "      <td>Alternative</td>\n",
       "      <td>file:///Users/AlwynLopez/Music/iTunes/iTunes%2...</td>\n",
       "      <td>Purchased AAC audio file</td>\n",
       "      <td>5949173</td>\n",
       "      <td>160746</td>\n",
       "    </tr>\n",
       "    <tr>\n",
       "      <th>595</th>\n",
       "      <td>1404</td>\n",
       "      <td>Dancing's Not a Crime</td>\n",
       "      <td>Panic! At the Disco</td>\n",
       "      <td>Pray For The Wicked</td>\n",
       "      <td>Alternative</td>\n",
       "      <td>file:///Users/AlwynLopez/Music/iTunes/iTunes%2...</td>\n",
       "      <td>Purchased AAC audio file</td>\n",
       "      <td>7815239</td>\n",
       "      <td>219466</td>\n",
       "    </tr>\n",
       "  </tbody>\n",
       "</table>\n",
       "</div>"
      ],
      "text/plain": [
       "     Track ID                   Name               Artist  \\\n",
       "647      1508   my strange addiction        Billie Eilish   \n",
       "642      1498                !!!!!!!        Billie Eilish   \n",
       "602      1418     King of the Clouds  Panic! At the Disco   \n",
       "595      1404  Dancing's Not a Crime  Panic! At the Disco   \n",
       "\n",
       "                                        Album        Genre  \\\n",
       "647  WHEN WE ALL FALL ASLEEP, WHERE DO WE GO?  Alternative   \n",
       "642  WHEN WE ALL FALL ASLEEP, WHERE DO WE GO?  Alternative   \n",
       "602                       Pray For The Wicked  Alternative   \n",
       "595                       Pray For The Wicked  Alternative   \n",
       "\n",
       "                                              Location  \\\n",
       "647  file:///Users/AlwynLopez/Music/iTunes/iTunes%2...   \n",
       "642  file:///Users/AlwynLopez/Music/iTunes/iTunes%2...   \n",
       "602  file:///Users/AlwynLopez/Music/iTunes/iTunes%2...   \n",
       "595  file:///Users/AlwynLopez/Music/iTunes/iTunes%2...   \n",
       "\n",
       "                         Kind     Size  Total Time  \n",
       "647           MPEG audio file  7314552      179957  \n",
       "642           MPEG audio file   661660       13635  \n",
       "602  Purchased AAC audio file  5949173      160746  \n",
       "595  Purchased AAC audio file  7815239      219466  "
      ]
     },
     "execution_count": 15,
     "metadata": {},
     "output_type": "execute_result"
    }
   ],
   "source": [
    "tracks = filter_tracks_by_genre('Alternative')\n",
    "tracks.sample(4)"
   ]
  },
  {
   "cell_type": "code",
   "execution_count": 16,
   "metadata": {},
   "outputs": [
    {
     "name": "stdout",
     "output_type": "stream",
     "text": [
      "List Of Albums Labeled As Alternative Along With Associated Artists: \n",
      "** Pray For the Wicked\n",
      "   1 - Panic! At the Disco\n",
      "** Pray For The Wicked\n",
      "   1 - Panic! At the Disco\n",
      "** WHEN WE ALL FALL ASLEEP, WHERE DO WE GO?\n",
      "   1 - Billie Eilish\n",
      "** Riot! (Deluxe Version)\n",
      "   1 - Paramore\n"
     ]
    }
   ],
   "source": [
    "display_album_artist_by_genre(\"Alternative\")"
   ]
  },
  {
   "cell_type": "code",
   "execution_count": 17,
   "metadata": {},
   "outputs": [],
   "source": [
    "relabel_album_genre(\"Pray For the Wicked\", \"Rock\")\n",
    "relabel_album_genre(\"Pray For The Wicked\", \"Rock\")\n",
    "relabel_album_genre(\"WHEN WE ALL FALL ASLEEP, WHERE DO WE GO?\", \"Pop\")\n",
    "relabel_album_genre(\"Riot! (Deluxe Version)\", \"Rock\")"
   ]
  },
  {
   "cell_type": "markdown",
   "metadata": {},
   "source": [
    "## Hip-Hop / Rap"
   ]
  },
  {
   "cell_type": "code",
   "execution_count": 18,
   "metadata": {},
   "outputs": [
    {
     "data": {
      "text/html": [
       "<div>\n",
       "<style scoped>\n",
       "    .dataframe tbody tr th:only-of-type {\n",
       "        vertical-align: middle;\n",
       "    }\n",
       "\n",
       "    .dataframe tbody tr th {\n",
       "        vertical-align: top;\n",
       "    }\n",
       "\n",
       "    .dataframe thead th {\n",
       "        text-align: right;\n",
       "    }\n",
       "</style>\n",
       "<table border=\"1\" class=\"dataframe\">\n",
       "  <thead>\n",
       "    <tr style=\"text-align: right;\">\n",
       "      <th></th>\n",
       "      <th>Track ID</th>\n",
       "      <th>Name</th>\n",
       "      <th>Artist</th>\n",
       "      <th>Album</th>\n",
       "      <th>Genre</th>\n",
       "      <th>Location</th>\n",
       "      <th>Kind</th>\n",
       "      <th>Size</th>\n",
       "      <th>Total Time</th>\n",
       "    </tr>\n",
       "  </thead>\n",
       "  <tbody>\n",
       "    <tr>\n",
       "      <th>274</th>\n",
       "      <td>760</td>\n",
       "      <td>Guilty Conscience</td>\n",
       "      <td>Eminem &amp; Dr. Dre</td>\n",
       "      <td>Curtain Call - The Hits (Deluxe Version)</td>\n",
       "      <td>Hip-Hop/Rap</td>\n",
       "      <td>file:///Users/AlwynLopez/Music/iTunes/iTunes%2...</td>\n",
       "      <td>Purchased AAC audio file</td>\n",
       "      <td>7112591</td>\n",
       "      <td>200213</td>\n",
       "    </tr>\n",
       "    <tr>\n",
       "      <th>282</th>\n",
       "      <td>776</td>\n",
       "      <td>Shit On You</td>\n",
       "      <td>Eminem &amp; D12</td>\n",
       "      <td>Curtain Call - The Hits (Deluxe Version)</td>\n",
       "      <td>Hip-Hop/Rap</td>\n",
       "      <td>file:///Users/AlwynLopez/Music/iTunes/iTunes%2...</td>\n",
       "      <td>Purchased AAC audio file</td>\n",
       "      <td>11345194</td>\n",
       "      <td>328213</td>\n",
       "    </tr>\n",
       "    <tr>\n",
       "      <th>269</th>\n",
       "      <td>750</td>\n",
       "      <td>Sing for the Moment</td>\n",
       "      <td>Eminem</td>\n",
       "      <td>Curtain Call - The Hits (Deluxe Version)</td>\n",
       "      <td>Hip-Hop/Rap</td>\n",
       "      <td>file:///Users/AlwynLopez/Music/iTunes/iTunes%2...</td>\n",
       "      <td>Purchased AAC audio file</td>\n",
       "      <td>11814256</td>\n",
       "      <td>340266</td>\n",
       "    </tr>\n",
       "    <tr>\n",
       "      <th>283</th>\n",
       "      <td>778</td>\n",
       "      <td>Criminal</td>\n",
       "      <td>Eminem</td>\n",
       "      <td>Curtain Call - The Hits (Deluxe Version)</td>\n",
       "      <td>Hip-Hop/Rap</td>\n",
       "      <td>file:///Users/AlwynLopez/Music/iTunes/iTunes%2...</td>\n",
       "      <td>Purchased AAC audio file</td>\n",
       "      <td>10923387</td>\n",
       "      <td>313680</td>\n",
       "    </tr>\n",
       "  </tbody>\n",
       "</table>\n",
       "</div>"
      ],
      "text/plain": [
       "     Track ID                 Name            Artist  \\\n",
       "274       760    Guilty Conscience  Eminem & Dr. Dre   \n",
       "282       776          Shit On You      Eminem & D12   \n",
       "269       750  Sing for the Moment            Eminem   \n",
       "283       778             Criminal            Eminem   \n",
       "\n",
       "                                        Album        Genre  \\\n",
       "274  Curtain Call - The Hits (Deluxe Version)  Hip-Hop/Rap   \n",
       "282  Curtain Call - The Hits (Deluxe Version)  Hip-Hop/Rap   \n",
       "269  Curtain Call - The Hits (Deluxe Version)  Hip-Hop/Rap   \n",
       "283  Curtain Call - The Hits (Deluxe Version)  Hip-Hop/Rap   \n",
       "\n",
       "                                              Location  \\\n",
       "274  file:///Users/AlwynLopez/Music/iTunes/iTunes%2...   \n",
       "282  file:///Users/AlwynLopez/Music/iTunes/iTunes%2...   \n",
       "269  file:///Users/AlwynLopez/Music/iTunes/iTunes%2...   \n",
       "283  file:///Users/AlwynLopez/Music/iTunes/iTunes%2...   \n",
       "\n",
       "                         Kind      Size  Total Time  \n",
       "274  Purchased AAC audio file   7112591      200213  \n",
       "282  Purchased AAC audio file  11345194      328213  \n",
       "269  Purchased AAC audio file  11814256      340266  \n",
       "283  Purchased AAC audio file  10923387      313680  "
      ]
     },
     "execution_count": 18,
     "metadata": {},
     "output_type": "execute_result"
    }
   ],
   "source": [
    "tracks = filter_tracks_by_genre('Hip-Hop/Rap')\n",
    "tracks.sample(4)"
   ]
  },
  {
   "cell_type": "code",
   "execution_count": 19,
   "metadata": {},
   "outputs": [
    {
     "name": "stdout",
     "output_type": "stream",
     "text": [
      "List Of Albums Labeled As Hip-Hop/Rap Along With Associated Artists: \n",
      "** Curtain Call - The Hits (Deluxe Version)\n",
      "   1 - Eminem\n",
      "   2 - Eminem & Dido\n",
      "   3 - Eminem & Dr. Dre\n",
      "   4 - Eminem & Elton John\n",
      "   5 - Eminem & The Notorious B.I.G.\n",
      "   6 - Eminem & D12\n",
      "   7 - Eminem & JAY Z\n"
     ]
    }
   ],
   "source": [
    "display_album_artist_by_genre(\"Hip-Hop/Rap\")"
   ]
  },
  {
   "cell_type": "code",
   "execution_count": 20,
   "metadata": {},
   "outputs": [],
   "source": [
    "relabel_album_genre(\"Curtain Call - The Hits (Deluxe Version)\", \"Hip-Hop\")"
   ]
  },
  {
   "cell_type": "markdown",
   "metadata": {},
   "source": [
    "## Vocal Jazz"
   ]
  },
  {
   "cell_type": "code",
   "execution_count": 21,
   "metadata": {},
   "outputs": [
    {
     "data": {
      "text/html": [
       "<div>\n",
       "<style scoped>\n",
       "    .dataframe tbody tr th:only-of-type {\n",
       "        vertical-align: middle;\n",
       "    }\n",
       "\n",
       "    .dataframe tbody tr th {\n",
       "        vertical-align: top;\n",
       "    }\n",
       "\n",
       "    .dataframe thead th {\n",
       "        text-align: right;\n",
       "    }\n",
       "</style>\n",
       "<table border=\"1\" class=\"dataframe\">\n",
       "  <thead>\n",
       "    <tr style=\"text-align: right;\">\n",
       "      <th></th>\n",
       "      <th>Track ID</th>\n",
       "      <th>Name</th>\n",
       "      <th>Artist</th>\n",
       "      <th>Album</th>\n",
       "      <th>Genre</th>\n",
       "      <th>Location</th>\n",
       "      <th>Kind</th>\n",
       "      <th>Size</th>\n",
       "      <th>Total Time</th>\n",
       "    </tr>\n",
       "  </thead>\n",
       "  <tbody>\n",
       "    <tr>\n",
       "      <th>287</th>\n",
       "      <td>786</td>\n",
       "      <td>The Best Is Yet to Come (With Count Basie and ...</td>\n",
       "      <td>Frank Sinatra</td>\n",
       "      <td>Nothing But the Best - The Frank Sinatra Colle...</td>\n",
       "      <td>Vocal Jazz</td>\n",
       "      <td>file:///Users/AlwynLopez/Music/iTunes/iTunes%2...</td>\n",
       "      <td>Purchased AAC audio file</td>\n",
       "      <td>7083730</td>\n",
       "      <td>175813</td>\n",
       "    </tr>\n",
       "    <tr>\n",
       "      <th>297</th>\n",
       "      <td>806</td>\n",
       "      <td>Somethin' Stupid (With Nancy Sinatra)</td>\n",
       "      <td>Frank Sinatra</td>\n",
       "      <td>Nothing But the Best - The Frank Sinatra Colle...</td>\n",
       "      <td>Vocal Jazz</td>\n",
       "      <td>file:///Users/AlwynLopez/Music/iTunes/iTunes%2...</td>\n",
       "      <td>Purchased AAC audio file</td>\n",
       "      <td>6887541</td>\n",
       "      <td>160453</td>\n",
       "    </tr>\n",
       "    <tr>\n",
       "      <th>305</th>\n",
       "      <td>822</td>\n",
       "      <td>My Way</td>\n",
       "      <td>Frank Sinatra</td>\n",
       "      <td>Nothing But the Best - The Frank Sinatra Colle...</td>\n",
       "      <td>Vocal Jazz</td>\n",
       "      <td>file:///Users/AlwynLopez/Music/iTunes/iTunes%2...</td>\n",
       "      <td>Purchased AAC audio file</td>\n",
       "      <td>11583625</td>\n",
       "      <td>276253</td>\n",
       "    </tr>\n",
       "    <tr>\n",
       "      <th>301</th>\n",
       "      <td>814</td>\n",
       "      <td>Moonlight Serenade</td>\n",
       "      <td>Frank Sinatra</td>\n",
       "      <td>Nothing But the Best - The Frank Sinatra Colle...</td>\n",
       "      <td>Vocal Jazz</td>\n",
       "      <td>file:///Users/AlwynLopez/Music/iTunes/iTunes%2...</td>\n",
       "      <td>Purchased AAC audio file</td>\n",
       "      <td>8375999</td>\n",
       "      <td>208160</td>\n",
       "    </tr>\n",
       "  </tbody>\n",
       "</table>\n",
       "</div>"
      ],
      "text/plain": [
       "     Track ID                                               Name  \\\n",
       "287       786  The Best Is Yet to Come (With Count Basie and ...   \n",
       "297       806              Somethin' Stupid (With Nancy Sinatra)   \n",
       "305       822                                             My Way   \n",
       "301       814                                 Moonlight Serenade   \n",
       "\n",
       "            Artist                                              Album  \\\n",
       "287  Frank Sinatra  Nothing But the Best - The Frank Sinatra Colle...   \n",
       "297  Frank Sinatra  Nothing But the Best - The Frank Sinatra Colle...   \n",
       "305  Frank Sinatra  Nothing But the Best - The Frank Sinatra Colle...   \n",
       "301  Frank Sinatra  Nothing But the Best - The Frank Sinatra Colle...   \n",
       "\n",
       "          Genre                                           Location  \\\n",
       "287  Vocal Jazz  file:///Users/AlwynLopez/Music/iTunes/iTunes%2...   \n",
       "297  Vocal Jazz  file:///Users/AlwynLopez/Music/iTunes/iTunes%2...   \n",
       "305  Vocal Jazz  file:///Users/AlwynLopez/Music/iTunes/iTunes%2...   \n",
       "301  Vocal Jazz  file:///Users/AlwynLopez/Music/iTunes/iTunes%2...   \n",
       "\n",
       "                         Kind      Size  Total Time  \n",
       "287  Purchased AAC audio file   7083730      175813  \n",
       "297  Purchased AAC audio file   6887541      160453  \n",
       "305  Purchased AAC audio file  11583625      276253  \n",
       "301  Purchased AAC audio file   8375999      208160  "
      ]
     },
     "execution_count": 21,
     "metadata": {},
     "output_type": "execute_result"
    }
   ],
   "source": [
    "tracks = filter_tracks_by_genre(\"Vocal Jazz\")\n",
    "tracks.sample(4)"
   ]
  },
  {
   "cell_type": "code",
   "execution_count": 22,
   "metadata": {},
   "outputs": [
    {
     "name": "stdout",
     "output_type": "stream",
     "text": [
      "List Of Albums Labeled As Vocal Jazz Along With Associated Artists: \n",
      "** Nothing But the Best - The Frank Sinatra Collection (Remastered)\n",
      "   1 - Frank Sinatra\n"
     ]
    }
   ],
   "source": [
    "display_album_artist_by_genre(\"Vocal Jazz\")"
   ]
  },
  {
   "cell_type": "code",
   "execution_count": 23,
   "metadata": {},
   "outputs": [],
   "source": [
    "relabel_album_genre(\"Nothing But the Best - The Frank Sinatra Collection (Remastered)\", \"Jazz\")"
   ]
  },
  {
   "cell_type": "markdown",
   "metadata": {},
   "source": [
    "## Religious/Pop/Rock"
   ]
  },
  {
   "cell_type": "code",
   "execution_count": 24,
   "metadata": {},
   "outputs": [
    {
     "data": {
      "text/html": [
       "<div>\n",
       "<style scoped>\n",
       "    .dataframe tbody tr th:only-of-type {\n",
       "        vertical-align: middle;\n",
       "    }\n",
       "\n",
       "    .dataframe tbody tr th {\n",
       "        vertical-align: top;\n",
       "    }\n",
       "\n",
       "    .dataframe thead th {\n",
       "        text-align: right;\n",
       "    }\n",
       "</style>\n",
       "<table border=\"1\" class=\"dataframe\">\n",
       "  <thead>\n",
       "    <tr style=\"text-align: right;\">\n",
       "      <th></th>\n",
       "      <th>Track ID</th>\n",
       "      <th>Name</th>\n",
       "      <th>Artist</th>\n",
       "      <th>Album</th>\n",
       "      <th>Genre</th>\n",
       "      <th>Location</th>\n",
       "      <th>Kind</th>\n",
       "      <th>Size</th>\n",
       "      <th>Total Time</th>\n",
       "    </tr>\n",
       "  </thead>\n",
       "  <tbody>\n",
       "    <tr>\n",
       "      <th>500</th>\n",
       "      <td>1212</td>\n",
       "      <td>I Could Be the One</td>\n",
       "      <td>Stacie Orrico</td>\n",
       "      <td>Stacie Orrico</td>\n",
       "      <td>Religious/Pop/Rock</td>\n",
       "      <td>file:///Users/AlwynLopez/Music/iTunes/iTunes%2...</td>\n",
       "      <td>MPEG audio file</td>\n",
       "      <td>8757214</td>\n",
       "      <td>218122</td>\n",
       "    </tr>\n",
       "    <tr>\n",
       "      <th>502</th>\n",
       "      <td>1216</td>\n",
       "      <td>Tight</td>\n",
       "      <td>Stacie Orrico</td>\n",
       "      <td>Stacie Orrico</td>\n",
       "      <td>Religious/Pop/Rock</td>\n",
       "      <td>file:///Users/AlwynLopez/Music/iTunes/iTunes%2...</td>\n",
       "      <td>MPEG audio file</td>\n",
       "      <td>6019290</td>\n",
       "      <td>149681</td>\n",
       "    </tr>\n",
       "    <tr>\n",
       "      <th>496</th>\n",
       "      <td>1204</td>\n",
       "      <td>Security</td>\n",
       "      <td>Stacie Orrico</td>\n",
       "      <td>Stacie Orrico</td>\n",
       "      <td>Religious/Pop/Rock</td>\n",
       "      <td>file:///Users/AlwynLopez/Music/iTunes/iTunes%2...</td>\n",
       "      <td>MPEG audio file</td>\n",
       "      <td>7930599</td>\n",
       "      <td>197459</td>\n",
       "    </tr>\n",
       "    <tr>\n",
       "      <th>495</th>\n",
       "      <td>1202</td>\n",
       "      <td>I Promise</td>\n",
       "      <td>Stacie Orrico</td>\n",
       "      <td>Stacie Orrico</td>\n",
       "      <td>Religious/Pop/Rock</td>\n",
       "      <td>file:///Users/AlwynLopez/Music/iTunes/iTunes%2...</td>\n",
       "      <td>MPEG audio file</td>\n",
       "      <td>10323651</td>\n",
       "      <td>257306</td>\n",
       "    </tr>\n",
       "  </tbody>\n",
       "</table>\n",
       "</div>"
      ],
      "text/plain": [
       "     Track ID                Name         Artist          Album  \\\n",
       "500      1212  I Could Be the One  Stacie Orrico  Stacie Orrico   \n",
       "502      1216               Tight  Stacie Orrico  Stacie Orrico   \n",
       "496      1204            Security  Stacie Orrico  Stacie Orrico   \n",
       "495      1202           I Promise  Stacie Orrico  Stacie Orrico   \n",
       "\n",
       "                  Genre                                           Location  \\\n",
       "500  Religious/Pop/Rock  file:///Users/AlwynLopez/Music/iTunes/iTunes%2...   \n",
       "502  Religious/Pop/Rock  file:///Users/AlwynLopez/Music/iTunes/iTunes%2...   \n",
       "496  Religious/Pop/Rock  file:///Users/AlwynLopez/Music/iTunes/iTunes%2...   \n",
       "495  Religious/Pop/Rock  file:///Users/AlwynLopez/Music/iTunes/iTunes%2...   \n",
       "\n",
       "                Kind      Size  Total Time  \n",
       "500  MPEG audio file   8757214      218122  \n",
       "502  MPEG audio file   6019290      149681  \n",
       "496  MPEG audio file   7930599      197459  \n",
       "495  MPEG audio file  10323651      257306  "
      ]
     },
     "execution_count": 24,
     "metadata": {},
     "output_type": "execute_result"
    }
   ],
   "source": [
    "tracks = filter_tracks_by_genre('Religious/Pop/Rock')\n",
    "tracks.sample(4)"
   ]
  },
  {
   "cell_type": "code",
   "execution_count": 25,
   "metadata": {},
   "outputs": [
    {
     "name": "stdout",
     "output_type": "stream",
     "text": [
      "List Of Albums Labeled As Religious/Pop/Rock Along With Associated Artists: \n",
      "** Stacie Orrico\n",
      "   1 - Stacie Orrico\n"
     ]
    }
   ],
   "source": [
    "display_album_artist_by_genre(\"Religious/Pop/Rock\")"
   ]
  },
  {
   "cell_type": "code",
   "execution_count": 26,
   "metadata": {},
   "outputs": [],
   "source": [
    "relabel_album_genre(\"Stacie Orrico\", \"Pop\")"
   ]
  },
  {
   "cell_type": "markdown",
   "metadata": {},
   "source": [
    "## Alternative Metal / Nu-Metal / Gothic Rock"
   ]
  },
  {
   "cell_type": "code",
   "execution_count": 27,
   "metadata": {},
   "outputs": [
    {
     "data": {
      "text/html": [
       "<div>\n",
       "<style scoped>\n",
       "    .dataframe tbody tr th:only-of-type {\n",
       "        vertical-align: middle;\n",
       "    }\n",
       "\n",
       "    .dataframe tbody tr th {\n",
       "        vertical-align: top;\n",
       "    }\n",
       "\n",
       "    .dataframe thead th {\n",
       "        text-align: right;\n",
       "    }\n",
       "</style>\n",
       "<table border=\"1\" class=\"dataframe\">\n",
       "  <thead>\n",
       "    <tr style=\"text-align: right;\">\n",
       "      <th></th>\n",
       "      <th>Track ID</th>\n",
       "      <th>Name</th>\n",
       "      <th>Artist</th>\n",
       "      <th>Album</th>\n",
       "      <th>Genre</th>\n",
       "      <th>Location</th>\n",
       "      <th>Kind</th>\n",
       "      <th>Size</th>\n",
       "      <th>Total Time</th>\n",
       "    </tr>\n",
       "  </thead>\n",
       "  <tbody>\n",
       "    <tr>\n",
       "      <th>840</th>\n",
       "      <td>1894</td>\n",
       "      <td>Tourniquet</td>\n",
       "      <td>Evanescence</td>\n",
       "      <td>Fallen</td>\n",
       "      <td>Alternative Metal / Nu-Metal / Gothic Rock</td>\n",
       "      <td>file:///Users/AlwynLopez/Music/iTunes/iTunes%2...</td>\n",
       "      <td>MPEG audio file</td>\n",
       "      <td>11318727</td>\n",
       "      <td>278125</td>\n",
       "    </tr>\n",
       "    <tr>\n",
       "      <th>842</th>\n",
       "      <td>1898</td>\n",
       "      <td>Imaginary</td>\n",
       "      <td>Evanescence</td>\n",
       "      <td>Fallen</td>\n",
       "      <td>Alternative Metal / Nu-Metal / Gothic Rock</td>\n",
       "      <td>file:///Users/AlwynLopez/Music/iTunes/iTunes%2...</td>\n",
       "      <td>MPEG audio file</td>\n",
       "      <td>10497436</td>\n",
       "      <td>257593</td>\n",
       "    </tr>\n",
       "    <tr>\n",
       "      <th>848</th>\n",
       "      <td>1910</td>\n",
       "      <td>My Last Breath</td>\n",
       "      <td>Evanescence</td>\n",
       "      <td>Fallen</td>\n",
       "      <td>Alternative Metal / Nu-Metal / Gothic Rock</td>\n",
       "      <td>file:///Users/AlwynLopez/Music/iTunes/iTunes%2...</td>\n",
       "      <td>MPEG audio file</td>\n",
       "      <td>10090977</td>\n",
       "      <td>247431</td>\n",
       "    </tr>\n",
       "    <tr>\n",
       "      <th>843</th>\n",
       "      <td>1900</td>\n",
       "      <td>Taking Over Me</td>\n",
       "      <td>Evanescence</td>\n",
       "      <td>Fallen</td>\n",
       "      <td>Alternative Metal / Nu-Metal / Gothic Rock</td>\n",
       "      <td>file:///Users/AlwynLopez/Music/iTunes/iTunes%2...</td>\n",
       "      <td>MPEG audio file</td>\n",
       "      <td>9349099</td>\n",
       "      <td>228884</td>\n",
       "    </tr>\n",
       "  </tbody>\n",
       "</table>\n",
       "</div>"
      ],
      "text/plain": [
       "     Track ID            Name       Artist   Album  \\\n",
       "840      1894      Tourniquet  Evanescence  Fallen   \n",
       "842      1898       Imaginary  Evanescence  Fallen   \n",
       "848      1910  My Last Breath  Evanescence  Fallen   \n",
       "843      1900  Taking Over Me  Evanescence  Fallen   \n",
       "\n",
       "                                          Genre  \\\n",
       "840  Alternative Metal / Nu-Metal / Gothic Rock   \n",
       "842  Alternative Metal / Nu-Metal / Gothic Rock   \n",
       "848  Alternative Metal / Nu-Metal / Gothic Rock   \n",
       "843  Alternative Metal / Nu-Metal / Gothic Rock   \n",
       "\n",
       "                                              Location             Kind  \\\n",
       "840  file:///Users/AlwynLopez/Music/iTunes/iTunes%2...  MPEG audio file   \n",
       "842  file:///Users/AlwynLopez/Music/iTunes/iTunes%2...  MPEG audio file   \n",
       "848  file:///Users/AlwynLopez/Music/iTunes/iTunes%2...  MPEG audio file   \n",
       "843  file:///Users/AlwynLopez/Music/iTunes/iTunes%2...  MPEG audio file   \n",
       "\n",
       "         Size  Total Time  \n",
       "840  11318727      278125  \n",
       "842  10497436      257593  \n",
       "848  10090977      247431  \n",
       "843   9349099      228884  "
      ]
     },
     "execution_count": 27,
     "metadata": {},
     "output_type": "execute_result"
    }
   ],
   "source": [
    "tracks = filter_tracks_by_genre(\"Alternative Metal / Nu-Metal / Gothic Rock\")\n",
    "tracks.sample(4)"
   ]
  },
  {
   "cell_type": "code",
   "execution_count": 28,
   "metadata": {},
   "outputs": [
    {
     "name": "stdout",
     "output_type": "stream",
     "text": [
      "List Of Albums Labeled As Alternative Metal / Nu-Metal / Gothic Rock Along With Associated Artists: \n",
      "** Fallen\n",
      "   1 - Evanescence\n"
     ]
    }
   ],
   "source": [
    "display_album_artist_by_genre(\"Alternative Metal / Nu-Metal / Gothic Rock\")"
   ]
  },
  {
   "cell_type": "code",
   "execution_count": 29,
   "metadata": {},
   "outputs": [],
   "source": [
    "relabel_album_genre(\"Fallen\", \"Rock\")"
   ]
  },
  {
   "cell_type": "markdown",
   "metadata": {},
   "source": [
    "## R & B / Soul"
   ]
  },
  {
   "cell_type": "code",
   "execution_count": 30,
   "metadata": {},
   "outputs": [
    {
     "data": {
      "text/html": [
       "<div>\n",
       "<style scoped>\n",
       "    .dataframe tbody tr th:only-of-type {\n",
       "        vertical-align: middle;\n",
       "    }\n",
       "\n",
       "    .dataframe tbody tr th {\n",
       "        vertical-align: top;\n",
       "    }\n",
       "\n",
       "    .dataframe thead th {\n",
       "        text-align: right;\n",
       "    }\n",
       "</style>\n",
       "<table border=\"1\" class=\"dataframe\">\n",
       "  <thead>\n",
       "    <tr style=\"text-align: right;\">\n",
       "      <th></th>\n",
       "      <th>Track ID</th>\n",
       "      <th>Name</th>\n",
       "      <th>Artist</th>\n",
       "      <th>Album</th>\n",
       "      <th>Genre</th>\n",
       "      <th>Location</th>\n",
       "      <th>Kind</th>\n",
       "      <th>Size</th>\n",
       "      <th>Total Time</th>\n",
       "    </tr>\n",
       "  </thead>\n",
       "  <tbody>\n",
       "    <tr>\n",
       "      <th>325</th>\n",
       "      <td>862</td>\n",
       "      <td>Ambalance</td>\n",
       "      <td>Jake Barker &amp; Blended Babies</td>\n",
       "      <td>Trip</td>\n",
       "      <td>R&amp;B/Soul</td>\n",
       "      <td>file:///Users/AlwynLopez/Music/iTunes/iTunes%2...</td>\n",
       "      <td>Purchased AAC audio file</td>\n",
       "      <td>9699708</td>\n",
       "      <td>276584</td>\n",
       "    </tr>\n",
       "    <tr>\n",
       "      <th>327</th>\n",
       "      <td>866</td>\n",
       "      <td>Teleport</td>\n",
       "      <td>Jake Barker &amp; Blended Babies</td>\n",
       "      <td>Trip</td>\n",
       "      <td>R&amp;B/Soul</td>\n",
       "      <td>file:///Users/AlwynLopez/Music/iTunes/iTunes%2...</td>\n",
       "      <td>Purchased AAC audio file</td>\n",
       "      <td>7348010</td>\n",
       "      <td>206184</td>\n",
       "    </tr>\n",
       "    <tr>\n",
       "      <th>330</th>\n",
       "      <td>872</td>\n",
       "      <td>Rotate</td>\n",
       "      <td>Jake Barker &amp; Blended Babies</td>\n",
       "      <td>Trip</td>\n",
       "      <td>R&amp;B/Soul</td>\n",
       "      <td>file:///Users/AlwynLopez/Music/iTunes/iTunes%2...</td>\n",
       "      <td>Purchased AAC audio file</td>\n",
       "      <td>6530737</td>\n",
       "      <td>180845</td>\n",
       "    </tr>\n",
       "    <tr>\n",
       "      <th>328</th>\n",
       "      <td>868</td>\n",
       "      <td>Crash</td>\n",
       "      <td>Jake Barker &amp; Blended Babies</td>\n",
       "      <td>Trip</td>\n",
       "      <td>R&amp;B/Soul</td>\n",
       "      <td>file:///Users/AlwynLopez/Music/iTunes/iTunes%2...</td>\n",
       "      <td>Purchased AAC audio file</td>\n",
       "      <td>7225063</td>\n",
       "      <td>199915</td>\n",
       "    </tr>\n",
       "  </tbody>\n",
       "</table>\n",
       "</div>"
      ],
      "text/plain": [
       "     Track ID       Name                        Artist Album     Genre  \\\n",
       "325       862  Ambalance  Jake Barker & Blended Babies  Trip  R&B/Soul   \n",
       "327       866   Teleport  Jake Barker & Blended Babies  Trip  R&B/Soul   \n",
       "330       872     Rotate  Jake Barker & Blended Babies  Trip  R&B/Soul   \n",
       "328       868      Crash  Jake Barker & Blended Babies  Trip  R&B/Soul   \n",
       "\n",
       "                                              Location  \\\n",
       "325  file:///Users/AlwynLopez/Music/iTunes/iTunes%2...   \n",
       "327  file:///Users/AlwynLopez/Music/iTunes/iTunes%2...   \n",
       "330  file:///Users/AlwynLopez/Music/iTunes/iTunes%2...   \n",
       "328  file:///Users/AlwynLopez/Music/iTunes/iTunes%2...   \n",
       "\n",
       "                         Kind     Size  Total Time  \n",
       "325  Purchased AAC audio file  9699708      276584  \n",
       "327  Purchased AAC audio file  7348010      206184  \n",
       "330  Purchased AAC audio file  6530737      180845  \n",
       "328  Purchased AAC audio file  7225063      199915  "
      ]
     },
     "execution_count": 30,
     "metadata": {},
     "output_type": "execute_result"
    }
   ],
   "source": [
    "tracks = filter_tracks_by_genre(\"R&B/Soul\")\n",
    "tracks.sample(4)"
   ]
  },
  {
   "cell_type": "code",
   "execution_count": 31,
   "metadata": {},
   "outputs": [
    {
     "name": "stdout",
     "output_type": "stream",
     "text": [
      "List Of Albums Labeled As R&B/Soul Along With Associated Artists: \n",
      "** Trip\n",
      "   1 - Jake Barker & Blended Babies\n"
     ]
    }
   ],
   "source": [
    "display_album_artist_by_genre(\"R&B/Soul\")"
   ]
  },
  {
   "cell_type": "code",
   "execution_count": 32,
   "metadata": {},
   "outputs": [],
   "source": [
    "relabel_album_genre(\"Trip\", \"Hip-Hop\")"
   ]
  },
  {
   "cell_type": "markdown",
   "metadata": {},
   "source": [
    "## R & B "
   ]
  },
  {
   "cell_type": "code",
   "execution_count": 33,
   "metadata": {},
   "outputs": [
    {
     "data": {
      "text/html": [
       "<div>\n",
       "<style scoped>\n",
       "    .dataframe tbody tr th:only-of-type {\n",
       "        vertical-align: middle;\n",
       "    }\n",
       "\n",
       "    .dataframe tbody tr th {\n",
       "        vertical-align: top;\n",
       "    }\n",
       "\n",
       "    .dataframe thead th {\n",
       "        text-align: right;\n",
       "    }\n",
       "</style>\n",
       "<table border=\"1\" class=\"dataframe\">\n",
       "  <thead>\n",
       "    <tr style=\"text-align: right;\">\n",
       "      <th></th>\n",
       "      <th>Track ID</th>\n",
       "      <th>Name</th>\n",
       "      <th>Artist</th>\n",
       "      <th>Album</th>\n",
       "      <th>Genre</th>\n",
       "      <th>Location</th>\n",
       "      <th>Kind</th>\n",
       "      <th>Size</th>\n",
       "      <th>Total Time</th>\n",
       "    </tr>\n",
       "  </thead>\n",
       "  <tbody>\n",
       "    <tr>\n",
       "      <th>219</th>\n",
       "      <td>650</td>\n",
       "      <td>24K Magic</td>\n",
       "      <td>Bruno Mars</td>\n",
       "      <td>24K Magic</td>\n",
       "      <td>R&amp;B</td>\n",
       "      <td>file:///Users/AlwynLopez/Music/iTunes/iTunes%2...</td>\n",
       "      <td>MPEG audio file</td>\n",
       "      <td>6994468</td>\n",
       "      <td>226951</td>\n",
       "    </tr>\n",
       "    <tr>\n",
       "      <th>220</th>\n",
       "      <td>652</td>\n",
       "      <td>Chunky</td>\n",
       "      <td>Bruno Mars</td>\n",
       "      <td>24K Magic</td>\n",
       "      <td>R&amp;B</td>\n",
       "      <td>file:///Users/AlwynLopez/Music/iTunes/iTunes%2...</td>\n",
       "      <td>MPEG audio file</td>\n",
       "      <td>6035265</td>\n",
       "      <td>187010</td>\n",
       "    </tr>\n",
       "    <tr>\n",
       "      <th>227</th>\n",
       "      <td>666</td>\n",
       "      <td>Too Good to Say Goodbye</td>\n",
       "      <td>Bruno Mars</td>\n",
       "      <td>24K Magic</td>\n",
       "      <td>R&amp;B</td>\n",
       "      <td>file:///Users/AlwynLopez/Music/iTunes/iTunes%2...</td>\n",
       "      <td>MPEG audio file</td>\n",
       "      <td>8630721</td>\n",
       "      <td>281861</td>\n",
       "    </tr>\n",
       "    <tr>\n",
       "      <th>223</th>\n",
       "      <td>658</td>\n",
       "      <td>Versace on the Floor</td>\n",
       "      <td>Bruno Mars</td>\n",
       "      <td>24K Magic</td>\n",
       "      <td>R&amp;B</td>\n",
       "      <td>file:///Users/AlwynLopez/Music/iTunes/iTunes%2...</td>\n",
       "      <td>MPEG audio file</td>\n",
       "      <td>7963481</td>\n",
       "      <td>261276</td>\n",
       "    </tr>\n",
       "  </tbody>\n",
       "</table>\n",
       "</div>"
      ],
      "text/plain": [
       "     Track ID                     Name      Artist      Album Genre  \\\n",
       "219       650                24K Magic  Bruno Mars  24K Magic   R&B   \n",
       "220       652                   Chunky  Bruno Mars  24K Magic   R&B   \n",
       "227       666  Too Good to Say Goodbye  Bruno Mars  24K Magic   R&B   \n",
       "223       658     Versace on the Floor  Bruno Mars  24K Magic   R&B   \n",
       "\n",
       "                                              Location             Kind  \\\n",
       "219  file:///Users/AlwynLopez/Music/iTunes/iTunes%2...  MPEG audio file   \n",
       "220  file:///Users/AlwynLopez/Music/iTunes/iTunes%2...  MPEG audio file   \n",
       "227  file:///Users/AlwynLopez/Music/iTunes/iTunes%2...  MPEG audio file   \n",
       "223  file:///Users/AlwynLopez/Music/iTunes/iTunes%2...  MPEG audio file   \n",
       "\n",
       "        Size  Total Time  \n",
       "219  6994468      226951  \n",
       "220  6035265      187010  \n",
       "227  8630721      281861  \n",
       "223  7963481      261276  "
      ]
     },
     "execution_count": 33,
     "metadata": {},
     "output_type": "execute_result"
    }
   ],
   "source": [
    "tracks = filter_tracks_by_genre(\"R&B\")\n",
    "tracks.sample(4)"
   ]
  },
  {
   "cell_type": "code",
   "execution_count": 34,
   "metadata": {},
   "outputs": [
    {
     "name": "stdout",
     "output_type": "stream",
     "text": [
      "List Of Albums Labeled As R&B Along With Associated Artists: \n",
      "** 24K Magic\n",
      "   1 - Bruno Mars\n"
     ]
    }
   ],
   "source": [
    "display_album_artist_by_genre(\"R&B\")"
   ]
  },
  {
   "cell_type": "code",
   "execution_count": 35,
   "metadata": {},
   "outputs": [],
   "source": [
    "relabel_album_genre(\"24K Magic\", \"Hip-Hop\")"
   ]
  },
  {
   "cell_type": "markdown",
   "metadata": {},
   "source": [
    "## Singer / Songwriter"
   ]
  },
  {
   "cell_type": "code",
   "execution_count": 36,
   "metadata": {},
   "outputs": [
    {
     "data": {
      "text/html": [
       "<div>\n",
       "<style scoped>\n",
       "    .dataframe tbody tr th:only-of-type {\n",
       "        vertical-align: middle;\n",
       "    }\n",
       "\n",
       "    .dataframe tbody tr th {\n",
       "        vertical-align: top;\n",
       "    }\n",
       "\n",
       "    .dataframe thead th {\n",
       "        text-align: right;\n",
       "    }\n",
       "</style>\n",
       "<table border=\"1\" class=\"dataframe\">\n",
       "  <thead>\n",
       "    <tr style=\"text-align: right;\">\n",
       "      <th></th>\n",
       "      <th>Track ID</th>\n",
       "      <th>Name</th>\n",
       "      <th>Artist</th>\n",
       "      <th>Album</th>\n",
       "      <th>Genre</th>\n",
       "      <th>Location</th>\n",
       "      <th>Kind</th>\n",
       "      <th>Size</th>\n",
       "      <th>Total Time</th>\n",
       "    </tr>\n",
       "  </thead>\n",
       "  <tbody>\n",
       "    <tr>\n",
       "      <th>565</th>\n",
       "      <td>1344</td>\n",
       "      <td>You</td>\n",
       "      <td>dodie</td>\n",
       "      <td>You - EP</td>\n",
       "      <td>Singer/Songwriter</td>\n",
       "      <td>file:///Users/AlwynLopez/Music/iTunes/iTunes%2...</td>\n",
       "      <td>Purchased AAC audio file</td>\n",
       "      <td>6128776</td>\n",
       "      <td>170975</td>\n",
       "    </tr>\n",
       "    <tr>\n",
       "      <th>564</th>\n",
       "      <td>1342</td>\n",
       "      <td>Would You Be So Kind</td>\n",
       "      <td>dodie</td>\n",
       "      <td>You - EP</td>\n",
       "      <td>Singer/Songwriter</td>\n",
       "      <td>file:///Users/AlwynLopez/Music/iTunes/iTunes%2...</td>\n",
       "      <td>Purchased AAC audio file</td>\n",
       "      <td>6528377</td>\n",
       "      <td>180952</td>\n",
       "    </tr>\n",
       "    <tr>\n",
       "      <th>566</th>\n",
       "      <td>1346</td>\n",
       "      <td>Secret For the Mad</td>\n",
       "      <td>dodie</td>\n",
       "      <td>You - EP</td>\n",
       "      <td>Singer/Songwriter</td>\n",
       "      <td>file:///Users/AlwynLopez/Music/iTunes/iTunes%2...</td>\n",
       "      <td>Purchased AAC audio file</td>\n",
       "      <td>6959323</td>\n",
       "      <td>197278</td>\n",
       "    </tr>\n",
       "    <tr>\n",
       "      <th>561</th>\n",
       "      <td>1336</td>\n",
       "      <td>6/10</td>\n",
       "      <td>dodie</td>\n",
       "      <td>You - EP</td>\n",
       "      <td>Singer/Songwriter</td>\n",
       "      <td>file:///Users/AlwynLopez/Music/iTunes/iTunes%2...</td>\n",
       "      <td>Purchased AAC audio file</td>\n",
       "      <td>6474218</td>\n",
       "      <td>185487</td>\n",
       "    </tr>\n",
       "  </tbody>\n",
       "</table>\n",
       "</div>"
      ],
      "text/plain": [
       "     Track ID                  Name Artist     Album              Genre  \\\n",
       "565      1344                   You  dodie  You - EP  Singer/Songwriter   \n",
       "564      1342  Would You Be So Kind  dodie  You - EP  Singer/Songwriter   \n",
       "566      1346    Secret For the Mad  dodie  You - EP  Singer/Songwriter   \n",
       "561      1336                  6/10  dodie  You - EP  Singer/Songwriter   \n",
       "\n",
       "                                              Location  \\\n",
       "565  file:///Users/AlwynLopez/Music/iTunes/iTunes%2...   \n",
       "564  file:///Users/AlwynLopez/Music/iTunes/iTunes%2...   \n",
       "566  file:///Users/AlwynLopez/Music/iTunes/iTunes%2...   \n",
       "561  file:///Users/AlwynLopez/Music/iTunes/iTunes%2...   \n",
       "\n",
       "                         Kind     Size  Total Time  \n",
       "565  Purchased AAC audio file  6128776      170975  \n",
       "564  Purchased AAC audio file  6528377      180952  \n",
       "566  Purchased AAC audio file  6959323      197278  \n",
       "561  Purchased AAC audio file  6474218      185487  "
      ]
     },
     "execution_count": 36,
     "metadata": {},
     "output_type": "execute_result"
    }
   ],
   "source": [
    "tracks = filter_tracks_by_genre(\"Singer/Songwriter\")\n",
    "tracks.sample(4)"
   ]
  },
  {
   "cell_type": "code",
   "execution_count": 37,
   "metadata": {},
   "outputs": [
    {
     "name": "stdout",
     "output_type": "stream",
     "text": [
      "List Of Albums Labeled As Singer/Songwriter Along With Associated Artists: \n",
      "** You - EP\n",
      "   1 - dodie\n"
     ]
    }
   ],
   "source": [
    "display_album_artist_by_genre(\"Singer/Songwriter\")"
   ]
  },
  {
   "cell_type": "code",
   "execution_count": 38,
   "metadata": {},
   "outputs": [],
   "source": [
    "relabel_album_genre(\"You - EP\", \"Pop\")"
   ]
  },
  {
   "cell_type": "markdown",
   "metadata": {},
   "source": [
    "## Alternative Folk"
   ]
  },
  {
   "cell_type": "code",
   "execution_count": 39,
   "metadata": {},
   "outputs": [
    {
     "data": {
      "text/html": [
       "<div>\n",
       "<style scoped>\n",
       "    .dataframe tbody tr th:only-of-type {\n",
       "        vertical-align: middle;\n",
       "    }\n",
       "\n",
       "    .dataframe tbody tr th {\n",
       "        vertical-align: top;\n",
       "    }\n",
       "\n",
       "    .dataframe thead th {\n",
       "        text-align: right;\n",
       "    }\n",
       "</style>\n",
       "<table border=\"1\" class=\"dataframe\">\n",
       "  <thead>\n",
       "    <tr style=\"text-align: right;\">\n",
       "      <th></th>\n",
       "      <th>Track ID</th>\n",
       "      <th>Name</th>\n",
       "      <th>Artist</th>\n",
       "      <th>Album</th>\n",
       "      <th>Genre</th>\n",
       "      <th>Location</th>\n",
       "      <th>Kind</th>\n",
       "      <th>Size</th>\n",
       "      <th>Total Time</th>\n",
       "    </tr>\n",
       "  </thead>\n",
       "  <tbody>\n",
       "    <tr>\n",
       "      <th>621</th>\n",
       "      <td>1456</td>\n",
       "      <td>Here Comes The Sun (feat. dodie)</td>\n",
       "      <td>Jacob Collier</td>\n",
       "      <td>Here Comes The Sun (feat. dodie) - Single</td>\n",
       "      <td>Alternative Folk</td>\n",
       "      <td>file:///Users/AlwynLopez/Music/iTunes/iTunes%2...</td>\n",
       "      <td>Purchased AAC audio file</td>\n",
       "      <td>9766618</td>\n",
       "      <td>238360</td>\n",
       "    </tr>\n",
       "  </tbody>\n",
       "</table>\n",
       "</div>"
      ],
      "text/plain": [
       "     Track ID                              Name         Artist  \\\n",
       "621      1456  Here Comes The Sun (feat. dodie)  Jacob Collier   \n",
       "\n",
       "                                         Album             Genre  \\\n",
       "621  Here Comes The Sun (feat. dodie) - Single  Alternative Folk   \n",
       "\n",
       "                                              Location  \\\n",
       "621  file:///Users/AlwynLopez/Music/iTunes/iTunes%2...   \n",
       "\n",
       "                         Kind     Size  Total Time  \n",
       "621  Purchased AAC audio file  9766618      238360  "
      ]
     },
     "metadata": {},
     "output_type": "display_data"
    }
   ],
   "source": [
    "tracks = filter_tracks_by_genre(\"Alternative Folk\")\n",
    "display(tracks)"
   ]
  },
  {
   "cell_type": "code",
   "execution_count": 40,
   "metadata": {},
   "outputs": [
    {
     "name": "stdout",
     "output_type": "stream",
     "text": [
      "List Of Albums Labeled As Alternative Folk Along With Associated Artists: \n",
      "** Here Comes The Sun (feat. dodie) - Single\n",
      "   1 - Jacob Collier\n"
     ]
    }
   ],
   "source": [
    "display_album_artist_by_genre(\"Alternative Folk\")"
   ]
  },
  {
   "cell_type": "code",
   "execution_count": 41,
   "metadata": {},
   "outputs": [],
   "source": [
    "relabel_album_genre(\"Here Comes The Sun (feat. dodie) - Single\", \"Jazz\")"
   ]
  },
  {
   "cell_type": "markdown",
   "metadata": {},
   "source": [
    "## Pop Latino"
   ]
  },
  {
   "cell_type": "code",
   "execution_count": 42,
   "metadata": {},
   "outputs": [
    {
     "data": {
      "text/html": [
       "<div>\n",
       "<style scoped>\n",
       "    .dataframe tbody tr th:only-of-type {\n",
       "        vertical-align: middle;\n",
       "    }\n",
       "\n",
       "    .dataframe tbody tr th {\n",
       "        vertical-align: top;\n",
       "    }\n",
       "\n",
       "    .dataframe thead th {\n",
       "        text-align: right;\n",
       "    }\n",
       "</style>\n",
       "<table border=\"1\" class=\"dataframe\">\n",
       "  <thead>\n",
       "    <tr style=\"text-align: right;\">\n",
       "      <th></th>\n",
       "      <th>Track ID</th>\n",
       "      <th>Name</th>\n",
       "      <th>Artist</th>\n",
       "      <th>Album</th>\n",
       "      <th>Genre</th>\n",
       "      <th>Location</th>\n",
       "      <th>Kind</th>\n",
       "      <th>Size</th>\n",
       "      <th>Total Time</th>\n",
       "    </tr>\n",
       "  </thead>\n",
       "  <tbody>\n",
       "    <tr>\n",
       "      <th>392</th>\n",
       "      <td>996</td>\n",
       "      <td>Despacito (feat. Daddy Yankee)</td>\n",
       "      <td>Luis Fonsi</td>\n",
       "      <td>Despacito (feat. Daddy Yankee) - Single</td>\n",
       "      <td>Pop Latino</td>\n",
       "      <td>file:///Users/AlwynLopez/Music/iTunes/iTunes%2...</td>\n",
       "      <td>Purchased AAC audio file</td>\n",
       "      <td>8604342</td>\n",
       "      <td>227791</td>\n",
       "    </tr>\n",
       "  </tbody>\n",
       "</table>\n",
       "</div>"
      ],
      "text/plain": [
       "     Track ID                            Name      Artist  \\\n",
       "392       996  Despacito (feat. Daddy Yankee)  Luis Fonsi   \n",
       "\n",
       "                                       Album       Genre  \\\n",
       "392  Despacito (feat. Daddy Yankee) - Single  Pop Latino   \n",
       "\n",
       "                                              Location  \\\n",
       "392  file:///Users/AlwynLopez/Music/iTunes/iTunes%2...   \n",
       "\n",
       "                         Kind     Size  Total Time  \n",
       "392  Purchased AAC audio file  8604342      227791  "
      ]
     },
     "metadata": {},
     "output_type": "display_data"
    }
   ],
   "source": [
    "tracks = filter_tracks_by_genre(\"Pop Latino\")\n",
    "display(tracks)"
   ]
  },
  {
   "cell_type": "code",
   "execution_count": 43,
   "metadata": {},
   "outputs": [
    {
     "name": "stdout",
     "output_type": "stream",
     "text": [
      "List Of Albums Labeled As Pop Latino Along With Associated Artists: \n",
      "** Despacito (feat. Daddy Yankee) - Single\n",
      "   1 - Luis Fonsi\n"
     ]
    }
   ],
   "source": [
    "display_album_artist_by_genre(\"Pop Latino\")"
   ]
  },
  {
   "cell_type": "code",
   "execution_count": 44,
   "metadata": {},
   "outputs": [],
   "source": [
    "relabel_album_genre(\"Despacito (feat. Daddy Yankee) - Single\", \"Pop\")"
   ]
  },
  {
   "cell_type": "markdown",
   "metadata": {},
   "source": [
    "## EDM"
   ]
  },
  {
   "cell_type": "code",
   "execution_count": 45,
   "metadata": {},
   "outputs": [
    {
     "data": {
      "text/html": [
       "<div>\n",
       "<style scoped>\n",
       "    .dataframe tbody tr th:only-of-type {\n",
       "        vertical-align: middle;\n",
       "    }\n",
       "\n",
       "    .dataframe tbody tr th {\n",
       "        vertical-align: top;\n",
       "    }\n",
       "\n",
       "    .dataframe thead th {\n",
       "        text-align: right;\n",
       "    }\n",
       "</style>\n",
       "<table border=\"1\" class=\"dataframe\">\n",
       "  <thead>\n",
       "    <tr style=\"text-align: right;\">\n",
       "      <th></th>\n",
       "      <th>Track ID</th>\n",
       "      <th>Name</th>\n",
       "      <th>Artist</th>\n",
       "      <th>Album</th>\n",
       "      <th>Genre</th>\n",
       "      <th>Location</th>\n",
       "      <th>Kind</th>\n",
       "      <th>Size</th>\n",
       "      <th>Total Time</th>\n",
       "    </tr>\n",
       "  </thead>\n",
       "  <tbody>\n",
       "    <tr>\n",
       "      <th>464</th>\n",
       "      <td>1140</td>\n",
       "      <td>Stay With Me</td>\n",
       "      <td>Diamond Eyes &amp; Christina Grimmie</td>\n",
       "      <td>Stay With Me - Single</td>\n",
       "      <td>EDM</td>\n",
       "      <td>file:///Users/AlwynLopez/Music/iTunes/iTunes%2...</td>\n",
       "      <td>MPEG audio file</td>\n",
       "      <td>7370843</td>\n",
       "      <td>243800</td>\n",
       "    </tr>\n",
       "  </tbody>\n",
       "</table>\n",
       "</div>"
      ],
      "text/plain": [
       "     Track ID          Name                            Artist  \\\n",
       "464      1140  Stay With Me  Diamond Eyes & Christina Grimmie   \n",
       "\n",
       "                     Album Genre  \\\n",
       "464  Stay With Me - Single   EDM   \n",
       "\n",
       "                                              Location             Kind  \\\n",
       "464  file:///Users/AlwynLopez/Music/iTunes/iTunes%2...  MPEG audio file   \n",
       "\n",
       "        Size  Total Time  \n",
       "464  7370843      243800  "
      ]
     },
     "metadata": {},
     "output_type": "display_data"
    }
   ],
   "source": [
    "tracks = filter_tracks_by_genre(\"EDM\")\n",
    "display(tracks)"
   ]
  },
  {
   "cell_type": "markdown",
   "metadata": {},
   "source": [
    "There is only one track that has the genre 'EDM' so to make things simple, let us relabel it as \"Pop\"."
   ]
  },
  {
   "cell_type": "code",
   "execution_count": 46,
   "metadata": {},
   "outputs": [
    {
     "name": "stdout",
     "output_type": "stream",
     "text": [
      "List Of Albums Labeled As EDM Along With Associated Artists: \n",
      "** Stay With Me - Single\n",
      "   1 - Diamond Eyes & Christina Grimmie\n"
     ]
    }
   ],
   "source": [
    "display_album_artist_by_genre(\"EDM\")"
   ]
  },
  {
   "cell_type": "code",
   "execution_count": 47,
   "metadata": {},
   "outputs": [],
   "source": [
    "relabel_album_genre(\"Stay With Me - Single\", \"Pop\")"
   ]
  },
  {
   "cell_type": "markdown",
   "metadata": {},
   "source": [
    "# Genre Distribution (Post - Reclassification)"
   ]
  },
  {
   "cell_type": "code",
   "execution_count": 48,
   "metadata": {},
   "outputs": [
    {
     "data": {
      "image/png": "[encoded data removed]",
      "text/plain": [
       "<Figure size 1080x720 with 1 Axes>"
      ]
     },
     "metadata": {
      "needs_background": "light"
     },
     "output_type": "display_data"
    },
    {
     "data": {
      "text/plain": [
       "Pop           266\n",
       "Rock          252\n",
       "Soundtrack    170\n",
       "Hip-Hop        97\n",
       "Jazz           94\n",
       "Name: Genre, dtype: int64"
      ]
     },
     "execution_count": 48,
     "metadata": {},
     "output_type": "execute_result"
    }
   ],
   "source": [
    "music_genre_counter = my_music_metadata_df['Genre'].value_counts()\n",
    "music_genre_counter.plot(\n",
    "    kind='barh', \n",
    "    figsize=(15,10), \n",
    "    color='lightblue', \n",
    "    title='Music Genres (After Relabelling)'\n",
    ")\n",
    "plt.show()\n",
    "my_music_metadata_df.Genre.value_counts()"
   ]
  }
 ],
 "metadata": {
  "kernelspec": {
   "display_name": "Python 3",
   "language": "python",
   "name": "python3"
  },
  "language_info": {
   "codemirror_mode": {
    "name": "ipython",
    "version": 3
   },
   "file_extension": ".py",
   "mimetype": "text/x-python",
   "name": "python",
   "nbconvert_exporter": "python",
   "pygments_lexer": "ipython3",
   "version": "3.7.4"
  }
 },
 "nbformat": 4,
 "nbformat_minor": 4
}
